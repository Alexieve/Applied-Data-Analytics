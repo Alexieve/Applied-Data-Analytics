{
 "cells": [
  {
   "cell_type": "markdown",
   "metadata": {},
   "source": [
    "<div style=\"text-align: center; background-color: #750E21; font-family: 'Trebuchet MS', Arial, sans-serif; color: white; padding: 20px; font-size: 40px; font-weight: bold; border-radius: 0 0 0 0; box-shadow: 0px 6px 8px rgba(0, 0, 0, 0.2);\">\n",
    "  PROJECT: ... 📌\n",
    "</div>"
   ]
  },
  {
   "cell_type": "markdown",
   "metadata": {},
   "source": [
    "<div style=\"text-align: center; background-color: #0766AD; font-family: 'Trebuchet MS', Arial, sans-serif; color: white; padding: 20px; font-size: 40px; font-weight: bold; border-radius: 0 0 0 0; box-shadow: 0px 6px 8px rgba(0, 0, 0, 0.2);\">\n",
    "  Stage 2 - Exploratory Data Analysis 📌\n",
    "</div>"
   ]
  },
  {
   "cell_type": "markdown",
   "metadata": {},
   "source": [
    "## **IMPORT LIBRARY** 🎄"
   ]
  },
  {
   "cell_type": "code",
   "execution_count": 2,
   "metadata": {},
   "outputs": [],
   "source": [
    "import numpy as np\n",
    "import pandas as pd\n",
    "import matplotlib.pyplot as plt\n",
    "import seaborn as sns"
   ]
  },
  {
   "cell_type": "markdown",
   "metadata": {},
   "source": [
    "## **EXPLORING DATA** 📝"
   ]
  },
  {
   "cell_type": "markdown",
   "metadata": {},
   "source": [
    "<div style=\"text-align: left; font-family: 'Trebuchet MS', Arial, sans-serif; color: #FF90BC; padding: 20px; font-size: 28px; font-weight: bold; border-radius: 0 0 0 0\">\n",
    "  BƯỚC 1: Đọc dữ liệu đã được tiền xử lý 🔥\n",
    "</div>"
   ]
  },
  {
   "cell_type": "code",
   "execution_count": 3,
   "metadata": {},
   "outputs": [
    {
     "data": {
      "text/html": [
       "<div>\n",
       "<style scoped>\n",
       "    .dataframe tbody tr th:only-of-type {\n",
       "        vertical-align: middle;\n",
       "    }\n",
       "\n",
       "    .dataframe tbody tr th {\n",
       "        vertical-align: top;\n",
       "    }\n",
       "\n",
       "    .dataframe thead th {\n",
       "        text-align: right;\n",
       "    }\n",
       "</style>\n",
       "<table border=\"1\" class=\"dataframe\">\n",
       "  <thead>\n",
       "    <tr style=\"text-align: right;\">\n",
       "      <th></th>\n",
       "      <th>Ad Topic Line</th>\n",
       "      <th>Area Income</th>\n",
       "      <th>Male</th>\n",
       "      <th>Age</th>\n",
       "      <th>Daily Time Spent on Site</th>\n",
       "      <th>Daily Internet Usage</th>\n",
       "      <th>City</th>\n",
       "      <th>Country</th>\n",
       "      <th>Clicked on Ad</th>\n",
       "      <th>Timestamp</th>\n",
       "    </tr>\n",
       "  </thead>\n",
       "  <tbody>\n",
       "    <tr>\n",
       "      <th>0</th>\n",
       "      <td>Cloned 5thgeneration orchestration</td>\n",
       "      <td>61833.90</td>\n",
       "      <td>0</td>\n",
       "      <td>35</td>\n",
       "      <td>68.95</td>\n",
       "      <td>256.09</td>\n",
       "      <td>Wrightburgh</td>\n",
       "      <td>Tunisia</td>\n",
       "      <td>0</td>\n",
       "      <td>2016-03-27 00:53:00</td>\n",
       "    </tr>\n",
       "    <tr>\n",
       "      <th>1</th>\n",
       "      <td>Monitored national standardization</td>\n",
       "      <td>68441.85</td>\n",
       "      <td>1</td>\n",
       "      <td>31</td>\n",
       "      <td>80.23</td>\n",
       "      <td>193.77</td>\n",
       "      <td>West Jodi</td>\n",
       "      <td>Nauru</td>\n",
       "      <td>0</td>\n",
       "      <td>2016-04-04 01:39:00</td>\n",
       "    </tr>\n",
       "    <tr>\n",
       "      <th>2</th>\n",
       "      <td>Organic bottom-line service-desk</td>\n",
       "      <td>59785.94</td>\n",
       "      <td>0</td>\n",
       "      <td>26</td>\n",
       "      <td>69.47</td>\n",
       "      <td>236.50</td>\n",
       "      <td>Davidton</td>\n",
       "      <td>San Marino</td>\n",
       "      <td>0</td>\n",
       "      <td>2016-03-13 20:35:00</td>\n",
       "    </tr>\n",
       "    <tr>\n",
       "      <th>3</th>\n",
       "      <td>Triple-buffered reciprocal time-frame</td>\n",
       "      <td>54806.18</td>\n",
       "      <td>1</td>\n",
       "      <td>29</td>\n",
       "      <td>74.15</td>\n",
       "      <td>245.89</td>\n",
       "      <td>West Terrifurt</td>\n",
       "      <td>Italy</td>\n",
       "      <td>0</td>\n",
       "      <td>2016-10-01 02:31:00</td>\n",
       "    </tr>\n",
       "    <tr>\n",
       "      <th>4</th>\n",
       "      <td>Robust logistical utilization</td>\n",
       "      <td>73889.99</td>\n",
       "      <td>0</td>\n",
       "      <td>35</td>\n",
       "      <td>68.37</td>\n",
       "      <td>225.58</td>\n",
       "      <td>South Manuel</td>\n",
       "      <td>Iceland</td>\n",
       "      <td>0</td>\n",
       "      <td>2016-03-06 03:36:00</td>\n",
       "    </tr>\n",
       "    <tr>\n",
       "      <th>5</th>\n",
       "      <td>Sharable client-driven software</td>\n",
       "      <td>59761.56</td>\n",
       "      <td>1</td>\n",
       "      <td>23</td>\n",
       "      <td>59.99</td>\n",
       "      <td>226.74</td>\n",
       "      <td>Jamieberg</td>\n",
       "      <td>Norway</td>\n",
       "      <td>0</td>\n",
       "      <td>2016-05-19 14:30:00</td>\n",
       "    </tr>\n",
       "    <tr>\n",
       "      <th>6</th>\n",
       "      <td>Enhanced dedicated support</td>\n",
       "      <td>53852.85</td>\n",
       "      <td>0</td>\n",
       "      <td>33</td>\n",
       "      <td>88.91</td>\n",
       "      <td>208.36</td>\n",
       "      <td>Brandonstad</td>\n",
       "      <td>Myanmar</td>\n",
       "      <td>0</td>\n",
       "      <td>2016-01-28 20:59:00</td>\n",
       "    </tr>\n",
       "    <tr>\n",
       "      <th>7</th>\n",
       "      <td>Reactive local challenge</td>\n",
       "      <td>24593.33</td>\n",
       "      <td>1</td>\n",
       "      <td>48</td>\n",
       "      <td>66.00</td>\n",
       "      <td>131.76</td>\n",
       "      <td>Port Jefferybury</td>\n",
       "      <td>Australia</td>\n",
       "      <td>1</td>\n",
       "      <td>2016-07-03 01:40:00</td>\n",
       "    </tr>\n",
       "    <tr>\n",
       "      <th>8</th>\n",
       "      <td>Configurable coherent function</td>\n",
       "      <td>68862.00</td>\n",
       "      <td>1</td>\n",
       "      <td>30</td>\n",
       "      <td>74.53</td>\n",
       "      <td>221.51</td>\n",
       "      <td>West Colin</td>\n",
       "      <td>Grenada</td>\n",
       "      <td>0</td>\n",
       "      <td>2016-04-18 09:33:00</td>\n",
       "    </tr>\n",
       "    <tr>\n",
       "      <th>9</th>\n",
       "      <td>Mandatory homogeneous architecture</td>\n",
       "      <td>55642.32</td>\n",
       "      <td>1</td>\n",
       "      <td>20</td>\n",
       "      <td>69.88</td>\n",
       "      <td>183.82</td>\n",
       "      <td>Ramirezton</td>\n",
       "      <td>Ghana</td>\n",
       "      <td>0</td>\n",
       "      <td>2016-11-07 01:42:00</td>\n",
       "    </tr>\n",
       "  </tbody>\n",
       "</table>\n",
       "</div>"
      ],
      "text/plain": [
       "                           Ad Topic Line  Area Income  Male  Age  \\\n",
       "0     Cloned 5thgeneration orchestration     61833.90     0   35   \n",
       "1     Monitored national standardization     68441.85     1   31   \n",
       "2       Organic bottom-line service-desk     59785.94     0   26   \n",
       "3  Triple-buffered reciprocal time-frame     54806.18     1   29   \n",
       "4          Robust logistical utilization     73889.99     0   35   \n",
       "5        Sharable client-driven software     59761.56     1   23   \n",
       "6             Enhanced dedicated support     53852.85     0   33   \n",
       "7               Reactive local challenge     24593.33     1   48   \n",
       "8         Configurable coherent function     68862.00     1   30   \n",
       "9     Mandatory homogeneous architecture     55642.32     1   20   \n",
       "\n",
       "   Daily Time Spent on Site  Daily Internet Usage              City  \\\n",
       "0                     68.95                256.09       Wrightburgh   \n",
       "1                     80.23                193.77         West Jodi   \n",
       "2                     69.47                236.50          Davidton   \n",
       "3                     74.15                245.89    West Terrifurt   \n",
       "4                     68.37                225.58      South Manuel   \n",
       "5                     59.99                226.74         Jamieberg   \n",
       "6                     88.91                208.36       Brandonstad   \n",
       "7                     66.00                131.76  Port Jefferybury   \n",
       "8                     74.53                221.51        West Colin   \n",
       "9                     69.88                183.82        Ramirezton   \n",
       "\n",
       "      Country  Clicked on Ad            Timestamp  \n",
       "0     Tunisia              0  2016-03-27 00:53:00  \n",
       "1       Nauru              0  2016-04-04 01:39:00  \n",
       "2  San Marino              0  2016-03-13 20:35:00  \n",
       "3       Italy              0  2016-10-01 02:31:00  \n",
       "4     Iceland              0  2016-03-06 03:36:00  \n",
       "5      Norway              0  2016-05-19 14:30:00  \n",
       "6     Myanmar              0  2016-01-28 20:59:00  \n",
       "7   Australia              1  2016-07-03 01:40:00  \n",
       "8     Grenada              0  2016-04-18 09:33:00  \n",
       "9       Ghana              0  2016-11-07 01:42:00  "
      ]
     },
     "execution_count": 3,
     "metadata": {},
     "output_type": "execute_result"
    }
   ],
   "source": [
    "df = pd.read_csv('../../Data/2425_QC_cleaned.csv')\n",
    "df.head(10)"
   ]
  },
  {
   "cell_type": "markdown",
   "metadata": {},
   "source": [
    "<div style=\"text-align: left; font-family: 'Trebuchet MS', Arial, sans-serif; color: #FF90BC; padding: 20px; font-size: 28px; font-weight: bold; border-radius: 0 0 0 0\">\n",
    "  BƯỚC 2: Phân tích các cột dữ liệu số sử dụng Descriptive Statistics 🔥\n",
    "</div>"
   ]
  },
  {
   "cell_type": "markdown",
   "metadata": {},
   "source": [
    "Descriptive Statistics cho thấy các đặc điểm của các cột dữ liệu số. Nó cho chúng ta thấy những thông tin như:\n",
    "- Mean (Giá trị trung bình)\n",
    "- Median (Giá trị trung vị)\n",
    "- Mode (Giá trị yếu vị)\n",
    "- Quantiles (Các phân vị): Quartiles (Tứ phân vị)\n",
    "- Range và IQR (Interquartile Range)\n",
    "- Variance (Phương sai) và Standard deviation (Độ lệch chuẩn)\n",
    "- Coefficient of Variation (Hệ số biến thiên)\n",
    "- Skewness (Độ lệch)\n",
    "- Standard Error (Sai số chuẩn)\n",
    "- Correlation (Hệ số tương quan)"
   ]
  },
  {
   "cell_type": "code",
   "execution_count": null,
   "metadata": {},
   "outputs": [
    {
     "data": {
      "text/html": [
       "<div>\n",
       "<style scoped>\n",
       "    .dataframe tbody tr th:only-of-type {\n",
       "        vertical-align: middle;\n",
       "    }\n",
       "\n",
       "    .dataframe tbody tr th {\n",
       "        vertical-align: top;\n",
       "    }\n",
       "\n",
       "    .dataframe thead th {\n",
       "        text-align: right;\n",
       "    }\n",
       "</style>\n",
       "<table border=\"1\" class=\"dataframe\">\n",
       "  <thead>\n",
       "    <tr style=\"text-align: right;\">\n",
       "      <th></th>\n",
       "      <th>Area Income</th>\n",
       "      <th>Age</th>\n",
       "      <th>Daily Time Spent on Site</th>\n",
       "      <th>Daily Internet Usage</th>\n",
       "    </tr>\n",
       "  </thead>\n",
       "  <tbody>\n",
       "    <tr>\n",
       "      <th>count</th>\n",
       "      <td>1000.000000</td>\n",
       "      <td>1000.000000</td>\n",
       "      <td>1000.000000</td>\n",
       "      <td>1000.000000</td>\n",
       "    </tr>\n",
       "    <tr>\n",
       "      <th>mean</th>\n",
       "      <td>55025.321364</td>\n",
       "      <td>36.018000</td>\n",
       "      <td>65.000200</td>\n",
       "      <td>180.000100</td>\n",
       "    </tr>\n",
       "    <tr>\n",
       "      <th>std</th>\n",
       "      <td>13343.228619</td>\n",
       "      <td>8.779907</td>\n",
       "      <td>15.853615</td>\n",
       "      <td>43.902339</td>\n",
       "    </tr>\n",
       "    <tr>\n",
       "      <th>min</th>\n",
       "      <td>19373.553750</td>\n",
       "      <td>19.000000</td>\n",
       "      <td>32.600000</td>\n",
       "      <td>104.780000</td>\n",
       "    </tr>\n",
       "    <tr>\n",
       "      <th>25%</th>\n",
       "      <td>47031.802500</td>\n",
       "      <td>29.000000</td>\n",
       "      <td>51.360000</td>\n",
       "      <td>138.830000</td>\n",
       "    </tr>\n",
       "    <tr>\n",
       "      <th>50%</th>\n",
       "      <td>57012.300000</td>\n",
       "      <td>35.000000</td>\n",
       "      <td>68.215000</td>\n",
       "      <td>183.130000</td>\n",
       "    </tr>\n",
       "    <tr>\n",
       "      <th>75%</th>\n",
       "      <td>65470.635000</td>\n",
       "      <td>42.000000</td>\n",
       "      <td>78.547500</td>\n",
       "      <td>218.792500</td>\n",
       "    </tr>\n",
       "    <tr>\n",
       "      <th>max</th>\n",
       "      <td>79484.800000</td>\n",
       "      <td>61.000000</td>\n",
       "      <td>91.430000</td>\n",
       "      <td>269.960000</td>\n",
       "    </tr>\n",
       "  </tbody>\n",
       "</table>\n",
       "</div>"
      ],
      "text/plain": [
       "        Area Income          Age  Daily Time Spent on Site  \\\n",
       "count   1000.000000  1000.000000               1000.000000   \n",
       "mean   55025.321364    36.018000                 65.000200   \n",
       "std    13343.228619     8.779907                 15.853615   \n",
       "min    19373.553750    19.000000                 32.600000   \n",
       "25%    47031.802500    29.000000                 51.360000   \n",
       "50%    57012.300000    35.000000                 68.215000   \n",
       "75%    65470.635000    42.000000                 78.547500   \n",
       "max    79484.800000    61.000000                 91.430000   \n",
       "\n",
       "       Daily Internet Usage  \n",
       "count           1000.000000  \n",
       "mean             180.000100  \n",
       "std               43.902339  \n",
       "min              104.780000  \n",
       "25%              138.830000  \n",
       "50%              183.130000  \n",
       "75%              218.792500  \n",
       "max              269.960000  "
      ]
     },
     "execution_count": 4,
     "metadata": {},
     "output_type": "execute_result"
    }
   ],
   "source": [
    "numerical_columns = ['Area Income',\t'Age', 'Daily Time Spent on Site', 'Daily Internet Usage']\n",
    "df_copy = df[numerical_columns].copy()\n",
    "df_copy.describe()"
   ]
  },
  {
   "cell_type": "markdown",
   "metadata": {},
   "source": [
    "📊 `Trực quan hoá phân phối`"
   ]
  },
  {
   "cell_type": "code",
   "execution_count": null,
   "metadata": {},
   "outputs": [
    {
     "data": {
      "image/png": "[encoded data removed]",
      "text/plain": [
       "<Figure size 1200x800 with 4 Axes>"
      ]
     },
     "metadata": {},
     "output_type": "display_data"
    }
   ],
   "source": [
    "# Create subplots - 2 rows, 2 columns for 4 features\n",
    "fig, axes = plt.subplots(2, 2, figsize=(12, 8))  # Adjusting the figure size and grid layout\n",
    "\n",
    "# Flatten axes for easy iteration\n",
    "axes = axes.flatten()\n",
    "\n",
    "# Plot each numerical feature in a separate subplot\n",
    "for i, col in enumerate(numerical_columns):\n",
    "    sns.histplot(df[col], kde=True, ax=axes[i])  # Plot histogram and KDE in the i-th subplot\n",
    "    axes[i].set_title(f'Distribution of {col}')  # Set title for each subplot\n",
    "\n",
    "# Adjust layout to prevent overlap\n",
    "plt.tight_layout()\n",
    "\n",
    "# Show the combined plot\n",
    "plt.show()\n"
   ]
  },
  {
   "cell_type": "markdown",
   "metadata": {},
   "source": [
    "📏 `Tính toán độ lệch (skewness)`"
   ]
  },
  {
   "cell_type": "code",
   "execution_count": null,
   "metadata": {},
   "outputs": [
    {
     "data": {
      "text/plain": [
       "Area Income                -0.620982\n",
       "Age                         0.478471\n",
       "Daily Time Spent on Site   -0.371760\n",
       "Daily Internet Usage       -0.033537\n",
       "dtype: float64"
      ]
     },
     "metadata": {},
     "output_type": "display_data"
    }
   ],
   "source": [
    "skewness = df[numerical_columns].skew()\n",
    "skewness"
   ]
  },
  {
   "cell_type": "markdown",
   "metadata": {},
   "source": [
    "📈`NHẬN XÉT:`\n",
    "- Dựa vào kết quả phân tích ở trên, chúng ta có thể thấy rẳng các giá trị `Daily Time Spent on Site`, `Area Income`, `Age`, có xu hướng phân bố không đồng đều, một ví dụ điển hình là có đuôi dài hơ.\n",
    "\n",
    "- Trong khi đó, giá trị `Daily Internet Usage` được phân bố khá đồng đều và chỉ lõm ở một phần nhỏ ở giữa biểu đồ. \n",
    "\n",
    "- Ngoài ra, kết quả tính toán độ lệch (skewness) cũng cho thấy `Daily Internet Usage` có giá trị độ lệch gần nhất với 0, trong khi `Daily Time Spent on Site`, `Age` và `Area Income` rất xa 0."
   ]
  },
  {
   "cell_type": "markdown",
   "metadata": {},
   "source": [
    "### **Quan sát** 💬"
   ]
  },
  {
   "cell_type": "markdown",
   "metadata": {},
   "source": [
    "Mọi số liệu thống kê đều ổn định và không gặp bất cứ vấn đề gì."
   ]
  },
  {
   "cell_type": "markdown",
   "metadata": {},
   "source": [
    "<div style=\"text-align: left; font-family: 'Trebuchet MS', Arial, sans-serif; color: #FF90BC; padding: 20px; font-size: 28px; font-weight: bold; border-radius: 0 0 0 0\">\n",
    "BƯỚC 3: Phân tích đơn biến trong các cột dữ liệu số 🔥\n",
    "</div>"
   ]
  },
  {
   "cell_type": "markdown",
   "metadata": {},
   "source": [
    "## **Question 1** 🔔"
   ]
  },
  {
   "cell_type": "markdown",
   "metadata": {},
   "source": [
    "❓  **Câu hỏi đề ra:** ...\n",
    "\n",
    "✅  **Mục đích của việc trả lời câu hỏi** ...\n",
    "\n",
    "💡  **Cách để tìm ra câu trả lời**: ..."
   ]
  },
  {
   "cell_type": "markdown",
   "metadata": {},
   "source": [
    "### **Phân tích để đưa ra câu trả lời** 📝"
   ]
  },
  {
   "cell_type": "markdown",
   "metadata": {},
   "source": [
    "**Bước 1**: ..."
   ]
  },
  {
   "cell_type": "markdown",
   "metadata": {},
   "source": [
    "**Bước 2**: ..."
   ]
  },
  {
   "cell_type": "markdown",
   "metadata": {},
   "source": [
    "### **Quan sát** 💬\n",
    "- ..."
   ]
  },
  {
   "cell_type": "markdown",
   "metadata": {},
   "source": [
    "## **Question 2** 🔔"
   ]
  },
  {
   "cell_type": "markdown",
   "metadata": {},
   "source": [
    "❓  **Câu hỏi đề ra:** ...\n",
    "\n",
    "✅  **Mục đích của việc trả lời câu hỏi** ...\n",
    "\n",
    "💡  **Cách để tìm ra câu trả lời**: ..."
   ]
  },
  {
   "cell_type": "markdown",
   "metadata": {},
   "source": [
    "### **Phân tích để đưa ra câu trả lời** 📝"
   ]
  },
  {
   "cell_type": "markdown",
   "metadata": {},
   "source": [
    "**Bước 1**: ..."
   ]
  },
  {
   "cell_type": "markdown",
   "metadata": {},
   "source": [
    "**Bước 2**: ..."
   ]
  },
  {
   "cell_type": "markdown",
   "metadata": {},
   "source": [
    "### **Quan sát** 💬\n",
    "- ..."
   ]
  },
  {
   "cell_type": "markdown",
   "metadata": {},
   "source": [
    "## **Question 3** 🔔"
   ]
  },
  {
   "cell_type": "markdown",
   "metadata": {},
   "source": [
    "❓  **Câu hỏi đề ra:** ...\n",
    "\n",
    "✅  **Mục đích của việc trả lời câu hỏi** ...\n",
    "\n",
    "💡  **Cách để tìm ra câu trả lời**: ..."
   ]
  },
  {
   "cell_type": "markdown",
   "metadata": {},
   "source": [
    "### **Phân tích để đưa ra câu trả lời** 📝"
   ]
  },
  {
   "cell_type": "markdown",
   "metadata": {},
   "source": [
    "**Bước 1**: ..."
   ]
  },
  {
   "cell_type": "markdown",
   "metadata": {},
   "source": [
    "**Bước 2**: ..."
   ]
  },
  {
   "cell_type": "markdown",
   "metadata": {},
   "source": [
    "### **Quan sát** 💬\n",
    "- ..."
   ]
  },
  {
   "cell_type": "markdown",
   "metadata": {},
   "source": [
    "## **Question 4** 🔔"
   ]
  },
  {
   "cell_type": "markdown",
   "metadata": {},
   "source": [
    "❓  **Câu hỏi đề ra:** ...\n",
    "\n",
    "✅  **Mục đích của việc trả lời câu hỏi** ...\n",
    "\n",
    "💡  **Cách để tìm ra câu trả lời**: ..."
   ]
  },
  {
   "cell_type": "markdown",
   "metadata": {},
   "source": [
    "### **Phân tích để đưa ra câu trả lời** 📝"
   ]
  },
  {
   "cell_type": "markdown",
   "metadata": {},
   "source": [
    "**Bước 1**: ..."
   ]
  },
  {
   "cell_type": "markdown",
   "metadata": {},
   "source": [
    "**Bước 2**: ..."
   ]
  },
  {
   "cell_type": "markdown",
   "metadata": {},
   "source": [
    "### **Quan sát** 💬\n",
    "- ..."
   ]
  },
  {
   "cell_type": "markdown",
   "metadata": {},
   "source": [
    "## **Question 5** 🔔"
   ]
  },
  {
   "cell_type": "markdown",
   "metadata": {},
   "source": [
    "❓  **Câu hỏi đề ra:** ...\n",
    "\n",
    "✅  **Mục đích của việc trả lời câu hỏi** ...\n",
    "\n",
    "💡  **Cách để tìm ra câu trả lời**: ..."
   ]
  },
  {
   "cell_type": "markdown",
   "metadata": {},
   "source": [
    "### **Phân tích để đưa ra câu trả lời** 📝"
   ]
  },
  {
   "cell_type": "markdown",
   "metadata": {},
   "source": [
    "**Bước 1**: ..."
   ]
  },
  {
   "cell_type": "markdown",
   "metadata": {},
   "source": [
    "**Bước 2**: ..."
   ]
  },
  {
   "cell_type": "markdown",
   "metadata": {},
   "source": [
    "### **Quan sát** 💬\n",
    "- ..."
   ]
  },
  {
   "cell_type": "markdown",
   "metadata": {},
   "source": [
    "## **Question 6** 🔔"
   ]
  },
  {
   "cell_type": "markdown",
   "metadata": {},
   "source": [
    "❓  **Câu hỏi đề ra:** ...\n",
    "\n",
    "✅  **Mục đích của việc trả lời câu hỏi** ...\n",
    "\n",
    "💡  **Cách để tìm ra câu trả lời**: ..."
   ]
  },
  {
   "cell_type": "markdown",
   "metadata": {},
   "source": [
    "### **Phân tích để đưa ra câu trả lời** 📝"
   ]
  },
  {
   "cell_type": "markdown",
   "metadata": {},
   "source": [
    "**Bước 1**: ..."
   ]
  },
  {
   "cell_type": "markdown",
   "metadata": {},
   "source": [
    "**Bước 2**: ..."
   ]
  },
  {
   "cell_type": "markdown",
   "metadata": {},
   "source": [
    "### **Quan sát** 💬\n",
    "- ..."
   ]
  },
  {
   "cell_type": "markdown",
   "metadata": {},
   "source": [
    "<div style=\"text-align: left; font-family: 'Trebuchet MS', Arial, sans-serif; color: #FF90BC; padding: 20px; font-size: 28px; font-weight: bold; border-radius: 0 0 0 0\">\n",
    "BƯỚC 4: Mô tả mối tương quan giữa các cột trong tập dữ liệu 🔥\n",
    "</div>"
   ]
  },
  {
   "cell_type": "markdown",
   "metadata": {},
   "source": [
    "Bây giờ chúng ta sẽ xem xét các cột dữ liệu có sẵn trong tập dữ liệu để xác định và phân tích mối quan hệ giữa chúng. Sau đó là xác định những cột dữ liệu nào trong tập dữ liệu đóng góp đáng kể cho mục tiêu của chúng ta.  \n",
    "\n",
    "Bằng cách tính toán và trực quan hóa, Python cho phép chúng ta tạo ma trận tương quan, đây là bảng biểu thị các hệ số tương quan giữa các biến khác nhau."
   ]
  },
  {
   "cell_type": "markdown",
   "metadata": {},
   "source": [
    "### **Ma trận tương quan**"
   ]
  },
  {
   "cell_type": "code",
   "execution_count": 12,
   "metadata": {},
   "outputs": [
    {
     "data": {
      "image/png": "[encoded data removed]",
      "text/plain": [
       "<Figure size 600x600 with 2 Axes>"
      ]
     },
     "metadata": {},
     "output_type": "display_data"
    }
   ],
   "source": [
    "df_copy = df.select_dtypes(include='number')\n",
    "# Plot a correlation matrix\n",
    "fig, ax = plt.subplots(figsize=(6,6))\n",
    "sns.heatmap(df_copy.corr(), cmap='RdBu', center=0,ax=ax)\n",
    "plt.show()"
   ]
  },
  {
   "cell_type": "markdown",
   "metadata": {},
   "source": [
    "### **Bảng hệ số tương quan**"
   ]
  },
  {
   "cell_type": "code",
   "execution_count": 8,
   "metadata": {},
   "outputs": [
    {
     "data": {
      "text/html": [
       "<div>\n",
       "<style scoped>\n",
       "    .dataframe tbody tr th:only-of-type {\n",
       "        vertical-align: middle;\n",
       "    }\n",
       "\n",
       "    .dataframe tbody tr th {\n",
       "        vertical-align: top;\n",
       "    }\n",
       "\n",
       "    .dataframe thead th {\n",
       "        text-align: right;\n",
       "    }\n",
       "</style>\n",
       "<table border=\"1\" class=\"dataframe\">\n",
       "  <thead>\n",
       "    <tr style=\"text-align: right;\">\n",
       "      <th></th>\n",
       "      <th>Area Income</th>\n",
       "      <th>Male</th>\n",
       "      <th>Age</th>\n",
       "      <th>Daily Time Spent on Site</th>\n",
       "      <th>Daily Internet Usage</th>\n",
       "      <th>Clicked on Ad</th>\n",
       "    </tr>\n",
       "  </thead>\n",
       "  <tbody>\n",
       "    <tr>\n",
       "      <th>Area Income</th>\n",
       "      <td>1.000000</td>\n",
       "      <td>0.002524</td>\n",
       "      <td>-0.184454</td>\n",
       "      <td>0.312198</td>\n",
       "      <td>0.339280</td>\n",
       "      <td>-0.476905</td>\n",
       "    </tr>\n",
       "    <tr>\n",
       "      <th>Male</th>\n",
       "      <td>0.002524</td>\n",
       "      <td>1.000000</td>\n",
       "      <td>-0.022045</td>\n",
       "      <td>-0.018951</td>\n",
       "      <td>0.028012</td>\n",
       "      <td>-0.038027</td>\n",
       "    </tr>\n",
       "    <tr>\n",
       "      <th>Age</th>\n",
       "      <td>-0.184454</td>\n",
       "      <td>-0.022045</td>\n",
       "      <td>1.000000</td>\n",
       "      <td>-0.333021</td>\n",
       "      <td>-0.367484</td>\n",
       "      <td>0.493874</td>\n",
       "    </tr>\n",
       "    <tr>\n",
       "      <th>Daily Time Spent on Site</th>\n",
       "      <td>0.312198</td>\n",
       "      <td>-0.018951</td>\n",
       "      <td>-0.333021</td>\n",
       "      <td>1.000000</td>\n",
       "      <td>0.518658</td>\n",
       "      <td>-0.748117</td>\n",
       "    </tr>\n",
       "    <tr>\n",
       "      <th>Daily Internet Usage</th>\n",
       "      <td>0.339280</td>\n",
       "      <td>0.028012</td>\n",
       "      <td>-0.367484</td>\n",
       "      <td>0.518658</td>\n",
       "      <td>1.000000</td>\n",
       "      <td>-0.786539</td>\n",
       "    </tr>\n",
       "    <tr>\n",
       "      <th>Clicked on Ad</th>\n",
       "      <td>-0.476905</td>\n",
       "      <td>-0.038027</td>\n",
       "      <td>0.493874</td>\n",
       "      <td>-0.748117</td>\n",
       "      <td>-0.786539</td>\n",
       "      <td>1.000000</td>\n",
       "    </tr>\n",
       "  </tbody>\n",
       "</table>\n",
       "</div>"
      ],
      "text/plain": [
       "                          Area Income      Male       Age  \\\n",
       "Area Income                  1.000000  0.002524 -0.184454   \n",
       "Male                         0.002524  1.000000 -0.022045   \n",
       "Age                         -0.184454 -0.022045  1.000000   \n",
       "Daily Time Spent on Site     0.312198 -0.018951 -0.333021   \n",
       "Daily Internet Usage         0.339280  0.028012 -0.367484   \n",
       "Clicked on Ad               -0.476905 -0.038027  0.493874   \n",
       "\n",
       "                          Daily Time Spent on Site  Daily Internet Usage  \\\n",
       "Area Income                               0.312198              0.339280   \n",
       "Male                                     -0.018951              0.028012   \n",
       "Age                                      -0.333021             -0.367484   \n",
       "Daily Time Spent on Site                  1.000000              0.518658   \n",
       "Daily Internet Usage                      0.518658              1.000000   \n",
       "Clicked on Ad                            -0.748117             -0.786539   \n",
       "\n",
       "                          Clicked on Ad  \n",
       "Area Income                   -0.476905  \n",
       "Male                          -0.038027  \n",
       "Age                            0.493874  \n",
       "Daily Time Spent on Site      -0.748117  \n",
       "Daily Internet Usage          -0.786539  \n",
       "Clicked on Ad                  1.000000  "
      ]
     },
     "execution_count": 8,
     "metadata": {},
     "output_type": "execute_result"
    }
   ],
   "source": [
    "df_copy.corr()"
   ]
  },
  {
   "cell_type": "markdown",
   "metadata": {},
   "source": [
    "### **Quan sát** 💬\n",
    "- Có một vài cột dữ liệu có mỗi tương quan khá mạnh với những cột khác, điển hình như là `Clicked on Ad`, Daily `Time Spent on Site`, `Daily Internet Usage`.\n",
    "- Các cột khác như `Clicked on Ad`, `Area Income`, `Age`, có hệ số tương quan ở mức vừa phải.\n",
    "- Còn lại các cột khác thì có hệ số tương quan khá yếu."
   ]
  },
  {
   "cell_type": "markdown",
   "metadata": {},
   "source": [
    "there are some features that seem to have strong correlation with each other, namely `Like`, `View`, `Charted-duration`, `Most view per day`. Other features, in constrast, correlate quite weak."
   ]
  },
  {
   "cell_type": "markdown",
   "metadata": {},
   "source": [
    "<div style=\"text-align: left; font-family: 'Trebuchet MS', Arial, sans-serif; color: #FF90BC; padding: 20px; font-size: 28px; font-weight: bold; border-radius: 0 0 0 0\">\n",
    "BƯỚC 5: Phân tích hai biến trong tập dữ liệu 🔥\n",
    "</div>"
   ]
  },
  {
   "cell_type": "markdown",
   "metadata": {},
   "source": [
    "## **Question 1** 🔔"
   ]
  },
  {
   "cell_type": "markdown",
   "metadata": {},
   "source": [
    "❓  **Câu hỏi đề ra:** ...\n",
    "\n",
    "✅  **Mục đích của việc trả lời câu hỏi** ...\n",
    "\n",
    "💡  **Cách để tìm ra câu trả lời**: ..."
   ]
  },
  {
   "cell_type": "markdown",
   "metadata": {},
   "source": [
    "### **Phân tích để đưa ra câu trả lời** 📝"
   ]
  },
  {
   "cell_type": "markdown",
   "metadata": {},
   "source": [
    "**Bước 1**: ..."
   ]
  },
  {
   "cell_type": "markdown",
   "metadata": {},
   "source": [
    "**Bước 2**: ..."
   ]
  },
  {
   "cell_type": "markdown",
   "metadata": {},
   "source": [
    "### **Quan sát** 💬\n",
    "- ..."
   ]
  },
  {
   "cell_type": "markdown",
   "metadata": {},
   "source": [
    "## **Question 2** 🔔"
   ]
  },
  {
   "cell_type": "markdown",
   "metadata": {},
   "source": [
    "❓  **Câu hỏi đề ra:** ...\n",
    "\n",
    "✅  **Mục đích của việc trả lời câu hỏi** ...\n",
    "\n",
    "💡  **Cách để tìm ra câu trả lời**: ..."
   ]
  },
  {
   "cell_type": "markdown",
   "metadata": {},
   "source": [
    "### **Phân tích để đưa ra câu trả lời** 📝"
   ]
  },
  {
   "cell_type": "markdown",
   "metadata": {},
   "source": [
    "**Bước 1**: ..."
   ]
  },
  {
   "cell_type": "markdown",
   "metadata": {},
   "source": [
    "**Bước 2**: ..."
   ]
  },
  {
   "cell_type": "markdown",
   "metadata": {},
   "source": [
    "### **Quan sát** 💬\n",
    "- ..."
   ]
  },
  {
   "cell_type": "markdown",
   "metadata": {},
   "source": [
    "## **Question 3** 🔔"
   ]
  },
  {
   "cell_type": "markdown",
   "metadata": {},
   "source": [
    "❓  **Câu hỏi đề ra:** ...\n",
    "\n",
    "✅  **Mục đích của việc trả lời câu hỏi** ...\n",
    "\n",
    "💡  **Cách để tìm ra câu trả lời**: ..."
   ]
  },
  {
   "cell_type": "markdown",
   "metadata": {},
   "source": [
    "### **Phân tích để đưa ra câu trả lời** 📝"
   ]
  },
  {
   "cell_type": "markdown",
   "metadata": {},
   "source": [
    "**Bước 1**: ..."
   ]
  },
  {
   "cell_type": "markdown",
   "metadata": {},
   "source": [
    "**Bước 2**: ..."
   ]
  },
  {
   "cell_type": "markdown",
   "metadata": {},
   "source": [
    "### **Quan sát** 💬\n",
    "- ..."
   ]
  },
  {
   "cell_type": "markdown",
   "metadata": {},
   "source": [
    "## **Question 4** 🔔"
   ]
  },
  {
   "cell_type": "markdown",
   "metadata": {},
   "source": [
    "❓  **Câu hỏi đề ra:** ...\n",
    "\n",
    "✅  **Mục đích của việc trả lời câu hỏi** ...\n",
    "\n",
    "💡  **Cách để tìm ra câu trả lời**: ..."
   ]
  },
  {
   "cell_type": "markdown",
   "metadata": {},
   "source": [
    "### **Phân tích để đưa ra câu trả lời** 📝"
   ]
  },
  {
   "cell_type": "markdown",
   "metadata": {},
   "source": [
    "**Bước 1**: ..."
   ]
  },
  {
   "cell_type": "markdown",
   "metadata": {},
   "source": [
    "**Bước 2**: ..."
   ]
  },
  {
   "cell_type": "markdown",
   "metadata": {},
   "source": [
    "### **Quan sát** 💬\n",
    "- ..."
   ]
  },
  {
   "cell_type": "markdown",
   "metadata": {},
   "source": [
    "## **Question 5** 🔔"
   ]
  },
  {
   "cell_type": "markdown",
   "metadata": {},
   "source": [
    "❓  **Câu hỏi đề ra:** ...\n",
    "\n",
    "✅  **Mục đích của việc trả lời câu hỏi** ...\n",
    "\n",
    "💡  **Cách để tìm ra câu trả lời**: ..."
   ]
  },
  {
   "cell_type": "markdown",
   "metadata": {},
   "source": [
    "### **Phân tích để đưa ra câu trả lời** 📝"
   ]
  },
  {
   "cell_type": "markdown",
   "metadata": {},
   "source": [
    "**Bước 1**: ..."
   ]
  },
  {
   "cell_type": "markdown",
   "metadata": {},
   "source": [
    "**Bước 2**: ..."
   ]
  },
  {
   "cell_type": "markdown",
   "metadata": {},
   "source": [
    "### **Quan sát** 💬\n",
    "- ..."
   ]
  },
  {
   "cell_type": "markdown",
   "metadata": {},
   "source": [
    "## **Question 6** 🔔"
   ]
  },
  {
   "cell_type": "markdown",
   "metadata": {},
   "source": [
    "❓  **Câu hỏi đề ra:** ...\n",
    "\n",
    "✅  **Mục đích của việc trả lời câu hỏi** ...\n",
    "\n",
    "💡  **Cách để tìm ra câu trả lời**: ..."
   ]
  },
  {
   "cell_type": "markdown",
   "metadata": {},
   "source": [
    "### **Phân tích để đưa ra câu trả lời** 📝"
   ]
  },
  {
   "cell_type": "markdown",
   "metadata": {},
   "source": [
    "**Bước 1**: ..."
   ]
  },
  {
   "cell_type": "markdown",
   "metadata": {},
   "source": [
    "**Bước 2**: ..."
   ]
  },
  {
   "cell_type": "markdown",
   "metadata": {},
   "source": [
    "### **Quan sát** 💬\n",
    "- ..."
   ]
  },
  {
   "cell_type": "markdown",
   "metadata": {},
   "source": [
    "<div style=\"text-align: left; font-family: 'Trebuchet MS', Arial, sans-serif; color: #FF90BC; padding: 20px; font-size: 28px; font-weight: bold; border-radius: 0 0 0 0\">\n",
    "BƯỚC 6: Phân tích đa biến trong tập dữ liệu 🔥\n",
    "</div>"
   ]
  },
  {
   "cell_type": "markdown",
   "metadata": {},
   "source": [
    "## **Question 1** 🔔"
   ]
  },
  {
   "cell_type": "markdown",
   "metadata": {},
   "source": [
    "❓  **Câu hỏi đề ra:** ...\n",
    "\n",
    "✅  **Mục đích của việc trả lời câu hỏi** ...\n",
    "\n",
    "💡  **Cách để tìm ra câu trả lời**: ..."
   ]
  },
  {
   "cell_type": "markdown",
   "metadata": {},
   "source": [
    "### **Phân tích để đưa ra câu trả lời** 📝"
   ]
  },
  {
   "cell_type": "markdown",
   "metadata": {},
   "source": [
    "**Bước 1**: ..."
   ]
  },
  {
   "cell_type": "markdown",
   "metadata": {},
   "source": [
    "**Bước 2**: ..."
   ]
  },
  {
   "cell_type": "markdown",
   "metadata": {},
   "source": [
    "### **Quan sát** 💬\n",
    "- ..."
   ]
  },
  {
   "cell_type": "markdown",
   "metadata": {},
   "source": [
    "## **Question 2** 🔔"
   ]
  },
  {
   "cell_type": "markdown",
   "metadata": {},
   "source": [
    "❓  **Câu hỏi đề ra:** ...\n",
    "\n",
    "✅  **Mục đích của việc trả lời câu hỏi** ...\n",
    "\n",
    "💡  **Cách để tìm ra câu trả lời**: ..."
   ]
  },
  {
   "cell_type": "markdown",
   "metadata": {},
   "source": [
    "### **Phân tích để đưa ra câu trả lời** 📝"
   ]
  },
  {
   "cell_type": "markdown",
   "metadata": {},
   "source": [
    "**Bước 1**: ..."
   ]
  },
  {
   "cell_type": "markdown",
   "metadata": {},
   "source": [
    "**Bước 2**: ..."
   ]
  },
  {
   "cell_type": "markdown",
   "metadata": {},
   "source": [
    "### **Quan sát** 💬\n",
    "- ..."
   ]
  },
  {
   "cell_type": "markdown",
   "metadata": {},
   "source": [
    "## **Question 3** 🔔"
   ]
  },
  {
   "cell_type": "markdown",
   "metadata": {},
   "source": [
    "❓  **Câu hỏi đề ra:** ...\n",
    "\n",
    "✅  **Mục đích của việc trả lời câu hỏi** ...\n",
    "\n",
    "💡  **Cách để tìm ra câu trả lời**: ..."
   ]
  },
  {
   "cell_type": "markdown",
   "metadata": {},
   "source": [
    "### **Phân tích để đưa ra câu trả lời** 📝"
   ]
  },
  {
   "cell_type": "markdown",
   "metadata": {},
   "source": [
    "**Bước 1**: ..."
   ]
  },
  {
   "cell_type": "markdown",
   "metadata": {},
   "source": [
    "**Bước 2**: ..."
   ]
  },
  {
   "cell_type": "markdown",
   "metadata": {},
   "source": [
    "### **Quan sát** 💬\n",
    "- ..."
   ]
  },
  {
   "cell_type": "markdown",
   "metadata": {},
   "source": [
    "## **Question 4** 🔔"
   ]
  },
  {
   "cell_type": "markdown",
   "metadata": {},
   "source": [
    "❓  **Câu hỏi đề ra:** ...\n",
    "\n",
    "✅  **Mục đích của việc trả lời câu hỏi** ...\n",
    "\n",
    "💡  **Cách để tìm ra câu trả lời**: ..."
   ]
  },
  {
   "cell_type": "markdown",
   "metadata": {},
   "source": [
    "### **Phân tích để đưa ra câu trả lời** 📝"
   ]
  },
  {
   "cell_type": "markdown",
   "metadata": {},
   "source": [
    "**Bước 1**: ..."
   ]
  },
  {
   "cell_type": "markdown",
   "metadata": {},
   "source": [
    "**Bước 2**: ..."
   ]
  },
  {
   "cell_type": "markdown",
   "metadata": {},
   "source": [
    "### **Quan sát** 💬\n",
    "- ..."
   ]
  }
 ],
 "metadata": {
  "kernelspec": {
   "display_name": "Python 3",
   "language": "python",
   "name": "python3"
  },
  "language_info": {
   "codemirror_mode": {
    "name": "ipython",
    "version": 3
   },
   "file_extension": ".py",
   "mimetype": "text/x-python",
   "name": "python",
   "nbconvert_exporter": "python",
   "pygments_lexer": "ipython3",
   "version": "3.13.0"
  }
 },
 "nbformat": 4,
 "nbformat_minor": 2
}
