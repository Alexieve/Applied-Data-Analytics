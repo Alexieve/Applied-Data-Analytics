{
 "cells": [
  {
   "cell_type": "markdown",
   "metadata": {},
   "source": [
    "<div style=\"text-align: center; background-color: #750E21; font-family: 'Trebuchet MS', Arial, sans-serif; color: white; padding: 20px; font-size: 40px; font-weight: bold; border-radius: 0 0 0 0; box-shadow: 0px 6px 8px rgba(0, 0, 0, 0.2);\">\n",
    "  PROJECT: ... 📌\n",
    "</div>"
   ]
  },
  {
   "cell_type": "markdown",
   "metadata": {},
   "source": [
    "<div style=\"text-align: center; background-color: #0766AD; font-family: 'Trebuchet MS', Arial, sans-serif; color: white; padding: 20px; font-size: 40px; font-weight: bold; border-radius: 0 0 0 0; box-shadow: 0px 6px 8px rgba(0, 0, 0, 0.2);\">\n",
    "  Stage 1 - PRE-PROCESSING 📌\n",
    "</div>"
   ]
  },
  {
   "cell_type": "markdown",
   "metadata": {},
   "source": [
    "## **IMPORT LIBRARY** 🎄"
   ]
  },
  {
   "cell_type": "code",
   "execution_count": 1,
   "metadata": {},
   "outputs": [],
   "source": [
    "import numpy as np\n",
    "import pandas as pd\n",
    "from datetime import datetime\n",
    "import matplotlib.pyplot as plt\n",
    "from scipy.stats import zscore\n",
    "import seaborn as sns\n",
    "from sklearn.preprocessing import MinMaxScaler, StandardScaler"
   ]
  },
  {
   "cell_type": "markdown",
   "metadata": {},
   "source": [
    "## **THÔNG TIN CHUNG VỀ DỮ LIỆU** 📝"
   ]
  },
  {
   "cell_type": "markdown",
   "metadata": {},
   "source": [
    "<div style=\"text-align: left; font-family: 'Trebuchet MS', Arial, sans-serif; color: #8C3333; padding: 20px; font-size: 25px; font-weight: bold; border-radius: 0 0 0 0; background-color: #AFC8AD\">\n",
    "  1. Đọc 10 dòng dữ liệu đầu 🔥\n",
    "</div>"
   ]
  },
  {
   "cell_type": "code",
   "execution_count": 2,
   "metadata": {},
   "outputs": [
    {
     "data": {
      "text/html": [
       "<div>\n",
       "<style scoped>\n",
       "    .dataframe tbody tr th:only-of-type {\n",
       "        vertical-align: middle;\n",
       "    }\n",
       "\n",
       "    .dataframe tbody tr th {\n",
       "        vertical-align: top;\n",
       "    }\n",
       "\n",
       "    .dataframe thead th {\n",
       "        text-align: right;\n",
       "    }\n",
       "</style>\n",
       "<table border=\"1\" class=\"dataframe\">\n",
       "  <thead>\n",
       "    <tr style=\"text-align: right;\">\n",
       "      <th></th>\n",
       "      <th>Daily Time Spent on Site</th>\n",
       "      <th>Age</th>\n",
       "      <th>Area Income</th>\n",
       "      <th>Daily Internet Usage</th>\n",
       "      <th>Ad Topic Line</th>\n",
       "      <th>City</th>\n",
       "      <th>Male</th>\n",
       "      <th>Country</th>\n",
       "      <th>Timestamp</th>\n",
       "      <th>Clicked on Ad</th>\n",
       "    </tr>\n",
       "  </thead>\n",
       "  <tbody>\n",
       "    <tr>\n",
       "      <th>0</th>\n",
       "      <td>68.95</td>\n",
       "      <td>35.0</td>\n",
       "      <td>61833.90</td>\n",
       "      <td>256.09</td>\n",
       "      <td>Cloned 5thgeneration orchestration</td>\n",
       "      <td>Wrightburgh</td>\n",
       "      <td>0</td>\n",
       "      <td>Tunisia</td>\n",
       "      <td>27/3/2016 0:53</td>\n",
       "      <td>0</td>\n",
       "    </tr>\n",
       "    <tr>\n",
       "      <th>1</th>\n",
       "      <td>80.23</td>\n",
       "      <td>31.0</td>\n",
       "      <td>68441.85</td>\n",
       "      <td>193.77</td>\n",
       "      <td>Monitored national standardization</td>\n",
       "      <td>West Jodi</td>\n",
       "      <td>1</td>\n",
       "      <td>Nauru</td>\n",
       "      <td>4/4/2016 1:39</td>\n",
       "      <td>0</td>\n",
       "    </tr>\n",
       "    <tr>\n",
       "      <th>2</th>\n",
       "      <td>69.47</td>\n",
       "      <td>26.0</td>\n",
       "      <td>59785.94</td>\n",
       "      <td>236.50</td>\n",
       "      <td>Organic bottom-line service-desk</td>\n",
       "      <td>Davidton</td>\n",
       "      <td>0</td>\n",
       "      <td>San Marino</td>\n",
       "      <td>13/3/2016 20:35</td>\n",
       "      <td>0</td>\n",
       "    </tr>\n",
       "    <tr>\n",
       "      <th>3</th>\n",
       "      <td>74.15</td>\n",
       "      <td>29.0</td>\n",
       "      <td>54806.18</td>\n",
       "      <td>245.89</td>\n",
       "      <td>Triple-buffered reciprocal time-frame</td>\n",
       "      <td>West Terrifurt</td>\n",
       "      <td>1</td>\n",
       "      <td>Italy</td>\n",
       "      <td>10/1/2016 2:31</td>\n",
       "      <td>0</td>\n",
       "    </tr>\n",
       "    <tr>\n",
       "      <th>4</th>\n",
       "      <td>68.37</td>\n",
       "      <td>35.0</td>\n",
       "      <td>73889.99</td>\n",
       "      <td>225.58</td>\n",
       "      <td>Robust logistical utilization</td>\n",
       "      <td>South Manuel</td>\n",
       "      <td>0</td>\n",
       "      <td>Iceland</td>\n",
       "      <td>3/6/2016 3:36</td>\n",
       "      <td>0</td>\n",
       "    </tr>\n",
       "    <tr>\n",
       "      <th>5</th>\n",
       "      <td>59.99</td>\n",
       "      <td>23.0</td>\n",
       "      <td>59761.56</td>\n",
       "      <td>226.74</td>\n",
       "      <td>Sharable client-driven software</td>\n",
       "      <td>Jamieberg</td>\n",
       "      <td>1</td>\n",
       "      <td>Norway</td>\n",
       "      <td>19/5/2016 14:30</td>\n",
       "      <td>0</td>\n",
       "    </tr>\n",
       "    <tr>\n",
       "      <th>6</th>\n",
       "      <td>88.91</td>\n",
       "      <td>33.0</td>\n",
       "      <td>53852.85</td>\n",
       "      <td>208.36</td>\n",
       "      <td>Enhanced dedicated support</td>\n",
       "      <td>Brandonstad</td>\n",
       "      <td>0</td>\n",
       "      <td>Myanmar</td>\n",
       "      <td>28/1/2016 20:59</td>\n",
       "      <td>0</td>\n",
       "    </tr>\n",
       "    <tr>\n",
       "      <th>7</th>\n",
       "      <td>66.00</td>\n",
       "      <td>48.0</td>\n",
       "      <td>24593.33</td>\n",
       "      <td>131.76</td>\n",
       "      <td>Reactive local challenge</td>\n",
       "      <td>Port Jefferybury</td>\n",
       "      <td>1</td>\n",
       "      <td>Australia</td>\n",
       "      <td>7/3/2016 1:40</td>\n",
       "      <td>1</td>\n",
       "    </tr>\n",
       "    <tr>\n",
       "      <th>8</th>\n",
       "      <td>74.53</td>\n",
       "      <td>30.0</td>\n",
       "      <td>68862.00</td>\n",
       "      <td>221.51</td>\n",
       "      <td>Configurable coherent function</td>\n",
       "      <td>West Colin</td>\n",
       "      <td>1</td>\n",
       "      <td>Grenada</td>\n",
       "      <td>18/4/2016 9:33</td>\n",
       "      <td>0</td>\n",
       "    </tr>\n",
       "    <tr>\n",
       "      <th>9</th>\n",
       "      <td>69.88</td>\n",
       "      <td>20.0</td>\n",
       "      <td>55642.32</td>\n",
       "      <td>183.82</td>\n",
       "      <td>Mandatory homogeneous architecture</td>\n",
       "      <td>Ramirezton</td>\n",
       "      <td>1</td>\n",
       "      <td>Ghana</td>\n",
       "      <td>11/7/2016 1:42</td>\n",
       "      <td>0</td>\n",
       "    </tr>\n",
       "  </tbody>\n",
       "</table>\n",
       "</div>"
      ],
      "text/plain": [
       "   Daily Time Spent on Site   Age  Area Income  Daily Internet Usage  \\\n",
       "0                     68.95  35.0     61833.90                256.09   \n",
       "1                     80.23  31.0     68441.85                193.77   \n",
       "2                     69.47  26.0     59785.94                236.50   \n",
       "3                     74.15  29.0     54806.18                245.89   \n",
       "4                     68.37  35.0     73889.99                225.58   \n",
       "5                     59.99  23.0     59761.56                226.74   \n",
       "6                     88.91  33.0     53852.85                208.36   \n",
       "7                     66.00  48.0     24593.33                131.76   \n",
       "8                     74.53  30.0     68862.00                221.51   \n",
       "9                     69.88  20.0     55642.32                183.82   \n",
       "\n",
       "                           Ad Topic Line              City  Male     Country  \\\n",
       "0     Cloned 5thgeneration orchestration       Wrightburgh     0     Tunisia   \n",
       "1     Monitored national standardization         West Jodi     1       Nauru   \n",
       "2       Organic bottom-line service-desk          Davidton     0  San Marino   \n",
       "3  Triple-buffered reciprocal time-frame    West Terrifurt     1       Italy   \n",
       "4          Robust logistical utilization      South Manuel     0     Iceland   \n",
       "5        Sharable client-driven software         Jamieberg     1      Norway   \n",
       "6             Enhanced dedicated support       Brandonstad     0     Myanmar   \n",
       "7               Reactive local challenge  Port Jefferybury     1   Australia   \n",
       "8         Configurable coherent function        West Colin     1     Grenada   \n",
       "9     Mandatory homogeneous architecture        Ramirezton     1       Ghana   \n",
       "\n",
       "         Timestamp  Clicked on Ad  \n",
       "0   27/3/2016 0:53              0  \n",
       "1    4/4/2016 1:39              0  \n",
       "2  13/3/2016 20:35              0  \n",
       "3   10/1/2016 2:31              0  \n",
       "4    3/6/2016 3:36              0  \n",
       "5  19/5/2016 14:30              0  \n",
       "6  28/1/2016 20:59              0  \n",
       "7    7/3/2016 1:40              1  \n",
       "8   18/4/2016 9:33              0  \n",
       "9   11/7/2016 1:42              0  "
      ]
     },
     "execution_count": 2,
     "metadata": {},
     "output_type": "execute_result"
    }
   ],
   "source": [
    "df = pd.read_csv('../../Data/2425_QC.csv')\n",
    "df.head(10)"
   ]
  },
  {
   "cell_type": "markdown",
   "metadata": {},
   "source": [
    "<div style=\"text-align: left; font-family: 'Trebuchet MS', Arial, sans-serif; color: #8C3333; padding: 20px; font-size: 25px; font-weight: bold; border-radius: 0 0 0 0; background-color: #AFC8AD\">\n",
    "  2. Nhận xét về thống kê và thông tin cơ bản của dữ liệu 🔥\n",
    "</div>"
   ]
  },
  {
   "cell_type": "code",
   "execution_count": 3,
   "metadata": {},
   "outputs": [
    {
     "name": "stdout",
     "output_type": "stream",
     "text": [
      "<class 'pandas.core.frame.DataFrame'>\n",
      "RangeIndex: 1002 entries, 0 to 1001\n",
      "Data columns (total 10 columns):\n",
      " #   Column                    Non-Null Count  Dtype  \n",
      "---  ------                    --------------  -----  \n",
      " 0   Daily Time Spent on Site  1002 non-null   float64\n",
      " 1   Age                       1001 non-null   float64\n",
      " 2   Area Income               1002 non-null   float64\n",
      " 3   Daily Internet Usage      1002 non-null   float64\n",
      " 4   Ad Topic Line             1002 non-null   object \n",
      " 5   City                      1002 non-null   object \n",
      " 6   Male                      1002 non-null   int64  \n",
      " 7   Country                   1002 non-null   object \n",
      " 8   Timestamp                 1002 non-null   object \n",
      " 9   Clicked on Ad             1002 non-null   int64  \n",
      "dtypes: float64(4), int64(2), object(4)\n",
      "memory usage: 78.4+ KB\n"
     ]
    }
   ],
   "source": [
    "df.info()"
   ]
  },
  {
   "cell_type": "markdown",
   "metadata": {},
   "source": [
    "📈`NHẬN XÉT:`\n",
    "- Tổng quan về dữ liệu: DataFrame có 1002 dòng, 10 cột, với sự kết hợp của các kiểu dữ liệu: float64, int64 và object.\n",
    "- dtypes: float64(4), int64(2), object(4)\n",
    "- Tất cả các cột, ngoại trừ `Age`, chứa 1002 giá trị khác null, nghĩa là chỉ thiếu 1 giá trị cho cột `Age`, do đó việc xử lý dữ liệu bị thiếu sẽ không phải là vấn đề lớn.\n",
    "Các cột như `City`, `Country` và `Ad Topic Line` có thể sẽ cần tiền xử lý dữ liệu, chẳng hạn như encoding, để làm cho chúng phù hợp cho việc phân tích hoặc xây dựng mô hình dự đoán."
   ]
  },
  {
   "cell_type": "markdown",
   "metadata": {},
   "source": [
    "**1. Dữ liệu số:**\n",
    "- Daily Time Spent on Site\n",
    "- Age\n",
    "- Area Income\n",
    "- Daily Internet Usage\n",
    "\n",
    "**2. Dữ liệu phân loại:**\n",
    "- Ad Topic Line\n",
    "- City\n",
    "- Country\n",
    "- Timestamp\n",
    "- Male (binary categorical feature)\n",
    "\n",
    "**3. Dữ liệu mục tiêu:**\n",
    "- Clicked on Ad (giá trị 0 hoặc 1)"
   ]
  },
  {
   "cell_type": "markdown",
   "metadata": {},
   "source": [
    "<div style=\"text-align: left; font-family: 'Trebuchet MS', Arial, sans-serif; color: #8C3333; padding: 20px; font-size: 25px; font-weight: bold; border-radius: 0 0 0 0; background-color: #AFC8AD\">\n",
    "  3. Ý nghĩa của các cột dữ liệu trong bộ dữ liệu 🧮\n",
    "</div>"
   ]
  },
  {
   "cell_type": "markdown",
   "metadata": {},
   "source": [
    "<table style=\"width: 100%; border-collapse: collapse;font-family: 'Trebuchet MS', Arial, sans-serif;\">\n",
    "  <thead>\n",
    "    <tr>\n",
    "      <th style=\"min-width: 10px; width: 30px; background-color: #4E70BB; color: white; font-size :20px; font-weight: bold; text-align: left; padding: 8px;\">No</th>\n",
    "      <th style=\"background-color: #4E70BB; color: white; font-size :20px; font-weight: bold; text-align: left; padding: 8px;\">Tên cột</th>\n",
    "      <th style=\"background-color: #4E70BB; color: white; font-size :20px; font-weight: bold; text-align: left; padding: 8px;\">Ý nghĩa</th>\n",
    "    </tr>\n",
    "  </thead>\n",
    "  <tbody>\n",
    "    <tr>\n",
    "      <td style=\"font-weight: bold; font-size: 17px; color: #FFAA33; text-align: left;\">1</td>\n",
    "      <td style=\"font-weight: bold; font-size: 17px; color: #FFAA33; text-align: left;\">Daily Time Spent on Site</td>\n",
    "      <td style=\"font-size: 17px; text-align: left;\">Số phút trung bình khách hàng ghé qua site mỗi ngày.</td>\n",
    "    </tr>\n",
    "    <tr>\n",
    "      <td style=\"font-weight: bold; font-size: 17px; color: #FF0077; text-align: left;\">2</td>\n",
    "      <td style=\"font-weight: bold; font-size: 17px; color: #FF0077; text-align: left;\">Age</td>\n",
    "      <td style=\"font-size: 17px; text-align: left;\">Tuổi của khách hàng.</td>\n",
    "    </tr>\n",
    "    <tr>\n",
    "      <td style=\"font-weight: bold; font-size: 17px; color: #009A80; text-align: left;\">3</td>\n",
    "      <td style=\"font-weight: bold; font-size: 17px; color: #009A80; text-align: left;\">Area Income</td>\n",
    "      <td style=\"font-size: 17px; text-align: left;\">Thu nhập bình quân theo khu vực địa lý của khách hàng.</td>\n",
    "    </tr>\n",
    "    <tr>\n",
    "      <td style=\"font-weight: bold; font-size: 17px; color: #7DCE13; text-align: left;\">4</td>\n",
    "      <td style=\"font-weight: bold; font-size: 17px; color: #7DCE13; text-align: left;\">Daily Internet Usage</td>\n",
    "      <td style=\"font-size: 17px; text-align: left;\">Số phút trung bình mỗi ngày khách hàng truy cập Internet.</td>\n",
    "    </tr>\n",
    "    <tr>\n",
    "      <td style=\"font-weight: bold; font-size: 17px; color: #EAE509; text-align: left;\">5</td>\n",
    "      <td style=\"font-weight: bold; font-size: 17px; color: #EAE509; text-align: left;\">Ad Topic Line</td>\n",
    "      <td style=\"font-size: 17px; text-align: left;\">Tiêu đề của quảng cáo.</td>\n",
    "    </tr>\n",
    "    <tr>\n",
    "      <td style=\"font-weight: bold; font-size: 17px; color: #3081D0; text-align: left;\">6</td>\n",
    "      <td style=\"font-weight: bold; font-size: 17px; color: #3081D0; text-align: left;\">City</td>\n",
    "      <td style=\"font-size: 17px; text-align: left;\">Thành phố sinh sống của khách hàng.</td>\n",
    "    </tr>\n",
    "    <tr>\n",
    "      <td style=\"font-weight: bold; font-size: 17px; color: #FFAA33; text-align: left;\">7</td>\n",
    "      <td style=\"font-weight: bold; font-size: 17px; color: #FFAA33; text-align: left;\">Male</td>\n",
    "      <td style=\"font-size: 17px; text-align: left;\">1 nếu khách hàng là nam và 0 nếu là nữ.</td>\n",
    "    </tr>\n",
    "    <tr>\n",
    "      <td style=\"font-weight: bold; font-size: 17px; color: #FF0077; text-align: left;\">8</td>\n",
    "      <td style=\"font-weight: bold; font-size: 17px; color: #FF0077; text-align: left;\">Country</td>\n",
    "      <td style=\"font-size: 17px; text-align: left;\">Quốc gia của khách hàng.</td>\n",
    "    </tr>\n",
    "    <tr>\n",
    "      <td style=\"font-weight: bold; font-size: 17px; color: #00A9FF; text-align: left;\">9</td>\n",
    "      <td style=\"font-weight: bold; font-size: 17px; color: #00A9FF; text-align: left;\">Timestamp</td>\n",
    "      <td style=\"font-size: 17px; text-align: left;\">Thời điểm khách hàng nhấp vào Quảng cáo hoặc đóng cửa sổ window.</td>\n",
    "    </tr>\n",
    "    <tr>\n",
    "      <td style=\"font-weight: bold; font-size: 17px; color: #7DCE13; text-align: left;\">10</td>\n",
    "      <td style=\"font-weight: bold; font-size: 17px; color: #7DCE13; text-align: left;\">Clicked on Ad</td>\n",
    "      <td style=\"font-size: 17px; text-align: left;\">1 nếu khách hàng có nhấp vào quảng cáo và 0 nếu ngược lại.</td>\n",
    "    </tr>\n",
    "  </tbody>\n",
    "</table>"
   ]
  },
  {
   "cell_type": "markdown",
   "metadata": {},
   "source": [
    "## **GIAI ĐOẠN TIỀN XỬ LÝ DỮ LIỆU** 📝"
   ]
  },
  {
   "cell_type": "markdown",
   "metadata": {},
   "source": [
    "<div style=\"text-align: left; font-family: 'Trebuchet MS', Arial, sans-serif; color: #8C3333; padding: 20px; font-size: 25px; font-weight: bold; border-radius: 0 0 0 0; background-color: #AFC8AD\">\n",
    "  1. Dữ liệu có bao nhiêu hàng và bao nhiêu cột? 🧮\n",
    "</div>"
   ]
  },
  {
   "cell_type": "code",
   "execution_count": 4,
   "metadata": {},
   "outputs": [
    {
     "name": "stdout",
     "output_type": "stream",
     "text": [
      "Shape của dữ liệu: (1002, 10)\n"
     ]
    }
   ],
   "source": [
    "shape = df.shape\n",
    "print(f\"Shape của dữ liệu: {shape}\")"
   ]
  },
  {
   "cell_type": "markdown",
   "metadata": {},
   "source": [
    "<div style=\"text-align: left; font-family: 'Trebuchet MS', Arial, sans-serif; color: #8C3333; padding: 20px; font-size: 25px; font-weight: bold; border-radius: 0 0 0 0; background-color: #AFC8AD\">\n",
    "  2. Mỗi dòng có ý nghĩa gì? Có vấn đề gì nếu các dòng có ý nghĩa khác nhau không? 🧮\n",
    "</div>"
   ]
  },
  {
   "cell_type": "markdown",
   "metadata": {},
   "source": [
    "🔍🔍🔍 Hiểu được ý nghĩa từng dòng giúp chúng ta hiểu tổng thể hơn về dữ liệu.\\\n",
    "🔍🔍🔍 Dữ liệu của chúng ta đang nói về điều gì hoặc nếu một số dòng dữ liệu có ý nghĩa khác nhau sẽ dẫn đến dữ liệu không nhất quán và đưa ra những hiểu biết sai lệch."
   ]
  },
  {
   "cell_type": "markdown",
   "metadata": {},
   "source": [
    "📈`NHẬN XÉT:`\n",
    "- Mỗi dòng thể hiện dữ liệu về tương tác của một khách hàng với quảng cáo trực tuyến.\n",
    "- Tập dữ liệu này thường được sử dụng để phân tích và dự đoán hành vi của người dùng, đặc biệt là những yếu tố nào ảnh hưởng đến khả năng nhấp vào quảng cáo của khách hàng."
   ]
  },
  {
   "cell_type": "markdown",
   "metadata": {},
   "source": [
    "<div style=\"text-align: left; font-family: 'Trebuchet MS', Arial, sans-serif; color: #E7B10A; padding: 15px; font-size: 18px; font-weight: bold; border-radius: 0 0 0 0\">\n",
    "🧮🧮🧮  Trong dữ liệu của chúng ta, mỗi dòng chứa dữ liệu về tương tác của một khách hàng với quảng cáo trực tuyến.\n",
    "</div>"
   ]
  },
  {
   "cell_type": "markdown",
   "metadata": {},
   "source": [
    "<div style=\"text-align: left; font-family: 'Trebuchet MS', Arial, sans-serif; color: #8C3333; padding: 20px; font-size: 25px; font-weight: bold; border-radius: 0 0 0 0; background-color: #AFC8AD\">\n",
    "  3. Xử lý dữ liệu bị trùng lặp 🧮\n",
    "</div>"
   ]
  },
  {
   "cell_type": "markdown",
   "metadata": {},
   "source": [
    "🚨  Chúng ta cần kiểm tra các hàng trùng lặp vì các hàng trùng lặp không có nhiều ý nghĩa, thậm chí ảnh hưởng đến cái nhìn tổng thể về dữ liệu.\\\n",
    "🚨  Vì vậy, mỗi dòng nên khác nhau.\\\n",
    "🚨  Việc có các hàng trùng lặp có thể dẫn đến hiểu biết sai về các câu hỏi cần đếm.\\\n",
    "🚨  Trong phần này, chúng ta sẽ đi sâu vào việc kiểm tra các hàng trùng lặp. Nếu tồn tại các hàng trùng lặp thì bỏ nó đi."
   ]
  },
  {
   "cell_type": "code",
   "execution_count": 5,
   "metadata": {},
   "outputs": [
    {
     "name": "stdout",
     "output_type": "stream",
     "text": [
      "Number of duplicated rows: 2\n",
      "Number of duplicated rows after dropping: 0\n",
      "Current shape: (1000, 10)\n"
     ]
    }
   ],
   "source": [
    "# Count duplicate rows\n",
    "num_duplicates = df.duplicated(keep='first').sum()\n",
    "print(f'Number of duplicated rows: {num_duplicates}')\n",
    "\n",
    "# Drop duplicates\n",
    "df = df.drop_duplicates(keep='first')\n",
    "df = df.reset_index(drop=True)\n",
    "num_duplicates = df.duplicated(keep='first').sum()\n",
    "print(f'Number of duplicated rows after dropping: {num_duplicates}')\n",
    "\n",
    "print(f\"Current shape: {df.shape}\")"
   ]
  },
  {
   "cell_type": "markdown",
   "metadata": {},
   "source": [
    "📈`NHẬN XÉT:`\n",
    "- Như chúng ta có thể thấy, có 2 dòng dữ liệu bị trùng lắp. Sau khi xoá 2 dòng đó đi, dữ liệu của chúng ta đã sẵn sàng cho các bước tiếp theo."
   ]
  },
  {
   "cell_type": "markdown",
   "metadata": {},
   "source": [
    "<div style=\"text-align: left; font-family: 'Trebuchet MS', Arial, sans-serif; color: #8C3333; padding: 20px; font-size: 25px; font-weight: bold; border-radius: 0 0 0 0; background-color: #AFC8AD\">\n",
    "  4. Xử lý dữ liệu outliers 🧮\n",
    "</div>"
   ]
  },
  {
   "cell_type": "markdown",
   "metadata": {},
   "source": [
    "🚨  Outliers là các giá trị sai lệch đáng kể so với các quan sát khác trong tập dữ liệu.\\\n",
    "🚨  Outliers có thể làm sai lệch kết quả và dẫn đến kết luận sai lệch nếu không được xử lý đúng cách.\\\n",
    "🚨  Việc xác định outliers rất quan trọng để duy trì chất lượng dữ liệu và cải thiện độ chính xác của phân tích.\\\n",
    "🚨  Trong phần này, chúng ta sẽ kiểm tra outliers và xác định xem nên giữ, chuyển đổi hay loại bỏ chúng tùy thuộc vào tác động của chúng."
   ]
  },
  {
   "cell_type": "code",
   "execution_count": 6,
   "metadata": {},
   "outputs": [
    {
     "data": {
      "text/html": [
       "<div>\n",
       "<style scoped>\n",
       "    .dataframe tbody tr th:only-of-type {\n",
       "        vertical-align: middle;\n",
       "    }\n",
       "\n",
       "    .dataframe tbody tr th {\n",
       "        vertical-align: top;\n",
       "    }\n",
       "\n",
       "    .dataframe thead th {\n",
       "        text-align: right;\n",
       "    }\n",
       "</style>\n",
       "<table border=\"1\" class=\"dataframe\">\n",
       "  <thead>\n",
       "    <tr style=\"text-align: right;\">\n",
       "      <th></th>\n",
       "      <th>Daily Time Spent on Site</th>\n",
       "      <th>Age</th>\n",
       "      <th>Area Income</th>\n",
       "      <th>Daily Internet Usage</th>\n",
       "    </tr>\n",
       "  </thead>\n",
       "  <tbody>\n",
       "    <tr>\n",
       "      <th>count</th>\n",
       "      <td>1000.000000</td>\n",
       "      <td>999.000000</td>\n",
       "      <td>1000.000000</td>\n",
       "      <td>1000.000000</td>\n",
       "    </tr>\n",
       "    <tr>\n",
       "      <th>mean</th>\n",
       "      <td>65.000200</td>\n",
       "      <td>36.019019</td>\n",
       "      <td>55000.000080</td>\n",
       "      <td>180.000100</td>\n",
       "    </tr>\n",
       "    <tr>\n",
       "      <th>std</th>\n",
       "      <td>15.853615</td>\n",
       "      <td>8.784245</td>\n",
       "      <td>13414.634022</td>\n",
       "      <td>43.902339</td>\n",
       "    </tr>\n",
       "    <tr>\n",
       "      <th>min</th>\n",
       "      <td>32.600000</td>\n",
       "      <td>19.000000</td>\n",
       "      <td>13996.500000</td>\n",
       "      <td>104.780000</td>\n",
       "    </tr>\n",
       "    <tr>\n",
       "      <th>25%</th>\n",
       "      <td>51.360000</td>\n",
       "      <td>29.000000</td>\n",
       "      <td>47031.802500</td>\n",
       "      <td>138.830000</td>\n",
       "    </tr>\n",
       "    <tr>\n",
       "      <th>50%</th>\n",
       "      <td>68.215000</td>\n",
       "      <td>35.000000</td>\n",
       "      <td>57012.300000</td>\n",
       "      <td>183.130000</td>\n",
       "    </tr>\n",
       "    <tr>\n",
       "      <th>75%</th>\n",
       "      <td>78.547500</td>\n",
       "      <td>42.000000</td>\n",
       "      <td>65470.635000</td>\n",
       "      <td>218.792500</td>\n",
       "    </tr>\n",
       "    <tr>\n",
       "      <th>max</th>\n",
       "      <td>91.430000</td>\n",
       "      <td>61.000000</td>\n",
       "      <td>79484.800000</td>\n",
       "      <td>269.960000</td>\n",
       "    </tr>\n",
       "  </tbody>\n",
       "</table>\n",
       "</div>"
      ],
      "text/plain": [
       "       Daily Time Spent on Site         Age   Area Income  \\\n",
       "count               1000.000000  999.000000   1000.000000   \n",
       "mean                  65.000200   36.019019  55000.000080   \n",
       "std                   15.853615    8.784245  13414.634022   \n",
       "min                   32.600000   19.000000  13996.500000   \n",
       "25%                   51.360000   29.000000  47031.802500   \n",
       "50%                   68.215000   35.000000  57012.300000   \n",
       "75%                   78.547500   42.000000  65470.635000   \n",
       "max                   91.430000   61.000000  79484.800000   \n",
       "\n",
       "       Daily Internet Usage  \n",
       "count           1000.000000  \n",
       "mean             180.000100  \n",
       "std               43.902339  \n",
       "min              104.780000  \n",
       "25%              138.830000  \n",
       "50%              183.130000  \n",
       "75%              218.792500  \n",
       "max              269.960000  "
      ]
     },
     "execution_count": 6,
     "metadata": {},
     "output_type": "execute_result"
    }
   ],
   "source": [
    "# describe the numerical features\n",
    "num_features = ['Daily Time Spent on Site','Age','Area Income','Daily Internet Usage']\n",
    "df.describe()[num_features]"
   ]
  },
  {
   "cell_type": "markdown",
   "metadata": {},
   "source": [
    "📈`NHẬN XÉT:`\n",
    "\n",
    "- Các biến số của dữ liệu không bị sai lệch lắm vì giá trị trung bình và trung vị gần như giống nhau. Vì vậy, có thể chúng ta không cần biến đổi dữ liệu lắm. Và cũng vì thế, chúng ta sẽ xem xét sâu hơn từng thuộc tính.\n",
    "\n",
    "- Có thể dự đoán được cột **Area Income** có khả năng cao tồn tại outliers khi mà giá trị nhỏ nhất của **Area Income** là 13996 trong khi giá trị trung bình của nó lại lên đến 55000. Biết rằng giá trị trung bình rất nhạy cảm với outliers, nên khi giá trị trung bỉnh quá lớn so với giá trị nhỏ nhất, có thể thấy đươc giá trị nhó nhất là outliers."
   ]
  },
  {
   "cell_type": "markdown",
   "metadata": {},
   "source": [
    "Bây giờ, chúng ta sẽ trực quan hoá dữ liệu bằng biểu đồ boxplot để kiểm tra các giá trị outlier."
   ]
  },
  {
   "cell_type": "code",
   "execution_count": 7,
   "metadata": {},
   "outputs": [
    {
     "data": {
      "image/png": "[encoded data removed]",
      "text/plain": [
       "<Figure size 1200x1000 with 4 Axes>"
      ]
     },
     "metadata": {},
     "output_type": "display_data"
    }
   ],
   "source": [
    "fig, axes = plt.subplots(2, 2, figsize=(12, 10))\n",
    "\n",
    "# boxplot for each numerical feature\n",
    "for i, feature in enumerate(num_features):\n",
    "    sns.boxplot(x=df[feature], ax=axes[i//2, i%2])\n",
    "    axes[i//2, i%2].set_title(f'{feature}')\n",
    "\n",
    "# Adjust layout for better spacing\n",
    "plt.tight_layout()\n",
    "\n",
    "# Show the plots\n",
    "plt.show()"
   ]
  },
  {
   "cell_type": "markdown",
   "metadata": {},
   "source": [
    "📝 **Sử dụng phương pháp IQR**"
   ]
  },
  {
   "cell_type": "markdown",
   "metadata": {},
   "source": [
    "Dùng phương pháp độ trải giữa, có thể xác định các outliers là các giá trị nhỏ hơn **(Q1 – 1.5 \\* IQR)** hoặc lớn hơn **(Q3 + 1.5 \\* IQR)**.\n",
    "\n",
    "Trong đó Q1 là điểm mà 25% dữ liệu thấp hơn Q1 và 75% dữ liệu cao hơn Q1\n",
    "\n",
    "Q3 là điểm mà 25% dữ liệu cao hơn Q3 và 75% dữ liệu thấp hơn Q3\n",
    "\n",
    "IQR được tính bằng Q3 - Q1\n",
    "\n",
    "Trong pandas có cung cấp hàm **quantile()** để tính toán các giá trị Q1 và Q3"
   ]
  },
  {
   "cell_type": "code",
   "execution_count": 8,
   "metadata": {},
   "outputs": [],
   "source": [
    "# define the function to find the outliers using IQR method\n",
    "def findOutlierUsingIQR(df:pd.DataFrame):\n",
    "    q1=df.quantile(0.25)\n",
    "    q3=df.quantile(0.75)\n",
    "    IQR=q3-q1\n",
    "    lowerLimit=q1-1.5*IQR\n",
    "    upperLimit=q3+1.5*IQR\n",
    "    \n",
    "    outliers = df[(df<lowerLimit) | (df>upperLimit)]\n",
    "\n",
    "    return outliers"
   ]
  },
  {
   "cell_type": "code",
   "execution_count": 9,
   "metadata": {},
   "outputs": [
    {
     "data": {
      "text/html": [
       "<div>\n",
       "<style scoped>\n",
       "    .dataframe tbody tr th:only-of-type {\n",
       "        vertical-align: middle;\n",
       "    }\n",
       "\n",
       "    .dataframe tbody tr th {\n",
       "        vertical-align: top;\n",
       "    }\n",
       "\n",
       "    .dataframe thead th {\n",
       "        text-align: right;\n",
       "    }\n",
       "</style>\n",
       "<table border=\"1\" class=\"dataframe\">\n",
       "  <thead>\n",
       "    <tr style=\"text-align: right;\">\n",
       "      <th></th>\n",
       "      <th>Daily Time Spent on Site</th>\n",
       "      <th>Age</th>\n",
       "      <th>Area Income</th>\n",
       "      <th>Daily Internet Usage</th>\n",
       "    </tr>\n",
       "  </thead>\n",
       "  <tbody>\n",
       "    <tr>\n",
       "      <th>135</th>\n",
       "      <td>NaN</td>\n",
       "      <td>NaN</td>\n",
       "      <td>17709.98</td>\n",
       "      <td>NaN</td>\n",
       "    </tr>\n",
       "    <tr>\n",
       "      <th>410</th>\n",
       "      <td>NaN</td>\n",
       "      <td>NaN</td>\n",
       "      <td>19345.36</td>\n",
       "      <td>NaN</td>\n",
       "    </tr>\n",
       "    <tr>\n",
       "      <th>510</th>\n",
       "      <td>NaN</td>\n",
       "      <td>NaN</td>\n",
       "      <td>18819.34</td>\n",
       "      <td>NaN</td>\n",
       "    </tr>\n",
       "    <tr>\n",
       "      <th>640</th>\n",
       "      <td>NaN</td>\n",
       "      <td>NaN</td>\n",
       "      <td>15598.29</td>\n",
       "      <td>NaN</td>\n",
       "    </tr>\n",
       "    <tr>\n",
       "      <th>665</th>\n",
       "      <td>NaN</td>\n",
       "      <td>NaN</td>\n",
       "      <td>15879.10</td>\n",
       "      <td>NaN</td>\n",
       "    </tr>\n",
       "    <tr>\n",
       "      <th>692</th>\n",
       "      <td>NaN</td>\n",
       "      <td>NaN</td>\n",
       "      <td>14548.06</td>\n",
       "      <td>NaN</td>\n",
       "    </tr>\n",
       "    <tr>\n",
       "      <th>768</th>\n",
       "      <td>NaN</td>\n",
       "      <td>NaN</td>\n",
       "      <td>13996.50</td>\n",
       "      <td>NaN</td>\n",
       "    </tr>\n",
       "    <tr>\n",
       "      <th>778</th>\n",
       "      <td>NaN</td>\n",
       "      <td>NaN</td>\n",
       "      <td>14775.50</td>\n",
       "      <td>NaN</td>\n",
       "    </tr>\n",
       "    <tr>\n",
       "      <th>952</th>\n",
       "      <td>NaN</td>\n",
       "      <td>NaN</td>\n",
       "      <td>18368.57</td>\n",
       "      <td>NaN</td>\n",
       "    </tr>\n",
       "  </tbody>\n",
       "</table>\n",
       "</div>"
      ],
      "text/plain": [
       "     Daily Time Spent on Site  Age  Area Income  Daily Internet Usage\n",
       "135                       NaN  NaN     17709.98                   NaN\n",
       "410                       NaN  NaN     19345.36                   NaN\n",
       "510                       NaN  NaN     18819.34                   NaN\n",
       "640                       NaN  NaN     15598.29                   NaN\n",
       "665                       NaN  NaN     15879.10                   NaN\n",
       "692                       NaN  NaN     14548.06                   NaN\n",
       "768                       NaN  NaN     13996.50                   NaN\n",
       "778                       NaN  NaN     14775.50                   NaN\n",
       "952                       NaN  NaN     18368.57                   NaN"
      ]
     },
     "execution_count": 9,
     "metadata": {},
     "output_type": "execute_result"
    }
   ],
   "source": [
    "# Find outliers using IQR method\n",
    "outliers = findOutlierUsingIQR(df[num_features])\n",
    "\n",
    "# Print the outliers\n",
    "outliers=outliers[~outliers.isnull().all(axis=1)]\n",
    "outliers"
   ]
  },
  {
   "cell_type": "markdown",
   "metadata": {},
   "source": [
    "📈`NHẬN XÉT:`\n",
    "- Đúng như dự đoán ở trên, có 9 outliers được tìm thấy tại trường Area Income qua việc dùng IQR."
   ]
  },
  {
   "cell_type": "code",
   "execution_count": 10,
   "metadata": {},
   "outputs": [
    {
     "data": {
      "text/html": [
       "<div>\n",
       "<style scoped>\n",
       "    .dataframe tbody tr th:only-of-type {\n",
       "        vertical-align: middle;\n",
       "    }\n",
       "\n",
       "    .dataframe tbody tr th {\n",
       "        vertical-align: top;\n",
       "    }\n",
       "\n",
       "    .dataframe thead th {\n",
       "        text-align: right;\n",
       "    }\n",
       "</style>\n",
       "<table border=\"1\" class=\"dataframe\">\n",
       "  <thead>\n",
       "    <tr style=\"text-align: right;\">\n",
       "      <th></th>\n",
       "      <th>Daily Time Spent on Site</th>\n",
       "      <th>Age</th>\n",
       "      <th>Area Income</th>\n",
       "      <th>Daily Internet Usage</th>\n",
       "      <th>Ad Topic Line</th>\n",
       "      <th>City</th>\n",
       "      <th>Male</th>\n",
       "      <th>Country</th>\n",
       "      <th>Timestamp</th>\n",
       "      <th>Clicked on Ad</th>\n",
       "    </tr>\n",
       "  </thead>\n",
       "  <tbody>\n",
       "    <tr>\n",
       "      <th>135</th>\n",
       "      <td>49.89</td>\n",
       "      <td>39.0</td>\n",
       "      <td>17709.98</td>\n",
       "      <td>160.03</td>\n",
       "      <td>Enhanced system-worthy application</td>\n",
       "      <td>East Michele</td>\n",
       "      <td>1</td>\n",
       "      <td>Belize</td>\n",
       "      <td>16/4/2016 12:09</td>\n",
       "      <td>1</td>\n",
       "    </tr>\n",
       "    <tr>\n",
       "      <th>410</th>\n",
       "      <td>48.09</td>\n",
       "      <td>33.0</td>\n",
       "      <td>19345.36</td>\n",
       "      <td>180.42</td>\n",
       "      <td>Balanced motivating help-desk</td>\n",
       "      <td>West Travismouth</td>\n",
       "      <td>0</td>\n",
       "      <td>Heard Island and McDonald Islands</td>\n",
       "      <td>28/5/2016 12:38</td>\n",
       "      <td>1</td>\n",
       "    </tr>\n",
       "    <tr>\n",
       "      <th>510</th>\n",
       "      <td>57.86</td>\n",
       "      <td>30.0</td>\n",
       "      <td>18819.34</td>\n",
       "      <td>166.86</td>\n",
       "      <td>Horizontal modular success</td>\n",
       "      <td>Estesfurt</td>\n",
       "      <td>0</td>\n",
       "      <td>Algeria</td>\n",
       "      <td>8/7/2016 17:14</td>\n",
       "      <td>1</td>\n",
       "    </tr>\n",
       "    <tr>\n",
       "      <th>640</th>\n",
       "      <td>64.63</td>\n",
       "      <td>45.0</td>\n",
       "      <td>15598.29</td>\n",
       "      <td>158.80</td>\n",
       "      <td>Triple-buffered high-level Internet solution</td>\n",
       "      <td>Isaacborough</td>\n",
       "      <td>1</td>\n",
       "      <td>Azerbaijan</td>\n",
       "      <td>12/6/2016 3:11</td>\n",
       "      <td>1</td>\n",
       "    </tr>\n",
       "    <tr>\n",
       "      <th>665</th>\n",
       "      <td>58.05</td>\n",
       "      <td>32.0</td>\n",
       "      <td>15879.10</td>\n",
       "      <td>195.54</td>\n",
       "      <td>Total asynchronous architecture</td>\n",
       "      <td>Sanderstown</td>\n",
       "      <td>1</td>\n",
       "      <td>Tajikistan</td>\n",
       "      <td>12/2/2016 10:39</td>\n",
       "      <td>1</td>\n",
       "    </tr>\n",
       "    <tr>\n",
       "      <th>692</th>\n",
       "      <td>66.26</td>\n",
       "      <td>47.0</td>\n",
       "      <td>14548.06</td>\n",
       "      <td>179.04</td>\n",
       "      <td>Optional full-range projection</td>\n",
       "      <td>Matthewtown</td>\n",
       "      <td>1</td>\n",
       "      <td>Lebanon</td>\n",
       "      <td>25/4/2016 19:31</td>\n",
       "      <td>1</td>\n",
       "    </tr>\n",
       "    <tr>\n",
       "      <th>768</th>\n",
       "      <td>68.58</td>\n",
       "      <td>41.0</td>\n",
       "      <td>13996.50</td>\n",
       "      <td>171.54</td>\n",
       "      <td>Exclusive discrete firmware</td>\n",
       "      <td>New Williamville</td>\n",
       "      <td>1</td>\n",
       "      <td>El Salvador</td>\n",
       "      <td>6/7/2016 12:04</td>\n",
       "      <td>1</td>\n",
       "    </tr>\n",
       "    <tr>\n",
       "      <th>778</th>\n",
       "      <td>52.67</td>\n",
       "      <td>44.0</td>\n",
       "      <td>14775.50</td>\n",
       "      <td>191.26</td>\n",
       "      <td>Persevering 5thgeneration knowledge user</td>\n",
       "      <td>New Hollyberg</td>\n",
       "      <td>0</td>\n",
       "      <td>Jersey</td>\n",
       "      <td>19/5/2016 6:37</td>\n",
       "      <td>1</td>\n",
       "    </tr>\n",
       "    <tr>\n",
       "      <th>952</th>\n",
       "      <td>62.79</td>\n",
       "      <td>36.0</td>\n",
       "      <td>18368.57</td>\n",
       "      <td>231.87</td>\n",
       "      <td>Total coherent archive</td>\n",
       "      <td>New James</td>\n",
       "      <td>1</td>\n",
       "      <td>Luxembourg</td>\n",
       "      <td>30/5/2016 20:08</td>\n",
       "      <td>1</td>\n",
       "    </tr>\n",
       "  </tbody>\n",
       "</table>\n",
       "</div>"
      ],
      "text/plain": [
       "     Daily Time Spent on Site   Age  Area Income  Daily Internet Usage  \\\n",
       "135                     49.89  39.0     17709.98                160.03   \n",
       "410                     48.09  33.0     19345.36                180.42   \n",
       "510                     57.86  30.0     18819.34                166.86   \n",
       "640                     64.63  45.0     15598.29                158.80   \n",
       "665                     58.05  32.0     15879.10                195.54   \n",
       "692                     66.26  47.0     14548.06                179.04   \n",
       "768                     68.58  41.0     13996.50                171.54   \n",
       "778                     52.67  44.0     14775.50                191.26   \n",
       "952                     62.79  36.0     18368.57                231.87   \n",
       "\n",
       "                                    Ad Topic Line              City  Male  \\\n",
       "135            Enhanced system-worthy application      East Michele     1   \n",
       "410                 Balanced motivating help-desk  West Travismouth     0   \n",
       "510                    Horizontal modular success         Estesfurt     0   \n",
       "640  Triple-buffered high-level Internet solution      Isaacborough     1   \n",
       "665               Total asynchronous architecture       Sanderstown     1   \n",
       "692                Optional full-range projection       Matthewtown     1   \n",
       "768                   Exclusive discrete firmware  New Williamville     1   \n",
       "778      Persevering 5thgeneration knowledge user     New Hollyberg     0   \n",
       "952                        Total coherent archive         New James     1   \n",
       "\n",
       "                               Country        Timestamp  Clicked on Ad  \n",
       "135                             Belize  16/4/2016 12:09              1  \n",
       "410  Heard Island and McDonald Islands  28/5/2016 12:38              1  \n",
       "510                            Algeria   8/7/2016 17:14              1  \n",
       "640                         Azerbaijan   12/6/2016 3:11              1  \n",
       "665                         Tajikistan  12/2/2016 10:39              1  \n",
       "692                            Lebanon  25/4/2016 19:31              1  \n",
       "768                        El Salvador   6/7/2016 12:04              1  \n",
       "778                             Jersey   19/5/2016 6:37              1  \n",
       "952                         Luxembourg  30/5/2016 20:08              1  "
      ]
     },
     "execution_count": 10,
     "metadata": {},
     "output_type": "execute_result"
    }
   ],
   "source": [
    "# Find the index of the outliers\n",
    "idx=outliers[~outliers.isnull().all(axis=1)].index\n",
    "\n",
    "# Check the outliers with the index\n",
    "df.iloc[idx]"
   ]
  },
  {
   "cell_type": "markdown",
   "metadata": {},
   "source": [
    "📈`NHẬN XÉT:`\n",
    "- Vì các giá trị outliers trong Area Income hợp lý nên không loại bỏ mà sẽ thay thế bằng các giá trị phù hợp hơn cho thống kê bằng cách đặt giá trị tối đa và tối thiểu.\n",
    "- Giá trị tối đa được tính bằng công thức **Q3 + 1.5\\*(Q3 - Q1)**.\n",
    "- Giá trị tối thiểu được tính bằng công thức **Q1 - 1.5\\*(Q3 - Q1)**."
   ]
  },
  {
   "cell_type": "code",
   "execution_count": 11,
   "metadata": {},
   "outputs": [
    {
     "name": "stdout",
     "output_type": "stream",
     "text": [
      "93128.88375\n",
      "19373.553750000003\n"
     ]
    },
    {
     "data": {
      "text/html": [
       "<div>\n",
       "<style scoped>\n",
       "    .dataframe tbody tr th:only-of-type {\n",
       "        vertical-align: middle;\n",
       "    }\n",
       "\n",
       "    .dataframe tbody tr th {\n",
       "        vertical-align: top;\n",
       "    }\n",
       "\n",
       "    .dataframe thead th {\n",
       "        text-align: right;\n",
       "    }\n",
       "</style>\n",
       "<table border=\"1\" class=\"dataframe\">\n",
       "  <thead>\n",
       "    <tr style=\"text-align: right;\">\n",
       "      <th></th>\n",
       "      <th>Daily Time Spent on Site</th>\n",
       "      <th>Age</th>\n",
       "      <th>Area Income</th>\n",
       "      <th>Daily Internet Usage</th>\n",
       "    </tr>\n",
       "  </thead>\n",
       "  <tbody>\n",
       "    <tr>\n",
       "      <th>count</th>\n",
       "      <td>1000.000000</td>\n",
       "      <td>999.000000</td>\n",
       "      <td>1000.000000</td>\n",
       "      <td>1000.000000</td>\n",
       "    </tr>\n",
       "    <tr>\n",
       "      <th>mean</th>\n",
       "      <td>65.000200</td>\n",
       "      <td>36.019019</td>\n",
       "      <td>55025.321364</td>\n",
       "      <td>180.000100</td>\n",
       "    </tr>\n",
       "    <tr>\n",
       "      <th>std</th>\n",
       "      <td>15.853615</td>\n",
       "      <td>8.784245</td>\n",
       "      <td>13343.228619</td>\n",
       "      <td>43.902339</td>\n",
       "    </tr>\n",
       "    <tr>\n",
       "      <th>min</th>\n",
       "      <td>32.600000</td>\n",
       "      <td>19.000000</td>\n",
       "      <td>19373.553750</td>\n",
       "      <td>104.780000</td>\n",
       "    </tr>\n",
       "    <tr>\n",
       "      <th>25%</th>\n",
       "      <td>51.360000</td>\n",
       "      <td>29.000000</td>\n",
       "      <td>47031.802500</td>\n",
       "      <td>138.830000</td>\n",
       "    </tr>\n",
       "    <tr>\n",
       "      <th>50%</th>\n",
       "      <td>68.215000</td>\n",
       "      <td>35.000000</td>\n",
       "      <td>57012.300000</td>\n",
       "      <td>183.130000</td>\n",
       "    </tr>\n",
       "    <tr>\n",
       "      <th>75%</th>\n",
       "      <td>78.547500</td>\n",
       "      <td>42.000000</td>\n",
       "      <td>65470.635000</td>\n",
       "      <td>218.792500</td>\n",
       "    </tr>\n",
       "    <tr>\n",
       "      <th>max</th>\n",
       "      <td>91.430000</td>\n",
       "      <td>61.000000</td>\n",
       "      <td>79484.800000</td>\n",
       "      <td>269.960000</td>\n",
       "    </tr>\n",
       "  </tbody>\n",
       "</table>\n",
       "</div>"
      ],
      "text/plain": [
       "       Daily Time Spent on Site         Age   Area Income  \\\n",
       "count               1000.000000  999.000000   1000.000000   \n",
       "mean                  65.000200   36.019019  55025.321364   \n",
       "std                   15.853615    8.784245  13343.228619   \n",
       "min                   32.600000   19.000000  19373.553750   \n",
       "25%                   51.360000   29.000000  47031.802500   \n",
       "50%                   68.215000   35.000000  57012.300000   \n",
       "75%                   78.547500   42.000000  65470.635000   \n",
       "max                   91.430000   61.000000  79484.800000   \n",
       "\n",
       "       Daily Internet Usage  \n",
       "count           1000.000000  \n",
       "mean             180.000100  \n",
       "std               43.902339  \n",
       "min              104.780000  \n",
       "25%              138.830000  \n",
       "50%              183.130000  \n",
       "75%              218.792500  \n",
       "max              269.960000  "
      ]
     },
     "execution_count": 11,
     "metadata": {},
     "output_type": "execute_result"
    }
   ],
   "source": [
    "df_IQR = df.copy()\n",
    "\n",
    "#B1: Tìm khoảng Limit\n",
    "\n",
    "# Cach 1:Dùng IQR\n",
    "q1 = df_IQR['Area Income'].quantile(0.25)\n",
    "q3 = df_IQR['Area Income'].quantile(0.75)\n",
    "lower_limit = q1 - 1.5 * (q3 - q1)\n",
    "upper_limit = q3 + 1.5 * (q3 - q1)\n",
    "print(upper_limit)\n",
    "print(lower_limit)\n",
    "\n",
    "# Cach 2:Dùng mean()-3*std() và mean()+3*std()\n",
    "# upper_limit = df['Area Income'].mean() + 3*df['Area Income'].std()\n",
    "# print(upper_limit)\n",
    "# lower_limit = df['Area Income'].mean() - 3*df['Area Income'].std()\n",
    "# print(lower_limit)\n",
    "\n",
    "\n",
    "# B2: Thay Outliers\n",
    "\n",
    "# Cach 1: Thay giá trị outliers\n",
    "df_IQR['Area Income'] = np.where(\n",
    "    df_IQR['Area Income'] > upper_limit,\n",
    "    upper_limit,\n",
    "    np.where(df_IQR['Area Income'] < lower_limit, \n",
    "        lower_limit,\n",
    "        df_IQR['Area Income'])\n",
    ")\n",
    "\n",
    "# Cach 2: Xóa outliers\n",
    "#dfCopy=dfCopy.iloc[~idx]\n",
    "\n",
    "\n",
    "#B3: Kiểm tra lại\n",
    "df_IQR.describe()[num_features]"
   ]
  },
  {
   "cell_type": "code",
   "execution_count": 12,
   "metadata": {},
   "outputs": [
    {
     "data": {
      "image/png": "[encoded data removed]",
      "text/plain": [
       "<Figure size 1200x500 with 2 Axes>"
      ]
     },
     "metadata": {},
     "output_type": "display_data"
    }
   ],
   "source": [
    "# Create subplots: 1 row, 2 columns\n",
    "fig, ax = plt.subplots(1, 2, figsize=(12, 5))\n",
    "\n",
    "# KDE plot on the first subplot\n",
    "sns.kdeplot(data=df_IQR[\"Area Income\"], ax=ax[0])\n",
    "ax[0].set_title(\"Area Income Frequency After replace\")\n",
    "\n",
    "# Boxplot on the second subplot\n",
    "pd.DataFrame(df_IQR['Area Income']).boxplot(ax=ax[1])\n",
    "ax[1].set_title(\"Area Income\")\n",
    "\n",
    "# Adjust layout and display the plots\n",
    "plt.tight_layout()\n",
    "plt.show()"
   ]
  },
  {
   "cell_type": "markdown",
   "metadata": {},
   "source": [
    "📈`KẾT LUẬN:`\n",
    "- Phân phối không bị ảnh hưởng sau quá trình thay thế outliers, bên cạnh đó, tần suất điểm xuất hiện gần giá trị 20000 có tăng lên vì hầu hết các giá trị outliers đã bị thay bằng giá trị tối thiểu."
   ]
  },
  {
   "cell_type": "markdown",
   "metadata": {},
   "source": [
    "📝 **Sử dụng phương pháp Z-Score**"
   ]
  },
  {
   "cell_type": "markdown",
   "metadata": {},
   "source": [
    "The Z-score is a statistical method used to determine how far a data point deviates from the mean of a dataset. It measures how many standard deviations a data point is from the mean.\n",
    "\n",
    "A typical threshold for outliers using Z-scores is 3 (or -3). Any data point with a Z-score greater than 3 or less than -3 is considered an outlier.\n",
    "\n",
    "We'll use zscore function from scipy to calculate the Z-score for a dataset"
   ]
  },
  {
   "cell_type": "code",
   "execution_count": 13,
   "metadata": {},
   "outputs": [],
   "source": [
    "def detect_outlier_z_score(df:pd.DataFrame, threshold):\n",
    "    z_scores_abs = abs(zscore(df))\n",
    "    test = pd.DataFrame(z_scores_abs, columns=df.columns)\n",
    "    flag = (test > threshold).any() # to determine that columns have outliers\n",
    "    outlier_index = (test > threshold).any(axis=1)\n",
    "    return outlier_index, flag\n"
   ]
  },
  {
   "cell_type": "markdown",
   "metadata": {},
   "source": [
    "Generally, the boxplot diagram in the beginning indicates that Area Income column should be the only one with outliers."
   ]
  },
  {
   "cell_type": "code",
   "execution_count": 14,
   "metadata": {},
   "outputs": [
    {
     "name": "stdout",
     "output_type": "stream",
     "text": [
      "     Daily Time Spent on Site   Age  Area Income  Daily Internet Usage\n",
      "692                     66.26  47.0     14548.06                179.04\n",
      "768                     68.58  41.0     13996.50                171.54\n",
      "778                     52.67  44.0     14775.50                191.26 \n",
      "\n",
      "Daily Time Spent on Site    False\n",
      "Age                         False\n",
      "Area Income                  True\n",
      "Daily Internet Usage        False\n",
      "dtype: bool\n"
     ]
    }
   ],
   "source": [
    "invalid_index, flag = detect_outlier_z_score(df[num_features], 3)\n",
    "print(df.loc[invalid_index, num_features], '\\n')\n",
    "print(flag) # to determine that columns have outliers"
   ]
  },
  {
   "cell_type": "markdown",
   "metadata": {},
   "source": [
    "📈`NHẬN XÉT:`\n",
    "\n",
    "We detect 3 outliers using z-score with threshold = 3. As expected, all of the outliers are in Area Income column\n",
    "\n",
    "We will treat the outliers by capping them because those outliers are reasonable and not likely to be a false input"
   ]
  },
  {
   "cell_type": "code",
   "execution_count": 15,
   "metadata": {},
   "outputs": [],
   "source": [
    "df_Zscore = df.copy()\n",
    "\n",
    "lower_limit = df_Zscore['Area Income'].quantile(0.01)\n",
    "upper_limit = df_Zscore['Area Income'].quantile(0.99)\n",
    "\n",
    "df_Zscore['Area Income'] = df_Zscore['Area Income'].clip(lower=lower_limit, upper=upper_limit)"
   ]
  },
  {
   "cell_type": "markdown",
   "metadata": {},
   "source": [
    "<div style=\"text-align: left; font-family: 'Trebuchet MS', Arial, sans-serif; color: #E7B10A; padding: 15px; font-size: 18px; font-weight: bold; border-radius: 0 0 0 0\">\n",
    "🧮🧮🧮  Chúng ta sẽ chọn tập dữ liệu được xử lý bởi phương pháp IQR vì nó cho nhiều outliers hơn.\n",
    "</div>"
   ]
  },
  {
   "cell_type": "code",
   "execution_count": 16,
   "metadata": {},
   "outputs": [],
   "source": [
    "# df = df_IQR.copy()"
   ]
  },
  {
   "cell_type": "markdown",
   "metadata": {},
   "source": [
    "<div style=\"text-align: left; font-family: 'Trebuchet MS', Arial, sans-serif; color: #8C3333; padding: 20px; font-size: 25px; font-weight: bold; border-radius: 0 0 0 0; background-color: #AFC8AD\">\n",
    "  5. Xử lý dữ liệu bị thiếu 🧮\n",
    "</div>"
   ]
  },
  {
   "cell_type": "markdown",
   "metadata": {},
   "source": [
    "🚨  Việc thiếu dữ liệu có thể làm sai lệch kết quả phân tích của chúng ta và dẫn đến những hiểu biết không chính xác.\\\n",
    "🚨  Điều quan trọng là xác định và xử lý các giá trị còn thiếu một cách hiệu quả.\\\n",
    "🚨  Nếu tồn tại dữ liệu bị thiếu, chúng ta sẽ khám phá các chiến lược để điền hoặc xóa chúng dựa trên ngữ cảnh và tính chất của tập dữ liệu.\\\n",
    "🚨  Trong phần này, chúng ta sẽ phân tích các giá trị thiếu và thực hiện các hành động cần thiết như điền, ước lượng hoặc loại bỏ."
   ]
  },
  {
   "cell_type": "markdown",
   "metadata": {},
   "source": [
    "👀  Như đã đề cập ở phần trước, chỉ có duy nhất 1 dòng với giá trị bị thiếu ở 1 cột, xem bên dưới."
   ]
  },
  {
   "cell_type": "code",
   "execution_count": 17,
   "metadata": {},
   "outputs": [
    {
     "data": {
      "text/plain": [
       "Age                         1\n",
       "Daily Time Spent on Site    0\n",
       "Area Income                 0\n",
       "Daily Internet Usage        0\n",
       "Ad Topic Line               0\n",
       "City                        0\n",
       "Male                        0\n",
       "Country                     0\n",
       "Timestamp                   0\n",
       "Clicked on Ad               0\n",
       "dtype: int64"
      ]
     },
     "execution_count": 17,
     "metadata": {},
     "output_type": "execute_result"
    }
   ],
   "source": [
    "df.isnull().sum().sort_values(ascending=False)"
   ]
  },
  {
   "cell_type": "markdown",
   "metadata": {},
   "source": [
    "❄️ Tập dữ liệu có outliers nên thay thế dữ liệu bị thiếu bằng giá trị trung vị sẽ phù hợp hơn dẫu việc thay thế giá trị cho 1 dòng duy nhất cũng sẽ không gây ảnh hưởng lớn đến kết quả phân tích."
   ]
  },
  {
   "cell_type": "code",
   "execution_count": 18,
   "metadata": {},
   "outputs": [
    {
     "data": {
      "text/plain": [
       "Daily Time Spent on Site    0\n",
       "Age                         0\n",
       "Area Income                 0\n",
       "Daily Internet Usage        0\n",
       "Ad Topic Line               0\n",
       "City                        0\n",
       "Male                        0\n",
       "Country                     0\n",
       "Timestamp                   0\n",
       "Clicked on Ad               0\n",
       "dtype: int64"
      ]
     },
     "execution_count": 18,
     "metadata": {},
     "output_type": "execute_result"
    }
   ],
   "source": [
    "# Thay thế dữ liệu tuổi bị thiếu với giá trị trung bị của cột tuổi\n",
    "df['Age'] = df['Age'].fillna(df['Age'].median())\n",
    "\n",
    "df.isnull().sum().sort_values(ascending=False)"
   ]
  },
  {
   "cell_type": "markdown",
   "metadata": {},
   "source": [
    "<div style=\"text-align: left; font-family: 'Trebuchet MS', Arial, sans-serif; color: #8C3333; padding: 20px; font-size: 25px; font-weight: bold; border-radius: 0 0 0 0; background-color: #AFC8AD\">\n",
    "  6. Kiểm tra sự cân bằng của các giá trị trong cột \"Clicked on Ad\"\n",
    "</div>"
   ]
  },
  {
   "cell_type": "markdown",
   "metadata": {},
   "source": [
    "🔍🔍🔍\n",
    "- Trong phân tích dữ liệu, mất cân bằng xảy ra khi số lượng mẫu của các lớp trong tập dữ liệu không đồng đều, thường gặp trong phân loại nhị phân. Ví dụ, một lớp như \"dương tính\" hoặc \"có bệnh\" có rất ít mẫu so với lớp \"âm tính\" hoặc \"không bệnh\", gây phân bố lệch trong dữ liệu.\n",
    "- Mất cân bằng lớp làm giảm hiệu quả của mô hình phân loại vì mô hình có xu hướng ưu tiên dự đoán lớp có nhiều mẫu hơn, dẫn đến việc bỏ sót các mẫu thuộc lớp ít xuất hiện.\n",
    "- 🚨 Trong phần này, ta sẽ xác định sự cân bằng của cột \"Clicked on Ad\" bằng nhiều cách. \n"
   ]
  },
  {
   "cell_type": "markdown",
   "metadata": {},
   "source": [
    "👀 Đếm giá trị riêng biệt của cột \"Clicked on Ad\""
   ]
  },
  {
   "cell_type": "code",
   "execution_count": 19,
   "metadata": {},
   "outputs": [
    {
     "name": "stdout",
     "output_type": "stream",
     "text": [
      "Value Counts: Clicked on Ad\n",
      "0    500\n",
      "1    500\n",
      "Name: count, dtype: int64\n"
     ]
    }
   ],
   "source": [
    "value_counts = df['Clicked on Ad'].value_counts()\n",
    "print(f'Value Counts: {value_counts}')"
   ]
  },
  {
   "cell_type": "markdown",
   "metadata": {},
   "source": [
    "👀 Trực quan hóa sự phân bố dữ liệu của cột \"Clicked on Ad\""
   ]
  },
  {
   "cell_type": "code",
   "execution_count": 20,
   "metadata": {},
   "outputs": [
    {
     "data": {
      "image/png": "[encoded data removed]",
      "text/plain": [
       "<Figure size 800x500 with 1 Axes>"
      ]
     },
     "metadata": {},
     "output_type": "display_data"
    }
   ],
   "source": [
    "plt.figure(figsize=(8, 5))\n",
    "sns.countplot(x='Clicked on Ad', hue='Clicked on Ad', data=df, palette='Set2', legend=False)\n",
    "plt.title('Distribution of Clicks on Ads')\n",
    "plt.xlabel('Click on Ad (0 = No, 1 = Yes)')\n",
    "plt.ylabel('Count')\n",
    "plt.xticks([0, 1], ['No Click', 'Click'])\n",
    "plt.show()"
   ]
  },
  {
   "cell_type": "markdown",
   "metadata": {},
   "source": [
    "👀 Tính giá trị tỷ lệ của cột"
   ]
  },
  {
   "cell_type": "code",
   "execution_count": 21,
   "metadata": {},
   "outputs": [
    {
     "name": "stdout",
     "output_type": "stream",
     "text": [
      "\n",
      "Proportions of Each Class:\n",
      "Clicked on Ad\n",
      "0    0.5\n",
      "1    0.5\n",
      "Name: count, dtype: float64\n"
     ]
    }
   ],
   "source": [
    "proportions = value_counts / len(df)\n",
    "print(\"\\nProportions of Each Class:\")\n",
    "print(proportions)"
   ]
  },
  {
   "cell_type": "markdown",
   "metadata": {},
   "source": [
    "📈`NHẬN XÉT:`\n",
    "- ***Sự phân chia gần như đồng đều*** này cho thấy ***không có sự mất cân bằng lớp*** đáng kể trong tập dữ liệu.\n",
    "- Một phân bố cân bằng như vậy có lợi cho các việc phân loại, vì nó giúp đảm bảo mô hình dự đoán có thể học hiệu quả từ cả hai lớp mà không thiên vị lớp nào hơn.\n",
    "- Chúng ta có thể kỳ vọng mô hình sẽ đáng tin cậy và công bằng hơn khi dự đoán sự tương tác của người dùng với quảng cáo."
   ]
  },
  {
   "cell_type": "markdown",
   "metadata": {},
   "source": [
    "<div style=\"text-align: left; font-family: 'Trebuchet MS', Arial, sans-serif; color: #8C3333; padding-left: 20px; padding-bottom:10px;padding-top:10px;font-size: 25px; font-weight: bold; border-radius: 0 0 0 0; background-color: #AFC8AD\">7.  Kiểm tra và biến đổi kiểu dữ liệu của các cột cho phù hợp nhu cầu sau này. 🧮\n",
    "</div>"
   ]
  },
  {
   "cell_type": "markdown",
   "metadata": {},
   "source": [
    "👀 Tiếp theo, chúng ta sẽ xem xét kiểu dữ liệu của từng cột và phân loại dữ liệu của các cột."
   ]
  },
  {
   "cell_type": "code",
   "execution_count": 22,
   "metadata": {},
   "outputs": [
    {
     "data": {
      "text/plain": [
       "Daily Time Spent on Site    float64\n",
       "Age                         float64\n",
       "Area Income                 float64\n",
       "Daily Internet Usage        float64\n",
       "Ad Topic Line                object\n",
       "City                         object\n",
       "Male                          int64\n",
       "Country                      object\n",
       "Timestamp                    object\n",
       "Clicked on Ad                 int64\n",
       "dtype: object"
      ]
     },
     "execution_count": 22,
     "metadata": {},
     "output_type": "execute_result"
    }
   ],
   "source": [
    "df.dtypes"
   ]
  },
  {
   "cell_type": "markdown",
   "metadata": {},
   "source": [
    "👀 Chúng ta có thể thấy rõ rằng kiểu dữ liệu của cột `Age` là **float64** nên chúng ta sẽ chuyển đổi nó thành **int64**."
   ]
  },
  {
   "cell_type": "code",
   "execution_count": 23,
   "metadata": {},
   "outputs": [],
   "source": [
    "df['Age'] = df['Age'].astype('int64')"
   ]
  },
  {
   "cell_type": "markdown",
   "metadata": {},
   "source": [
    "👀 `Timestamp` có thể là kiểu dữ liệu date-time nên chúng ta chuyển đổi cột này thành **date-time**."
   ]
  },
  {
   "cell_type": "code",
   "execution_count": 24,
   "metadata": {},
   "outputs": [],
   "source": [
    "df['Timestamp'] = pd.to_datetime(df['Timestamp'], format='mixed')"
   ]
  },
  {
   "cell_type": "markdown",
   "metadata": {},
   "source": [
    "👀 Bây giờ hãy cùng xem lại các kiểu dữ liệu của từng cột."
   ]
  },
  {
   "cell_type": "code",
   "execution_count": 25,
   "metadata": {},
   "outputs": [
    {
     "data": {
      "text/plain": [
       "Daily Time Spent on Site           float64\n",
       "Age                                  int64\n",
       "Area Income                        float64\n",
       "Daily Internet Usage               float64\n",
       "Ad Topic Line                       object\n",
       "City                                object\n",
       "Male                                 int64\n",
       "Country                             object\n",
       "Timestamp                   datetime64[ns]\n",
       "Clicked on Ad                        int64\n",
       "dtype: object"
      ]
     },
     "execution_count": 25,
     "metadata": {},
     "output_type": "execute_result"
    }
   ],
   "source": [
    "df.dtypes"
   ]
  },
  {
   "cell_type": "markdown",
   "metadata": {},
   "source": [
    "👀 Tiếp theo, ta sẽ kiểm tra xem trong mỗi cột có bao nhiêu giá trị khác nhau."
   ]
  },
  {
   "cell_type": "code",
   "execution_count": 26,
   "metadata": {},
   "outputs": [
    {
     "name": "stdout",
     "output_type": "stream",
     "text": [
      "Số giá trị khác nhau của mỗi cột:\n",
      "\n",
      "Daily Time Spent on Site     900\n",
      "Age                           43\n",
      "Area Income                 1000\n",
      "Daily Internet Usage         966\n",
      "Ad Topic Line               1000\n",
      "City                         969\n",
      "Male                           2\n",
      "Country                      237\n",
      "Timestamp                    997\n",
      "Clicked on Ad                  2\n",
      "dtype: int64\n"
     ]
    }
   ],
   "source": [
    "unique_values = df.nunique()\n",
    "print(\"Số giá trị khác nhau của mỗi cột:\\n\")\n",
    "print(unique_values)"
   ]
  },
  {
   "cell_type": "markdown",
   "metadata": {},
   "source": [
    "📈`NHẬN XÉT:`\n",
    "\n",
    "- Ta có thể thấy, các cột Categorical Data như `Ad Topic Line`, `City`, `Country` có quá nhiều giá trị khác nhau trong mỗi cột.\n",
    "- Với cột mỗi cột ta sẽ kiểm tra xem có thể áp dụng phương pháp Standardization nào hay không."
   ]
  },
  {
   "cell_type": "code",
   "execution_count": 27,
   "metadata": {},
   "outputs": [
    {
     "name": "stdout",
     "output_type": "stream",
     "text": [
      "Số lượng xuất hiện của mỗi giá trị trong cột Ad Topic Line:\n",
      "\n",
      "Ad Topic Line\n",
      "Virtual 5thgeneration emulation                  0.001\n",
      "Cloned 5thgeneration orchestration               0.001\n",
      "Monitored national standardization               0.001\n",
      "Organic bottom-line service-desk                 0.001\n",
      "Triple-buffered reciprocal time-frame            0.001\n",
      "                                                 ...  \n",
      "Centralized content-based focus group            0.001\n",
      "Team-oriented grid-enabled Local Area Network    0.001\n",
      "Centralized neutral neural-net                   0.001\n",
      "Mandatory homogeneous architecture               0.001\n",
      "Configurable coherent function                   0.001\n",
      "Name: proportion, Length: 1000, dtype: float64\n"
     ]
    }
   ],
   "source": [
    "# Đếm số lượng xuất hiện (tính theo %) cùa mỗi giá trị trong cột Ad Topic Line\n",
    "counts = df['Ad Topic Line'].value_counts(normalize=True)\n",
    "print(\"Số lượng xuất hiện của mỗi giá trị trong cột Ad Topic Line:\\n\")\n",
    "print(counts)"
   ]
  },
  {
   "cell_type": "code",
   "execution_count": 28,
   "metadata": {},
   "outputs": [
    {
     "name": "stdout",
     "output_type": "stream",
     "text": [
      "Số lượng xuất hiện của mỗi giá trị trong cột City:\n",
      "\n",
      "City\n",
      "Lisamouth        0.003\n",
      "Williamsport     0.003\n",
      "West Amanda      0.002\n",
      "East Timothy     0.002\n",
      "Lake Patrick     0.002\n",
      "                 ...  \n",
      "Nicholasland     0.001\n",
      "Duffystad        0.001\n",
      "New Darlene      0.001\n",
      "South Jessica    0.001\n",
      "Lake Matthew     0.001\n",
      "Name: proportion, Length: 969, dtype: float64\n"
     ]
    }
   ],
   "source": [
    "# Đếm số lượng xuất hiện (tính theo %) cùa mỗi giá trị trong cột City\n",
    "counts = df['City'].value_counts(normalize=True)\n",
    "print(\"Số lượng xuất hiện của mỗi giá trị trong cột City:\\n\")\n",
    "print(counts)"
   ]
  },
  {
   "cell_type": "code",
   "execution_count": 29,
   "metadata": {},
   "outputs": [
    {
     "name": "stdout",
     "output_type": "stream",
     "text": [
      "Số lượng xuất hiện của mỗi giá trị trong cột Country:\n",
      "\n",
      "Country\n",
      "Czech Republic      0.009\n",
      "France              0.009\n",
      "Senegal             0.008\n",
      "Peru                0.008\n",
      "Greece              0.008\n",
      "                    ...  \n",
      "Kiribati            0.001\n",
      "Marshall Islands    0.001\n",
      "Bermuda             0.001\n",
      "Mozambique          0.001\n",
      "Lesotho             0.001\n",
      "Name: proportion, Length: 237, dtype: float64\n"
     ]
    }
   ],
   "source": [
    "# Đếm số lượng xuất hiện (tính theo %) cùa mỗi giá trị trong cột Country\n",
    "counts = df['Country'].value_counts(normalize=True)\n",
    "print(\"Số lượng xuất hiện của mỗi giá trị trong cột Country:\\n\")\n",
    "print(counts)"
   ]
  },
  {
   "cell_type": "markdown",
   "metadata": {},
   "source": [
    "📈`NHẬN XÉT:`\n",
    "\n",
    "Từ số liệu ở trên, ta có thể thấy không cột nào có dữ liệu có số lần xuất hiện vượt trội với các dữ liệu còn lại trong cột, tất cả các dữ liệu đều có số lần xuất hiện gần bằng nhau."
   ]
  },
  {
   "cell_type": "markdown",
   "metadata": {},
   "source": [
    "🔍 Nhìn tổng quan về tập dữ liệu, chúng ta không cần standardize bất kỳ cột dữ liệu nào nhưng có thể cần normalize một số cột dữ liệu số."
   ]
  },
  {
   "cell_type": "markdown",
   "metadata": {},
   "source": [
    "<div style=\"text-align: left; font-family: 'Trebuchet MS', Arial, sans-serif; color: #8C3333; padding: 20px; font-size: 25px; font-weight: bold; border-radius: 0 0 0 0; background-color: #AFC8AD\">\n",
    "  8. Sắp xếp lại thứ tự của các cột trong bộ dữ liệu 🧮\n",
    "</div> "
   ]
  },
  {
   "cell_type": "markdown",
   "metadata": {},
   "source": [
    "👀 Chúng ta hãy xem lại toàn bộ bộ dữ liệu."
   ]
  },
  {
   "cell_type": "code",
   "execution_count": 30,
   "metadata": {},
   "outputs": [
    {
     "data": {
      "text/html": [
       "<div>\n",
       "<style scoped>\n",
       "    .dataframe tbody tr th:only-of-type {\n",
       "        vertical-align: middle;\n",
       "    }\n",
       "\n",
       "    .dataframe tbody tr th {\n",
       "        vertical-align: top;\n",
       "    }\n",
       "\n",
       "    .dataframe thead th {\n",
       "        text-align: right;\n",
       "    }\n",
       "</style>\n",
       "<table border=\"1\" class=\"dataframe\">\n",
       "  <thead>\n",
       "    <tr style=\"text-align: right;\">\n",
       "      <th></th>\n",
       "      <th>Daily Time Spent on Site</th>\n",
       "      <th>Age</th>\n",
       "      <th>Area Income</th>\n",
       "      <th>Daily Internet Usage</th>\n",
       "      <th>Ad Topic Line</th>\n",
       "      <th>City</th>\n",
       "      <th>Male</th>\n",
       "      <th>Country</th>\n",
       "      <th>Timestamp</th>\n",
       "      <th>Clicked on Ad</th>\n",
       "    </tr>\n",
       "  </thead>\n",
       "  <tbody>\n",
       "    <tr>\n",
       "      <th>0</th>\n",
       "      <td>68.95</td>\n",
       "      <td>35</td>\n",
       "      <td>61833.90</td>\n",
       "      <td>256.09</td>\n",
       "      <td>Cloned 5thgeneration orchestration</td>\n",
       "      <td>Wrightburgh</td>\n",
       "      <td>0</td>\n",
       "      <td>Tunisia</td>\n",
       "      <td>2016-03-27 00:53:00</td>\n",
       "      <td>0</td>\n",
       "    </tr>\n",
       "    <tr>\n",
       "      <th>1</th>\n",
       "      <td>80.23</td>\n",
       "      <td>31</td>\n",
       "      <td>68441.85</td>\n",
       "      <td>193.77</td>\n",
       "      <td>Monitored national standardization</td>\n",
       "      <td>West Jodi</td>\n",
       "      <td>1</td>\n",
       "      <td>Nauru</td>\n",
       "      <td>2016-04-04 01:39:00</td>\n",
       "      <td>0</td>\n",
       "    </tr>\n",
       "    <tr>\n",
       "      <th>2</th>\n",
       "      <td>69.47</td>\n",
       "      <td>26</td>\n",
       "      <td>59785.94</td>\n",
       "      <td>236.50</td>\n",
       "      <td>Organic bottom-line service-desk</td>\n",
       "      <td>Davidton</td>\n",
       "      <td>0</td>\n",
       "      <td>San Marino</td>\n",
       "      <td>2016-03-13 20:35:00</td>\n",
       "      <td>0</td>\n",
       "    </tr>\n",
       "    <tr>\n",
       "      <th>3</th>\n",
       "      <td>74.15</td>\n",
       "      <td>29</td>\n",
       "      <td>54806.18</td>\n",
       "      <td>245.89</td>\n",
       "      <td>Triple-buffered reciprocal time-frame</td>\n",
       "      <td>West Terrifurt</td>\n",
       "      <td>1</td>\n",
       "      <td>Italy</td>\n",
       "      <td>2016-10-01 02:31:00</td>\n",
       "      <td>0</td>\n",
       "    </tr>\n",
       "    <tr>\n",
       "      <th>4</th>\n",
       "      <td>68.37</td>\n",
       "      <td>35</td>\n",
       "      <td>73889.99</td>\n",
       "      <td>225.58</td>\n",
       "      <td>Robust logistical utilization</td>\n",
       "      <td>South Manuel</td>\n",
       "      <td>0</td>\n",
       "      <td>Iceland</td>\n",
       "      <td>2016-03-06 03:36:00</td>\n",
       "      <td>0</td>\n",
       "    </tr>\n",
       "    <tr>\n",
       "      <th>5</th>\n",
       "      <td>59.99</td>\n",
       "      <td>23</td>\n",
       "      <td>59761.56</td>\n",
       "      <td>226.74</td>\n",
       "      <td>Sharable client-driven software</td>\n",
       "      <td>Jamieberg</td>\n",
       "      <td>1</td>\n",
       "      <td>Norway</td>\n",
       "      <td>2016-05-19 14:30:00</td>\n",
       "      <td>0</td>\n",
       "    </tr>\n",
       "    <tr>\n",
       "      <th>6</th>\n",
       "      <td>88.91</td>\n",
       "      <td>33</td>\n",
       "      <td>53852.85</td>\n",
       "      <td>208.36</td>\n",
       "      <td>Enhanced dedicated support</td>\n",
       "      <td>Brandonstad</td>\n",
       "      <td>0</td>\n",
       "      <td>Myanmar</td>\n",
       "      <td>2016-01-28 20:59:00</td>\n",
       "      <td>0</td>\n",
       "    </tr>\n",
       "    <tr>\n",
       "      <th>7</th>\n",
       "      <td>66.00</td>\n",
       "      <td>48</td>\n",
       "      <td>24593.33</td>\n",
       "      <td>131.76</td>\n",
       "      <td>Reactive local challenge</td>\n",
       "      <td>Port Jefferybury</td>\n",
       "      <td>1</td>\n",
       "      <td>Australia</td>\n",
       "      <td>2016-07-03 01:40:00</td>\n",
       "      <td>1</td>\n",
       "    </tr>\n",
       "    <tr>\n",
       "      <th>8</th>\n",
       "      <td>74.53</td>\n",
       "      <td>30</td>\n",
       "      <td>68862.00</td>\n",
       "      <td>221.51</td>\n",
       "      <td>Configurable coherent function</td>\n",
       "      <td>West Colin</td>\n",
       "      <td>1</td>\n",
       "      <td>Grenada</td>\n",
       "      <td>2016-04-18 09:33:00</td>\n",
       "      <td>0</td>\n",
       "    </tr>\n",
       "    <tr>\n",
       "      <th>9</th>\n",
       "      <td>69.88</td>\n",
       "      <td>20</td>\n",
       "      <td>55642.32</td>\n",
       "      <td>183.82</td>\n",
       "      <td>Mandatory homogeneous architecture</td>\n",
       "      <td>Ramirezton</td>\n",
       "      <td>1</td>\n",
       "      <td>Ghana</td>\n",
       "      <td>2016-11-07 01:42:00</td>\n",
       "      <td>0</td>\n",
       "    </tr>\n",
       "  </tbody>\n",
       "</table>\n",
       "</div>"
      ],
      "text/plain": [
       "   Daily Time Spent on Site  Age  Area Income  Daily Internet Usage  \\\n",
       "0                     68.95   35     61833.90                256.09   \n",
       "1                     80.23   31     68441.85                193.77   \n",
       "2                     69.47   26     59785.94                236.50   \n",
       "3                     74.15   29     54806.18                245.89   \n",
       "4                     68.37   35     73889.99                225.58   \n",
       "5                     59.99   23     59761.56                226.74   \n",
       "6                     88.91   33     53852.85                208.36   \n",
       "7                     66.00   48     24593.33                131.76   \n",
       "8                     74.53   30     68862.00                221.51   \n",
       "9                     69.88   20     55642.32                183.82   \n",
       "\n",
       "                           Ad Topic Line              City  Male     Country  \\\n",
       "0     Cloned 5thgeneration orchestration       Wrightburgh     0     Tunisia   \n",
       "1     Monitored national standardization         West Jodi     1       Nauru   \n",
       "2       Organic bottom-line service-desk          Davidton     0  San Marino   \n",
       "3  Triple-buffered reciprocal time-frame    West Terrifurt     1       Italy   \n",
       "4          Robust logistical utilization      South Manuel     0     Iceland   \n",
       "5        Sharable client-driven software         Jamieberg     1      Norway   \n",
       "6             Enhanced dedicated support       Brandonstad     0     Myanmar   \n",
       "7               Reactive local challenge  Port Jefferybury     1   Australia   \n",
       "8         Configurable coherent function        West Colin     1     Grenada   \n",
       "9     Mandatory homogeneous architecture        Ramirezton     1       Ghana   \n",
       "\n",
       "            Timestamp  Clicked on Ad  \n",
       "0 2016-03-27 00:53:00              0  \n",
       "1 2016-04-04 01:39:00              0  \n",
       "2 2016-03-13 20:35:00              0  \n",
       "3 2016-10-01 02:31:00              0  \n",
       "4 2016-03-06 03:36:00              0  \n",
       "5 2016-05-19 14:30:00              0  \n",
       "6 2016-01-28 20:59:00              0  \n",
       "7 2016-07-03 01:40:00              1  \n",
       "8 2016-04-18 09:33:00              0  \n",
       "9 2016-11-07 01:42:00              0  "
      ]
     },
     "execution_count": 30,
     "metadata": {},
     "output_type": "execute_result"
    }
   ],
   "source": [
    "df.head(10)"
   ]
  },
  {
   "cell_type": "markdown",
   "metadata": {},
   "source": [
    "📈`NHẬN XÉT:`\n",
    "\n",
    "🌵 Chúng ta sẽ đem cột một số cột dữ liệu không phải kiểu số như `City` và `Country` ra đằng sau nhưng đứng trước `Clicked on Ad`, `Timestamp`.\n",
    "\n",
    "🌵 Tiếp theo, chúng ta sẽ để cột `Daily Time Spent on Site`, `Daily Internet Usage` đứng trước 2 cột trên.\n",
    "\n",
    "🌵 Cuối cùng, ta sẽ sắp xếp các cột dữ liệu còn lại theo thứ tự `Ad Topic Line`, `Area Income`, `Male` và `Age` ở phía trước."
   ]
  },
  {
   "cell_type": "code",
   "execution_count": 31,
   "metadata": {},
   "outputs": [
    {
     "data": {
      "text/html": [
       "<div>\n",
       "<style scoped>\n",
       "    .dataframe tbody tr th:only-of-type {\n",
       "        vertical-align: middle;\n",
       "    }\n",
       "\n",
       "    .dataframe tbody tr th {\n",
       "        vertical-align: top;\n",
       "    }\n",
       "\n",
       "    .dataframe thead th {\n",
       "        text-align: right;\n",
       "    }\n",
       "</style>\n",
       "<table border=\"1\" class=\"dataframe\">\n",
       "  <thead>\n",
       "    <tr style=\"text-align: right;\">\n",
       "      <th></th>\n",
       "      <th>Ad Topic Line</th>\n",
       "      <th>Area Income</th>\n",
       "      <th>Male</th>\n",
       "      <th>Age</th>\n",
       "      <th>Daily Time Spent on Site</th>\n",
       "      <th>Daily Internet Usage</th>\n",
       "      <th>City</th>\n",
       "      <th>Country</th>\n",
       "      <th>Clicked on Ad</th>\n",
       "      <th>Timestamp</th>\n",
       "    </tr>\n",
       "  </thead>\n",
       "  <tbody>\n",
       "    <tr>\n",
       "      <th>0</th>\n",
       "      <td>Cloned 5thgeneration orchestration</td>\n",
       "      <td>61833.90</td>\n",
       "      <td>0</td>\n",
       "      <td>35</td>\n",
       "      <td>68.95</td>\n",
       "      <td>256.09</td>\n",
       "      <td>Wrightburgh</td>\n",
       "      <td>Tunisia</td>\n",
       "      <td>0</td>\n",
       "      <td>2016-03-27 00:53:00</td>\n",
       "    </tr>\n",
       "    <tr>\n",
       "      <th>1</th>\n",
       "      <td>Monitored national standardization</td>\n",
       "      <td>68441.85</td>\n",
       "      <td>1</td>\n",
       "      <td>31</td>\n",
       "      <td>80.23</td>\n",
       "      <td>193.77</td>\n",
       "      <td>West Jodi</td>\n",
       "      <td>Nauru</td>\n",
       "      <td>0</td>\n",
       "      <td>2016-04-04 01:39:00</td>\n",
       "    </tr>\n",
       "    <tr>\n",
       "      <th>2</th>\n",
       "      <td>Organic bottom-line service-desk</td>\n",
       "      <td>59785.94</td>\n",
       "      <td>0</td>\n",
       "      <td>26</td>\n",
       "      <td>69.47</td>\n",
       "      <td>236.50</td>\n",
       "      <td>Davidton</td>\n",
       "      <td>San Marino</td>\n",
       "      <td>0</td>\n",
       "      <td>2016-03-13 20:35:00</td>\n",
       "    </tr>\n",
       "    <tr>\n",
       "      <th>3</th>\n",
       "      <td>Triple-buffered reciprocal time-frame</td>\n",
       "      <td>54806.18</td>\n",
       "      <td>1</td>\n",
       "      <td>29</td>\n",
       "      <td>74.15</td>\n",
       "      <td>245.89</td>\n",
       "      <td>West Terrifurt</td>\n",
       "      <td>Italy</td>\n",
       "      <td>0</td>\n",
       "      <td>2016-10-01 02:31:00</td>\n",
       "    </tr>\n",
       "    <tr>\n",
       "      <th>4</th>\n",
       "      <td>Robust logistical utilization</td>\n",
       "      <td>73889.99</td>\n",
       "      <td>0</td>\n",
       "      <td>35</td>\n",
       "      <td>68.37</td>\n",
       "      <td>225.58</td>\n",
       "      <td>South Manuel</td>\n",
       "      <td>Iceland</td>\n",
       "      <td>0</td>\n",
       "      <td>2016-03-06 03:36:00</td>\n",
       "    </tr>\n",
       "    <tr>\n",
       "      <th>5</th>\n",
       "      <td>Sharable client-driven software</td>\n",
       "      <td>59761.56</td>\n",
       "      <td>1</td>\n",
       "      <td>23</td>\n",
       "      <td>59.99</td>\n",
       "      <td>226.74</td>\n",
       "      <td>Jamieberg</td>\n",
       "      <td>Norway</td>\n",
       "      <td>0</td>\n",
       "      <td>2016-05-19 14:30:00</td>\n",
       "    </tr>\n",
       "    <tr>\n",
       "      <th>6</th>\n",
       "      <td>Enhanced dedicated support</td>\n",
       "      <td>53852.85</td>\n",
       "      <td>0</td>\n",
       "      <td>33</td>\n",
       "      <td>88.91</td>\n",
       "      <td>208.36</td>\n",
       "      <td>Brandonstad</td>\n",
       "      <td>Myanmar</td>\n",
       "      <td>0</td>\n",
       "      <td>2016-01-28 20:59:00</td>\n",
       "    </tr>\n",
       "    <tr>\n",
       "      <th>7</th>\n",
       "      <td>Reactive local challenge</td>\n",
       "      <td>24593.33</td>\n",
       "      <td>1</td>\n",
       "      <td>48</td>\n",
       "      <td>66.00</td>\n",
       "      <td>131.76</td>\n",
       "      <td>Port Jefferybury</td>\n",
       "      <td>Australia</td>\n",
       "      <td>1</td>\n",
       "      <td>2016-07-03 01:40:00</td>\n",
       "    </tr>\n",
       "    <tr>\n",
       "      <th>8</th>\n",
       "      <td>Configurable coherent function</td>\n",
       "      <td>68862.00</td>\n",
       "      <td>1</td>\n",
       "      <td>30</td>\n",
       "      <td>74.53</td>\n",
       "      <td>221.51</td>\n",
       "      <td>West Colin</td>\n",
       "      <td>Grenada</td>\n",
       "      <td>0</td>\n",
       "      <td>2016-04-18 09:33:00</td>\n",
       "    </tr>\n",
       "    <tr>\n",
       "      <th>9</th>\n",
       "      <td>Mandatory homogeneous architecture</td>\n",
       "      <td>55642.32</td>\n",
       "      <td>1</td>\n",
       "      <td>20</td>\n",
       "      <td>69.88</td>\n",
       "      <td>183.82</td>\n",
       "      <td>Ramirezton</td>\n",
       "      <td>Ghana</td>\n",
       "      <td>0</td>\n",
       "      <td>2016-11-07 01:42:00</td>\n",
       "    </tr>\n",
       "  </tbody>\n",
       "</table>\n",
       "</div>"
      ],
      "text/plain": [
       "                           Ad Topic Line  Area Income  Male  Age  \\\n",
       "0     Cloned 5thgeneration orchestration     61833.90     0   35   \n",
       "1     Monitored national standardization     68441.85     1   31   \n",
       "2       Organic bottom-line service-desk     59785.94     0   26   \n",
       "3  Triple-buffered reciprocal time-frame     54806.18     1   29   \n",
       "4          Robust logistical utilization     73889.99     0   35   \n",
       "5        Sharable client-driven software     59761.56     1   23   \n",
       "6             Enhanced dedicated support     53852.85     0   33   \n",
       "7               Reactive local challenge     24593.33     1   48   \n",
       "8         Configurable coherent function     68862.00     1   30   \n",
       "9     Mandatory homogeneous architecture     55642.32     1   20   \n",
       "\n",
       "   Daily Time Spent on Site  Daily Internet Usage              City  \\\n",
       "0                     68.95                256.09       Wrightburgh   \n",
       "1                     80.23                193.77         West Jodi   \n",
       "2                     69.47                236.50          Davidton   \n",
       "3                     74.15                245.89    West Terrifurt   \n",
       "4                     68.37                225.58      South Manuel   \n",
       "5                     59.99                226.74         Jamieberg   \n",
       "6                     88.91                208.36       Brandonstad   \n",
       "7                     66.00                131.76  Port Jefferybury   \n",
       "8                     74.53                221.51        West Colin   \n",
       "9                     69.88                183.82        Ramirezton   \n",
       "\n",
       "      Country  Clicked on Ad           Timestamp  \n",
       "0     Tunisia              0 2016-03-27 00:53:00  \n",
       "1       Nauru              0 2016-04-04 01:39:00  \n",
       "2  San Marino              0 2016-03-13 20:35:00  \n",
       "3       Italy              0 2016-10-01 02:31:00  \n",
       "4     Iceland              0 2016-03-06 03:36:00  \n",
       "5      Norway              0 2016-05-19 14:30:00  \n",
       "6     Myanmar              0 2016-01-28 20:59:00  \n",
       "7   Australia              1 2016-07-03 01:40:00  \n",
       "8     Grenada              0 2016-04-18 09:33:00  \n",
       "9       Ghana              0 2016-11-07 01:42:00  "
      ]
     },
     "execution_count": 31,
     "metadata": {},
     "output_type": "execute_result"
    }
   ],
   "source": [
    "df = df[['Ad Topic Line', 'Area Income', 'Male', 'Age', 'Daily Time Spent on Site', 'Daily Internet Usage', 'City', 'Country', 'Clicked on Ad', 'Timestamp']]\n",
    "df.head(10)"
   ]
  },
  {
   "cell_type": "markdown",
   "metadata": {},
   "source": [
    "📈`NHẬN XÉT:`\n",
    "\n",
    "👀 Theo như mô tả dữ liệu, các giá trị `Daily Time Spent on Site` phải nhỏ hơn `Daily Internet Usage` trong mỗi dòng dữ liệu.\n",
    "\n",
    "🔍 Bây giờ, chúng ta sẽ kiểm tra xem có dòng dữ liệu nào không hợp lý hay không."
   ]
  },
  {
   "cell_type": "code",
   "execution_count": 32,
   "metadata": {},
   "outputs": [
    {
     "name": "stdout",
     "output_type": "stream",
     "text": [
      "Số dòng dữ liệu không hợp lý:  0\n"
     ]
    }
   ],
   "source": [
    "invalid_rows = len(df[df['Daily Time Spent on Site'] < df['Daily Time Spent on Site']])\n",
    "print('Số dòng dữ liệu không hợp lý: ', invalid_rows)"
   ]
  },
  {
   "cell_type": "markdown",
   "metadata": {},
   "source": [
    "<div style=\"text-align: left; font-family: 'Trebuchet MS', Arial, sans-serif; color: #8C3333; padding: 20px; font-size: 25px; font-weight: bold; border-radius: 0 0 0 0; background-color: #AFC8AD\">\n",
    "  9. Lưu lại bộ dữ đã được tiền xử lý 🧮\n",
    "</div> "
   ]
  },
  {
   "cell_type": "code",
   "execution_count": 33,
   "metadata": {},
   "outputs": [
    {
     "data": {
      "text/plain": [
       "Ad Topic Line                       object\n",
       "Area Income                        float64\n",
       "Male                                 int64\n",
       "Age                                  int64\n",
       "Daily Time Spent on Site           float64\n",
       "Daily Internet Usage               float64\n",
       "City                                object\n",
       "Country                             object\n",
       "Clicked on Ad                        int64\n",
       "Timestamp                   datetime64[ns]\n",
       "dtype: object"
      ]
     },
     "execution_count": 33,
     "metadata": {},
     "output_type": "execute_result"
    }
   ],
   "source": [
    "df.dtypes"
   ]
  },
  {
   "cell_type": "code",
   "execution_count": 34,
   "metadata": {},
   "outputs": [],
   "source": [
    "df.to_csv('../../Data/2425_QC_cleaned.csv', index=False)"
   ]
  }
 ],
 "metadata": {
  "kernelspec": {
   "display_name": "Python 3",
   "language": "python",
   "name": "python3"
  },
  "language_info": {
   "codemirror_mode": {
    "name": "ipython",
    "version": 3
   },
   "file_extension": ".py",
   "mimetype": "text/x-python",
   "name": "python",
   "nbconvert_exporter": "python",
   "pygments_lexer": "ipython3",
   "version": "3.13.0"
  }
 },
 "nbformat": 4,
 "nbformat_minor": 2
}
