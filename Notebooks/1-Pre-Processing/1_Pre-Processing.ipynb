{
 "cells": [
  {
   "cell_type": "markdown",
   "metadata": {},
   "source": [
    "<div style=\"text-align: center; background-color: #750E21; font-family: 'Trebuchet MS', Arial, sans-serif; color: white; padding: 20px; font-size: 40px; font-weight: bold; border-radius: 0 0 0 0; box-shadow: 0px 6px 8px rgba(0, 0, 0, 0.2);\">\n",
    "  PROJECT: ... 📌\n",
    "</div>"
   ]
  },
  {
   "cell_type": "markdown",
   "metadata": {},
   "source": [
    "<div style=\"text-align: center; background-color: #0766AD; font-family: 'Trebuchet MS', Arial, sans-serif; color: white; padding: 20px; font-size: 40px; font-weight: bold; border-radius: 0 0 0 0; box-shadow: 0px 6px 8px rgba(0, 0, 0, 0.2);\">\n",
    "  Stage 1 - PRE-PROCESSING 📌\n",
    "</div>"
   ]
  },
  {
   "cell_type": "markdown",
   "metadata": {},
   "source": [
    "## **IMPORT LIBRARY** 🎄"
   ]
  },
  {
   "cell_type": "code",
   "execution_count": 327,
   "metadata": {},
   "outputs": [],
   "source": [
    "import numpy as np\n",
    "import pandas as pd\n",
    "from datetime import datetime\n",
    "import matplotlib.pyplot as plt\n",
    "from scipy.stats import zscore\n",
    "import seaborn as sns\n",
    "from sklearn.preprocessing import MinMaxScaler, StandardScaler"
   ]
  },
  {
   "cell_type": "markdown",
   "metadata": {},
   "source": [
    "## **GENERAL INFORMATION ABOUT THE DATA** 📝"
   ]
  },
  {
   "cell_type": "markdown",
   "metadata": {},
   "source": [
    "<div style=\"text-align: left; font-family: 'Trebuchet MS', Arial, sans-serif; color: #8C3333; padding: 20px; font-size: 25px; font-weight: bold; border-radius: 0 0 0 0; background-color: #AFC8AD\">\n",
    "  1. Read data 🔥\n",
    "</div>"
   ]
  },
  {
   "cell_type": "code",
   "execution_count": 328,
   "metadata": {},
   "outputs": [
    {
     "data": {
      "text/html": [
       "<div>\n",
       "<style scoped>\n",
       "    .dataframe tbody tr th:only-of-type {\n",
       "        vertical-align: middle;\n",
       "    }\n",
       "\n",
       "    .dataframe tbody tr th {\n",
       "        vertical-align: top;\n",
       "    }\n",
       "\n",
       "    .dataframe thead th {\n",
       "        text-align: right;\n",
       "    }\n",
       "</style>\n",
       "<table border=\"1\" class=\"dataframe\">\n",
       "  <thead>\n",
       "    <tr style=\"text-align: right;\">\n",
       "      <th></th>\n",
       "      <th>Daily Time Spent on Site</th>\n",
       "      <th>Age</th>\n",
       "      <th>Area Income</th>\n",
       "      <th>Daily Internet Usage</th>\n",
       "      <th>Ad Topic Line</th>\n",
       "      <th>City</th>\n",
       "      <th>Male</th>\n",
       "      <th>Country</th>\n",
       "      <th>Timestamp</th>\n",
       "      <th>Clicked on Ad</th>\n",
       "    </tr>\n",
       "  </thead>\n",
       "  <tbody>\n",
       "    <tr>\n",
       "      <th>0</th>\n",
       "      <td>68.95</td>\n",
       "      <td>35.0</td>\n",
       "      <td>61833.90</td>\n",
       "      <td>256.09</td>\n",
       "      <td>Cloned 5thgeneration orchestration</td>\n",
       "      <td>Wrightburgh</td>\n",
       "      <td>0</td>\n",
       "      <td>Tunisia</td>\n",
       "      <td>27/3/2016 0:53</td>\n",
       "      <td>0</td>\n",
       "    </tr>\n",
       "    <tr>\n",
       "      <th>1</th>\n",
       "      <td>80.23</td>\n",
       "      <td>31.0</td>\n",
       "      <td>68441.85</td>\n",
       "      <td>193.77</td>\n",
       "      <td>Monitored national standardization</td>\n",
       "      <td>West Jodi</td>\n",
       "      <td>1</td>\n",
       "      <td>Nauru</td>\n",
       "      <td>4/4/2016 1:39</td>\n",
       "      <td>0</td>\n",
       "    </tr>\n",
       "    <tr>\n",
       "      <th>2</th>\n",
       "      <td>69.47</td>\n",
       "      <td>26.0</td>\n",
       "      <td>59785.94</td>\n",
       "      <td>236.50</td>\n",
       "      <td>Organic bottom-line service-desk</td>\n",
       "      <td>Davidton</td>\n",
       "      <td>0</td>\n",
       "      <td>San Marino</td>\n",
       "      <td>13/3/2016 20:35</td>\n",
       "      <td>0</td>\n",
       "    </tr>\n",
       "    <tr>\n",
       "      <th>3</th>\n",
       "      <td>74.15</td>\n",
       "      <td>29.0</td>\n",
       "      <td>54806.18</td>\n",
       "      <td>245.89</td>\n",
       "      <td>Triple-buffered reciprocal time-frame</td>\n",
       "      <td>West Terrifurt</td>\n",
       "      <td>1</td>\n",
       "      <td>Italy</td>\n",
       "      <td>10/1/2016 2:31</td>\n",
       "      <td>0</td>\n",
       "    </tr>\n",
       "    <tr>\n",
       "      <th>4</th>\n",
       "      <td>68.37</td>\n",
       "      <td>35.0</td>\n",
       "      <td>73889.99</td>\n",
       "      <td>225.58</td>\n",
       "      <td>Robust logistical utilization</td>\n",
       "      <td>South Manuel</td>\n",
       "      <td>0</td>\n",
       "      <td>Iceland</td>\n",
       "      <td>3/6/2016 3:36</td>\n",
       "      <td>0</td>\n",
       "    </tr>\n",
       "  </tbody>\n",
       "</table>\n",
       "</div>"
      ],
      "text/plain": [
       "   Daily Time Spent on Site   Age  Area Income  Daily Internet Usage  \\\n",
       "0                     68.95  35.0     61833.90                256.09   \n",
       "1                     80.23  31.0     68441.85                193.77   \n",
       "2                     69.47  26.0     59785.94                236.50   \n",
       "3                     74.15  29.0     54806.18                245.89   \n",
       "4                     68.37  35.0     73889.99                225.58   \n",
       "\n",
       "                           Ad Topic Line            City  Male     Country  \\\n",
       "0     Cloned 5thgeneration orchestration     Wrightburgh     0     Tunisia   \n",
       "1     Monitored national standardization       West Jodi     1       Nauru   \n",
       "2       Organic bottom-line service-desk        Davidton     0  San Marino   \n",
       "3  Triple-buffered reciprocal time-frame  West Terrifurt     1       Italy   \n",
       "4          Robust logistical utilization    South Manuel     0     Iceland   \n",
       "\n",
       "         Timestamp  Clicked on Ad  \n",
       "0   27/3/2016 0:53              0  \n",
       "1    4/4/2016 1:39              0  \n",
       "2  13/3/2016 20:35              0  \n",
       "3   10/1/2016 2:31              0  \n",
       "4    3/6/2016 3:36              0  "
      ]
     },
     "execution_count": 328,
     "metadata": {},
     "output_type": "execute_result"
    }
   ],
   "source": [
    "df = pd.read_csv('../../Data/2425_QC.csv')\n",
    "df.head()"
   ]
  },
  {
   "cell_type": "markdown",
   "metadata": {},
   "source": [
    "<div style=\"text-align: left; font-family: 'Trebuchet MS', Arial, sans-serif; color: #8C3333; padding: 20px; font-size: 25px; font-weight: bold; border-radius: 0 0 0 0; background-color: #AFC8AD\">\n",
    "  2. Comment on statistic of dataframe 🔥\n",
    "</div>"
   ]
  },
  {
   "cell_type": "code",
   "execution_count": 329,
   "metadata": {},
   "outputs": [
    {
     "name": "stdout",
     "output_type": "stream",
     "text": [
      "<class 'pandas.core.frame.DataFrame'>\n",
      "RangeIndex: 1002 entries, 0 to 1001\n",
      "Data columns (total 10 columns):\n",
      " #   Column                    Non-Null Count  Dtype  \n",
      "---  ------                    --------------  -----  \n",
      " 0   Daily Time Spent on Site  1002 non-null   float64\n",
      " 1   Age                       1001 non-null   float64\n",
      " 2   Area Income               1002 non-null   float64\n",
      " 3   Daily Internet Usage      1002 non-null   float64\n",
      " 4   Ad Topic Line             1002 non-null   object \n",
      " 5   City                      1002 non-null   object \n",
      " 6   Male                      1002 non-null   int64  \n",
      " 7   Country                   1002 non-null   object \n",
      " 8   Timestamp                 1002 non-null   object \n",
      " 9   Clicked on Ad             1002 non-null   int64  \n",
      "dtypes: float64(4), int64(2), object(4)\n",
      "memory usage: 78.4+ KB\n"
     ]
    }
   ],
   "source": [
    "df.info()"
   ]
  },
  {
   "cell_type": "markdown",
   "metadata": {},
   "source": [
    "📈`COMMENT:`\n",
    "- Data Overview: The DataFrame has 1002 entries. There are 10 columns in total, with a mix of data types: float64, int64, and object. \n",
    "- dtypes: float64(4), int64(2), object(4)\n",
    "- All columns, except `Age`, contain 1002 non-null values, meaning there’s only 1 missing value for the `Age` column."
   ]
  },
  {
   "cell_type": "markdown",
   "metadata": {},
   "source": [
    "📝`INSIGHT:`\n",
    "- The dataset is almost complete with only a single missing value in the `Age` column, so missing data handling won't be a major issue.\n",
    "- The combination of online activity, demographic information, and customer interaction (clicked or not clicked) creates a strong foundation for building models to predict ad clicks based on customer behavior.\n",
    "- Columns like `City`, `Country`, and `Ad Topic Line` will likely require preprocessing, such as encoding, to make them suitable for analysis or modeling."
   ]
  },
  {
   "cell_type": "markdown",
   "metadata": {},
   "source": [
    "**1. Numerical Features:**\n",
    "- Daily Time Spent on Site\n",
    "- Age\n",
    "- Area Income\n",
    "- Daily Internet Usage\n",
    "\n",
    "**2. Categorical Features:**\n",
    "- Ad Topic Line\n",
    "- City\n",
    "- Country\n",
    "- Timestamp\n",
    "- Male (binary categorical feature)\n",
    "\n",
    "**3. Target:**\n",
    "- Clicked on Ad (binary classification target)"
   ]
  },
  {
   "cell_type": "markdown",
   "metadata": {},
   "source": [
    "<div style=\"text-align: left; font-family: 'Trebuchet MS', Arial, sans-serif; color: #8C3333; padding: 20px; font-size: 25px; font-weight: bold; border-radius: 0 0 0 0; background-color: #AFC8AD\">\n",
    "  3. What does each column mean?? 🧮\n",
    "</div>"
   ]
  },
  {
   "cell_type": "markdown",
   "metadata": {},
   "source": [
    "<table style=\"width: 100%; border-collapse: collapse;font-family: 'Trebuchet MS', Arial, sans-serif;\">\n",
    "  <thead>\n",
    "    <tr>\n",
    "      <th style=\"min-width: 10px; width: 30px; background-color: #4E70BB; color: white; font-size :20px; font-weight: bold; text-align: left; padding: 8px;\">No</th>\n",
    "      <th style=\"background-color: #4E70BB; color: white; font-size :20px; font-weight: bold; text-align: left; padding: 8px;\">Column Name</th>\n",
    "      <th style=\"background-color: #4E70BB; color: white; font-size :20px; font-weight: bold; text-align: left; padding: 8px;\">Meaning</th>\n",
    "    </tr>\n",
    "  </thead>\n",
    "  <tbody>\n",
    "    <tr>\n",
    "      <td style=\"font-weight: bold; font-size: 17px; color: #FFAA33; text-align: left;\">1</td>\n",
    "      <td style=\"font-weight: bold; font-size: 17px; color: #FFAA33; text-align: left;\">Daily Time Spent on Site</td>\n",
    "      <td style=\"font-size: 17px; text-align: left;\">Customer time on site in minutes.</td>\n",
    "    </tr>\n",
    "    <tr>\n",
    "      <td style=\"font-weight: bold; font-size: 17px; color: #FF0077; text-align: left;\">2</td>\n",
    "      <td style=\"font-weight: bold; font-size: 17px; color: #FF0077; text-align: left;\">Age</td>\n",
    "      <td style=\"font-size: 17px; text-align: left;\">Customer age in years.</td>\n",
    "    </tr>\n",
    "    <tr>\n",
    "      <td style=\"font-weight: bold; font-size: 17px; color: #009A80; text-align: left;\">3</td>\n",
    "      <td style=\"font-weight: bold; font-size: 17px; color: #009A80; text-align: left;\">Area Income</td>\n",
    "      <td style=\"font-size: 17px; text-align: left;\">Average income of geographical area of customer.</td>\n",
    "    </tr>\n",
    "    <tr>\n",
    "      <td style=\"font-weight: bold; font-size: 17px; color: #7DCE13; text-align: left;\">4</td>\n",
    "      <td style=\"font-weight: bold; font-size: 17px; color: #7DCE13; text-align: left;\">Daily Internet Usage</td>\n",
    "      <td style=\"font-size: 17px; text-align: left;\">Average minutes a day customer is on the internet.</td>\n",
    "    </tr>\n",
    "    <tr>\n",
    "      <td style=\"font-weight: bold; font-size: 17px; color: #EAE509; text-align: left;\">5</td>\n",
    "      <td style=\"font-weight: bold; font-size: 17px; color: #EAE509; text-align: left;\">Ad Topic Line</td>\n",
    "      <td style=\"font-size: 17px; text-align: left;\">Headline of the advertisement.</td>\n",
    "    </tr>\n",
    "    <tr>\n",
    "      <td style=\"font-weight: bold; font-size: 17px; color: #3081D0; text-align: left;\">6</td>\n",
    "      <td style=\"font-weight: bold; font-size: 17px; color: #3081D0; text-align: left;\">City</td>\n",
    "      <td style=\"font-size: 17px; text-align: left;\">City of customer.</td>\n",
    "    </tr>\n",
    "    <tr>\n",
    "      <td style=\"font-weight: bold; font-size: 17px; color: #FFAA33; text-align: left;\">7</td>\n",
    "      <td style=\"font-weight: bold; font-size: 17px; color: #FFAA33; text-align: left;\">Male</td>\n",
    "      <td style=\"font-size: 17px; text-align: left;\">Whether or not customer was male.</td>\n",
    "    </tr>\n",
    "    <tr>\n",
    "      <td style=\"font-weight: bold; font-size: 17px; color: #FF0077; text-align: left;\">8</td>\n",
    "      <td style=\"font-weight: bold; font-size: 17px; color: #FF0077; text-align: left;\">Country</td>\n",
    "      <td style=\"font-size: 17px; text-align: left;\">Country of customer.</td>\n",
    "    </tr>\n",
    "    <tr>\n",
    "      <td style=\"font-weight: bold; font-size: 17px; color: #00A9FF; text-align: left;\">9</td>\n",
    "      <td style=\"font-weight: bold; font-size: 17px; color: #00A9FF; text-align: left;\">Timestamp</td>\n",
    "      <td style=\"font-size: 17px; text-align: left;\">Time at which customer clicked on Ad or closed window.</td>\n",
    "    </tr>\n",
    "    <tr>\n",
    "      <td style=\"font-weight: bold; font-size: 17px; color: #7DCE13; text-align: left;\">10</td>\n",
    "      <td style=\"font-weight: bold; font-size: 17px; color: #7DCE13; text-align: left;\">Clicked on Ad</td>\n",
    "      <td style=\"font-size: 17px; text-align: left;\">0 or 1 indicated clicking on Ad.</td>\n",
    "    </tr>\n",
    "  </tbody>\n",
    "</table>"
   ]
  },
  {
   "cell_type": "markdown",
   "metadata": {},
   "source": [
    "## **PROCESS PHASE** 📝"
   ]
  },
  {
   "cell_type": "markdown",
   "metadata": {},
   "source": [
    "<div style=\"text-align: left; font-family: 'Trebuchet MS', Arial, sans-serif; color: #8C3333; padding: 20px; font-size: 25px; font-weight: bold; border-radius: 0 0 0 0; background-color: #AFC8AD\">\n",
    "  1. How many rows and how many columns does the data have? 🧮\n",
    "</div>"
   ]
  },
  {
   "cell_type": "code",
   "execution_count": 330,
   "metadata": {},
   "outputs": [
    {
     "name": "stdout",
     "output_type": "stream",
     "text": [
      "Current shape: (1002, 10)\n"
     ]
    }
   ],
   "source": [
    "shape = df.shape\n",
    "print(f\"Current shape: {shape}\")"
   ]
  },
  {
   "cell_type": "markdown",
   "metadata": {},
   "source": [
    "<div style=\"text-align: left; font-family: 'Trebuchet MS', Arial, sans-serif; color: #8C3333; padding: 20px; font-size: 25px; font-weight: bold; border-radius: 0 0 0 0; background-color: #AFC8AD\">\n",
    "  2. What does each line mean? Does it matter if the lines have different meanings? 🧮\n",
    "</div>"
   ]
  },
  {
   "cell_type": "markdown",
   "metadata": {},
   "source": [
    "🔍🔍🔍 Understand the meaning of each line gives us a more overall understanding of the data.\\\n",
    "🔍🔍🔍 What our data is talking about or if some lines of data have different meanings, it will lead to the unconsistency of data and giving wrong insights."
   ]
  },
  {
   "cell_type": "markdown",
   "metadata": {},
   "source": [
    "📈`COMMENT:`\n",
    "- Each row represents data about an individual's interaction with an online advertisement.\n",
    "- This dataset would typically be used to analyze and predict user behavior, particularly what factors influence a customer's likelihood to click on an ad. Insights drawn from this kind of data help companies refine their ad strategies, target the right audiences, and optimize their marketing budget."
   ]
  },
  {
   "cell_type": "markdown",
   "metadata": {},
   "source": [
    "<div style=\"text-align: left; font-family: 'Trebuchet MS', Arial, sans-serif; color: #E7B10A; padding: 15px; font-size: 18px; font-weight: bold; border-radius: 0 0 0 0\">\n",
    "🧮🧮🧮  In our data, each line contains data about an individual's interaction with an online advertisement.\n",
    "</div>"
   ]
  },
  {
   "cell_type": "markdown",
   "metadata": {},
   "source": [
    "<div style=\"text-align: left; font-family: 'Trebuchet MS', Arial, sans-serif; color: #8C3333; padding: 20px; font-size: 25px; font-weight: bold; border-radius: 0 0 0 0; background-color: #AFC8AD\">\n",
    "  3. Is there duplicate data? 🧮\n",
    "</div>"
   ]
  },
  {
   "cell_type": "markdown",
   "metadata": {},
   "source": [
    "🚨  We need to check for the duplicated rows since duplicated rows don't have much meaning, even affect the overall insight of data.\\\n",
    "🚨  Therefore, each line should differ from each others.\\\n",
    "🚨  Having duplicated rows could lead to wrong insights for questions required counting.\\\n",
    "🚨  In this part, we will delve into check for duplicated rows. If duplicated rows exist, then drop it."
   ]
  },
  {
   "cell_type": "code",
   "execution_count": 331,
   "metadata": {},
   "outputs": [
    {
     "name": "stdout",
     "output_type": "stream",
     "text": [
      "Number of duplicated rows: 2\n",
      "Number of duplicated rows after dropping: 0\n",
      "Current shape: (1000, 10)\n"
     ]
    }
   ],
   "source": [
    "# Count duplicate rows\n",
    "num_duplicates = df.duplicated(keep='first').sum()\n",
    "print(f'Number of duplicated rows: {num_duplicates}')\n",
    "\n",
    "# Drop duplicates\n",
    "df = df.drop_duplicates(keep='first')\n",
    "df = df.reset_index(drop=True)\n",
    "num_duplicates = df.duplicated(keep='first').sum()\n",
    "print(f'Number of duplicated rows after dropping: {num_duplicates}')\n",
    "\n",
    "print(f\"Current shape: {df.shape}\")"
   ]
  },
  {
   "cell_type": "markdown",
   "metadata": {},
   "source": [
    "📈`COMMENT:`\n",
    "- As you can see, there are only 2 rows being duplicated. After dropping that 2 rows, our data is ready for the further steps."
   ]
  },
  {
   "cell_type": "markdown",
   "metadata": {},
   "source": [
    "<div style=\"text-align: left; font-family: 'Trebuchet MS', Arial, sans-serif; color: #8C3333; padding: 20px; font-size: 25px; font-weight: bold; border-radius: 0 0 0 0; background-color: #AFC8AD\">\n",
    "  4. Is there outlier data? 🧮\n",
    "</div>"
   ]
  },
  {
   "cell_type": "markdown",
   "metadata": {},
   "source": [
    "🚨  Outliers are values that significantly deviate from other observations in the dataset.\\\n",
    "🚨  Outliers can skew results and lead to misleading conclusions if not handled properly.\\\n",
    "🚨  Identifying outliers is important to maintain data quality and improve the accuracy of the analysis.\\\n",
    "🚨  In this part, we will check for any outliers and determine whether to keep, transform, or remove them depending on their impact."
   ]
  },
  {
   "cell_type": "code",
   "execution_count": 332,
   "metadata": {},
   "outputs": [
    {
     "data": {
      "text/html": [
       "<div>\n",
       "<style scoped>\n",
       "    .dataframe tbody tr th:only-of-type {\n",
       "        vertical-align: middle;\n",
       "    }\n",
       "\n",
       "    .dataframe tbody tr th {\n",
       "        vertical-align: top;\n",
       "    }\n",
       "\n",
       "    .dataframe thead th {\n",
       "        text-align: right;\n",
       "    }\n",
       "</style>\n",
       "<table border=\"1\" class=\"dataframe\">\n",
       "  <thead>\n",
       "    <tr style=\"text-align: right;\">\n",
       "      <th></th>\n",
       "      <th>Daily Time Spent on Site</th>\n",
       "      <th>Age</th>\n",
       "      <th>Area Income</th>\n",
       "      <th>Daily Internet Usage</th>\n",
       "    </tr>\n",
       "  </thead>\n",
       "  <tbody>\n",
       "    <tr>\n",
       "      <th>count</th>\n",
       "      <td>1000.000000</td>\n",
       "      <td>999.000000</td>\n",
       "      <td>1000.000000</td>\n",
       "      <td>1000.000000</td>\n",
       "    </tr>\n",
       "    <tr>\n",
       "      <th>mean</th>\n",
       "      <td>65.000200</td>\n",
       "      <td>36.019019</td>\n",
       "      <td>55000.000080</td>\n",
       "      <td>180.000100</td>\n",
       "    </tr>\n",
       "    <tr>\n",
       "      <th>std</th>\n",
       "      <td>15.853615</td>\n",
       "      <td>8.784245</td>\n",
       "      <td>13414.634022</td>\n",
       "      <td>43.902339</td>\n",
       "    </tr>\n",
       "    <tr>\n",
       "      <th>min</th>\n",
       "      <td>32.600000</td>\n",
       "      <td>19.000000</td>\n",
       "      <td>13996.500000</td>\n",
       "      <td>104.780000</td>\n",
       "    </tr>\n",
       "    <tr>\n",
       "      <th>25%</th>\n",
       "      <td>51.360000</td>\n",
       "      <td>29.000000</td>\n",
       "      <td>47031.802500</td>\n",
       "      <td>138.830000</td>\n",
       "    </tr>\n",
       "    <tr>\n",
       "      <th>50%</th>\n",
       "      <td>68.215000</td>\n",
       "      <td>35.000000</td>\n",
       "      <td>57012.300000</td>\n",
       "      <td>183.130000</td>\n",
       "    </tr>\n",
       "    <tr>\n",
       "      <th>75%</th>\n",
       "      <td>78.547500</td>\n",
       "      <td>42.000000</td>\n",
       "      <td>65470.635000</td>\n",
       "      <td>218.792500</td>\n",
       "    </tr>\n",
       "    <tr>\n",
       "      <th>max</th>\n",
       "      <td>91.430000</td>\n",
       "      <td>61.000000</td>\n",
       "      <td>79484.800000</td>\n",
       "      <td>269.960000</td>\n",
       "    </tr>\n",
       "  </tbody>\n",
       "</table>\n",
       "</div>"
      ],
      "text/plain": [
       "       Daily Time Spent on Site         Age   Area Income  \\\n",
       "count               1000.000000  999.000000   1000.000000   \n",
       "mean                  65.000200   36.019019  55000.000080   \n",
       "std                   15.853615    8.784245  13414.634022   \n",
       "min                   32.600000   19.000000  13996.500000   \n",
       "25%                   51.360000   29.000000  47031.802500   \n",
       "50%                   68.215000   35.000000  57012.300000   \n",
       "75%                   78.547500   42.000000  65470.635000   \n",
       "max                   91.430000   61.000000  79484.800000   \n",
       "\n",
       "       Daily Internet Usage  \n",
       "count           1000.000000  \n",
       "mean             180.000100  \n",
       "std               43.902339  \n",
       "min              104.780000  \n",
       "25%              138.830000  \n",
       "50%              183.130000  \n",
       "75%              218.792500  \n",
       "max              269.960000  "
      ]
     },
     "execution_count": 332,
     "metadata": {},
     "output_type": "execute_result"
    }
   ],
   "source": [
    "# describe the numerical features\n",
    "df.describe()[['Daily Time Spent on Site','Age','Area Income','Daily Internet Usage']]"
   ]
  },
  {
   "cell_type": "markdown",
   "metadata": {},
   "source": [
    "📈`COMMENT:`\n",
    "- Notice that the **Area Income** column is likely to have outliers. For example, the min **Area Income** is approximately 13996 while its mean is 55000. The mean is sensitive to outliers, but the fact the mean is so big compared to the min value indicates the min value is an outlier."
   ]
  },
  {
   "cell_type": "markdown",
   "metadata": {},
   "source": [
    "Now, we will visualize the values to check for outliers."
   ]
  },
  {
   "cell_type": "code",
   "execution_count": 333,
   "metadata": {},
   "outputs": [
    {
     "data": {
      "image/png": "[encoded data removed]",
      "text/plain": [
       "<Figure size 1200x1000 with 4 Axes>"
      ]
     },
     "metadata": {},
     "output_type": "display_data"
    }
   ],
   "source": [
    "# Create a figure with 2 rows and 2 columns for the subplots\n",
    "fig, axes = plt.subplots(2, 2, figsize=(12, 10))\n",
    "\n",
    "# Plot boxplot for 'Daily Time Spent on Site'\n",
    "pd.DataFrame(df['Daily Time Spent on Site']).boxplot(ax=axes[0, 0])\n",
    "axes[0, 0].set_title(\"Daily Time Spent on Site\")\n",
    "\n",
    "# Plot boxplot for 'Age'\n",
    "pd.DataFrame(df['Age']).boxplot(ax=axes[0, 1])\n",
    "axes[0, 1].set_title(\"Age\")\n",
    "\n",
    "# Plot boxplot for 'Area Income'\n",
    "pd.DataFrame(df['Area Income']).boxplot(ax=axes[1, 0])\n",
    "axes[1, 0].set_title(\"Area Income\")\n",
    "\n",
    "# Plot boxplot for 'Daily Internet Usage'\n",
    "pd.DataFrame(df['Daily Internet Usage']).boxplot(ax=axes[1, 1])\n",
    "axes[1, 1].set_title(\"Daily Internet Usage\")\n",
    "\n",
    "# Adjust layout for better spacing\n",
    "plt.tight_layout()\n",
    "\n",
    "# Show the plots\n",
    "plt.show()"
   ]
  },
  {
   "cell_type": "markdown",
   "metadata": {},
   "source": []
  },
  {
   "cell_type": "markdown",
   "metadata": {},
   "source": [
    "📝 **Using IQR**"
   ]
  },
  {
   "cell_type": "markdown",
   "metadata": {},
   "source": [
    "Using the statistical method called interquartile range **(IQR)**, the outlier data points are the ones falling below **(Q1 – 1.5 \\* IQR)** or above **(Q3 + 1.5 \\* IQR)**.\n",
    "\n",
    "The Q1 is the **25th percentile** and Q3 is the **75th percentile** of the dataset, and **IQR** represents the interquartile range calculated by Q3 minus Q1 (Q3 – Q1). \n",
    "\n",
    "Using the convenient pandas **.quantile()** function, we can create a simple Python function that takes in our column from the dataframe and outputs the outliers."
   ]
  },
  {
   "cell_type": "code",
   "execution_count": 334,
   "metadata": {},
   "outputs": [],
   "source": [
    "def findOutlierUsingIQR(df:pd.DataFrame):\n",
    "    q1=df.quantile(0.25)\n",
    "    q3=df.quantile(0.75)\n",
    "    IQR=q3-q1\n",
    "    lowerLimit=q1-1.5*IQR\n",
    "    upperLimit=q3+1.5*IQR\n",
    "    \n",
    "    outliers = df[(df<lowerLimit) | (df>upperLimit)]\n",
    "\n",
    "    return outliers"
   ]
  },
  {
   "cell_type": "code",
   "execution_count": 335,
   "metadata": {},
   "outputs": [
    {
     "name": "stdout",
     "output_type": "stream",
     "text": [
      "     Daily Time Spent on Site  Age  Area Income  Daily Internet Usage\n",
      "135                       NaN  NaN     17709.98                   NaN\n",
      "410                       NaN  NaN     19345.36                   NaN\n",
      "510                       NaN  NaN     18819.34                   NaN\n",
      "640                       NaN  NaN     15598.29                   NaN\n",
      "665                       NaN  NaN     15879.10                   NaN\n",
      "692                       NaN  NaN     14548.06                   NaN\n",
      "768                       NaN  NaN     13996.50                   NaN\n",
      "778                       NaN  NaN     14775.50                   NaN\n",
      "952                       NaN  NaN     18368.57                   NaN\n"
     ]
    }
   ],
   "source": [
    "outliers = findOutlierUsingIQR(df[['Daily Time Spent on Site','Age','Area Income','Daily Internet Usage']])\n",
    "\n",
    "outliers=outliers[~outliers.isnull().all(axis=1)]\n",
    "print(outliers)"
   ]
  },
  {
   "cell_type": "markdown",
   "metadata": {},
   "source": [
    "📈`COMMENT:`\n",
    "- As predicted above, we detect 9 outliers in the **Area Income** column by using IQR method."
   ]
  },
  {
   "cell_type": "code",
   "execution_count": 336,
   "metadata": {},
   "outputs": [
    {
     "data": {
      "text/html": [
       "<div>\n",
       "<style scoped>\n",
       "    .dataframe tbody tr th:only-of-type {\n",
       "        vertical-align: middle;\n",
       "    }\n",
       "\n",
       "    .dataframe tbody tr th {\n",
       "        vertical-align: top;\n",
       "    }\n",
       "\n",
       "    .dataframe thead th {\n",
       "        text-align: right;\n",
       "    }\n",
       "</style>\n",
       "<table border=\"1\" class=\"dataframe\">\n",
       "  <thead>\n",
       "    <tr style=\"text-align: right;\">\n",
       "      <th></th>\n",
       "      <th>Daily Time Spent on Site</th>\n",
       "      <th>Age</th>\n",
       "      <th>Area Income</th>\n",
       "      <th>Daily Internet Usage</th>\n",
       "      <th>Ad Topic Line</th>\n",
       "      <th>City</th>\n",
       "      <th>Male</th>\n",
       "      <th>Country</th>\n",
       "      <th>Timestamp</th>\n",
       "      <th>Clicked on Ad</th>\n",
       "    </tr>\n",
       "  </thead>\n",
       "  <tbody>\n",
       "    <tr>\n",
       "      <th>135</th>\n",
       "      <td>49.89</td>\n",
       "      <td>39.0</td>\n",
       "      <td>17709.98</td>\n",
       "      <td>160.03</td>\n",
       "      <td>Enhanced system-worthy application</td>\n",
       "      <td>East Michele</td>\n",
       "      <td>1</td>\n",
       "      <td>Belize</td>\n",
       "      <td>16/4/2016 12:09</td>\n",
       "      <td>1</td>\n",
       "    </tr>\n",
       "    <tr>\n",
       "      <th>410</th>\n",
       "      <td>48.09</td>\n",
       "      <td>33.0</td>\n",
       "      <td>19345.36</td>\n",
       "      <td>180.42</td>\n",
       "      <td>Balanced motivating help-desk</td>\n",
       "      <td>West Travismouth</td>\n",
       "      <td>0</td>\n",
       "      <td>Heard Island and McDonald Islands</td>\n",
       "      <td>28/5/2016 12:38</td>\n",
       "      <td>1</td>\n",
       "    </tr>\n",
       "    <tr>\n",
       "      <th>510</th>\n",
       "      <td>57.86</td>\n",
       "      <td>30.0</td>\n",
       "      <td>18819.34</td>\n",
       "      <td>166.86</td>\n",
       "      <td>Horizontal modular success</td>\n",
       "      <td>Estesfurt</td>\n",
       "      <td>0</td>\n",
       "      <td>Algeria</td>\n",
       "      <td>8/7/2016 17:14</td>\n",
       "      <td>1</td>\n",
       "    </tr>\n",
       "    <tr>\n",
       "      <th>640</th>\n",
       "      <td>64.63</td>\n",
       "      <td>45.0</td>\n",
       "      <td>15598.29</td>\n",
       "      <td>158.80</td>\n",
       "      <td>Triple-buffered high-level Internet solution</td>\n",
       "      <td>Isaacborough</td>\n",
       "      <td>1</td>\n",
       "      <td>Azerbaijan</td>\n",
       "      <td>12/6/2016 3:11</td>\n",
       "      <td>1</td>\n",
       "    </tr>\n",
       "    <tr>\n",
       "      <th>665</th>\n",
       "      <td>58.05</td>\n",
       "      <td>32.0</td>\n",
       "      <td>15879.10</td>\n",
       "      <td>195.54</td>\n",
       "      <td>Total asynchronous architecture</td>\n",
       "      <td>Sanderstown</td>\n",
       "      <td>1</td>\n",
       "      <td>Tajikistan</td>\n",
       "      <td>12/2/2016 10:39</td>\n",
       "      <td>1</td>\n",
       "    </tr>\n",
       "    <tr>\n",
       "      <th>692</th>\n",
       "      <td>66.26</td>\n",
       "      <td>47.0</td>\n",
       "      <td>14548.06</td>\n",
       "      <td>179.04</td>\n",
       "      <td>Optional full-range projection</td>\n",
       "      <td>Matthewtown</td>\n",
       "      <td>1</td>\n",
       "      <td>Lebanon</td>\n",
       "      <td>25/4/2016 19:31</td>\n",
       "      <td>1</td>\n",
       "    </tr>\n",
       "    <tr>\n",
       "      <th>768</th>\n",
       "      <td>68.58</td>\n",
       "      <td>41.0</td>\n",
       "      <td>13996.50</td>\n",
       "      <td>171.54</td>\n",
       "      <td>Exclusive discrete firmware</td>\n",
       "      <td>New Williamville</td>\n",
       "      <td>1</td>\n",
       "      <td>El Salvador</td>\n",
       "      <td>6/7/2016 12:04</td>\n",
       "      <td>1</td>\n",
       "    </tr>\n",
       "    <tr>\n",
       "      <th>778</th>\n",
       "      <td>52.67</td>\n",
       "      <td>44.0</td>\n",
       "      <td>14775.50</td>\n",
       "      <td>191.26</td>\n",
       "      <td>Persevering 5thgeneration knowledge user</td>\n",
       "      <td>New Hollyberg</td>\n",
       "      <td>0</td>\n",
       "      <td>Jersey</td>\n",
       "      <td>19/5/2016 6:37</td>\n",
       "      <td>1</td>\n",
       "    </tr>\n",
       "    <tr>\n",
       "      <th>952</th>\n",
       "      <td>62.79</td>\n",
       "      <td>36.0</td>\n",
       "      <td>18368.57</td>\n",
       "      <td>231.87</td>\n",
       "      <td>Total coherent archive</td>\n",
       "      <td>New James</td>\n",
       "      <td>1</td>\n",
       "      <td>Luxembourg</td>\n",
       "      <td>30/5/2016 20:08</td>\n",
       "      <td>1</td>\n",
       "    </tr>\n",
       "  </tbody>\n",
       "</table>\n",
       "</div>"
      ],
      "text/plain": [
       "     Daily Time Spent on Site   Age  Area Income  Daily Internet Usage  \\\n",
       "135                     49.89  39.0     17709.98                160.03   \n",
       "410                     48.09  33.0     19345.36                180.42   \n",
       "510                     57.86  30.0     18819.34                166.86   \n",
       "640                     64.63  45.0     15598.29                158.80   \n",
       "665                     58.05  32.0     15879.10                195.54   \n",
       "692                     66.26  47.0     14548.06                179.04   \n",
       "768                     68.58  41.0     13996.50                171.54   \n",
       "778                     52.67  44.0     14775.50                191.26   \n",
       "952                     62.79  36.0     18368.57                231.87   \n",
       "\n",
       "                                    Ad Topic Line              City  Male  \\\n",
       "135            Enhanced system-worthy application      East Michele     1   \n",
       "410                 Balanced motivating help-desk  West Travismouth     0   \n",
       "510                    Horizontal modular success         Estesfurt     0   \n",
       "640  Triple-buffered high-level Internet solution      Isaacborough     1   \n",
       "665               Total asynchronous architecture       Sanderstown     1   \n",
       "692                Optional full-range projection       Matthewtown     1   \n",
       "768                   Exclusive discrete firmware  New Williamville     1   \n",
       "778      Persevering 5thgeneration knowledge user     New Hollyberg     0   \n",
       "952                        Total coherent archive         New James     1   \n",
       "\n",
       "                               Country        Timestamp  Clicked on Ad  \n",
       "135                             Belize  16/4/2016 12:09              1  \n",
       "410  Heard Island and McDonald Islands  28/5/2016 12:38              1  \n",
       "510                            Algeria   8/7/2016 17:14              1  \n",
       "640                         Azerbaijan   12/6/2016 3:11              1  \n",
       "665                         Tajikistan  12/2/2016 10:39              1  \n",
       "692                            Lebanon  25/4/2016 19:31              1  \n",
       "768                        El Salvador   6/7/2016 12:04              1  \n",
       "778                             Jersey   19/5/2016 6:37              1  \n",
       "952                         Luxembourg  30/5/2016 20:08              1  "
      ]
     },
     "execution_count": 336,
     "metadata": {},
     "output_type": "execute_result"
    }
   ],
   "source": [
    "idx=outliers[~outliers.isnull().all(axis=1)].index\n",
    "df.iloc[idx]"
   ]
  },
  {
   "cell_type": "code",
   "execution_count": 337,
   "metadata": {},
   "outputs": [
    {
     "data": {
      "image/png": "[encoded data removed]",
      "text/plain": [
       "<Figure size 640x480 with 1 Axes>"
      ]
     },
     "metadata": {},
     "output_type": "display_data"
    }
   ],
   "source": [
    "sns.kdeplot(data = df[\"Area Income\"])\n",
    "plt.title(\"Area Income Frequency\")\n",
    "plt.show()"
   ]
  },
  {
   "cell_type": "markdown",
   "metadata": {},
   "source": [
    "📈`COMMENT:`\n",
    "- The outliers represent **Area Income** and those are reasonable income, remove those would not be optional, so we will replace the outliers by capping them. \n",
    "- For the upper limit, we will use the mean plus three standard deviations. For the lower limit, we will calculate it as the mean minus 3 standard deviations, as the **Area Income** follows the normal distribution."
   ]
  },
  {
   "cell_type": "code",
   "execution_count": 338,
   "metadata": {},
   "outputs": [
    {
     "name": "stdout",
     "output_type": "stream",
     "text": [
      "93128.88375\n",
      "19373.553750000003\n"
     ]
    },
    {
     "data": {
      "text/html": [
       "<div>\n",
       "<style scoped>\n",
       "    .dataframe tbody tr th:only-of-type {\n",
       "        vertical-align: middle;\n",
       "    }\n",
       "\n",
       "    .dataframe tbody tr th {\n",
       "        vertical-align: top;\n",
       "    }\n",
       "\n",
       "    .dataframe thead th {\n",
       "        text-align: right;\n",
       "    }\n",
       "</style>\n",
       "<table border=\"1\" class=\"dataframe\">\n",
       "  <thead>\n",
       "    <tr style=\"text-align: right;\">\n",
       "      <th></th>\n",
       "      <th>Daily Time Spent on Site</th>\n",
       "      <th>Age</th>\n",
       "      <th>Area Income</th>\n",
       "      <th>Daily Internet Usage</th>\n",
       "    </tr>\n",
       "  </thead>\n",
       "  <tbody>\n",
       "    <tr>\n",
       "      <th>count</th>\n",
       "      <td>1000.000000</td>\n",
       "      <td>999.000000</td>\n",
       "      <td>1000.000000</td>\n",
       "      <td>1000.000000</td>\n",
       "    </tr>\n",
       "    <tr>\n",
       "      <th>mean</th>\n",
       "      <td>65.000200</td>\n",
       "      <td>36.019019</td>\n",
       "      <td>55025.321364</td>\n",
       "      <td>180.000100</td>\n",
       "    </tr>\n",
       "    <tr>\n",
       "      <th>std</th>\n",
       "      <td>15.853615</td>\n",
       "      <td>8.784245</td>\n",
       "      <td>13343.228619</td>\n",
       "      <td>43.902339</td>\n",
       "    </tr>\n",
       "    <tr>\n",
       "      <th>min</th>\n",
       "      <td>32.600000</td>\n",
       "      <td>19.000000</td>\n",
       "      <td>19373.553750</td>\n",
       "      <td>104.780000</td>\n",
       "    </tr>\n",
       "    <tr>\n",
       "      <th>25%</th>\n",
       "      <td>51.360000</td>\n",
       "      <td>29.000000</td>\n",
       "      <td>47031.802500</td>\n",
       "      <td>138.830000</td>\n",
       "    </tr>\n",
       "    <tr>\n",
       "      <th>50%</th>\n",
       "      <td>68.215000</td>\n",
       "      <td>35.000000</td>\n",
       "      <td>57012.300000</td>\n",
       "      <td>183.130000</td>\n",
       "    </tr>\n",
       "    <tr>\n",
       "      <th>75%</th>\n",
       "      <td>78.547500</td>\n",
       "      <td>42.000000</td>\n",
       "      <td>65470.635000</td>\n",
       "      <td>218.792500</td>\n",
       "    </tr>\n",
       "    <tr>\n",
       "      <th>max</th>\n",
       "      <td>91.430000</td>\n",
       "      <td>61.000000</td>\n",
       "      <td>79484.800000</td>\n",
       "      <td>269.960000</td>\n",
       "    </tr>\n",
       "  </tbody>\n",
       "</table>\n",
       "</div>"
      ],
      "text/plain": [
       "       Daily Time Spent on Site         Age   Area Income  \\\n",
       "count               1000.000000  999.000000   1000.000000   \n",
       "mean                  65.000200   36.019019  55025.321364   \n",
       "std                   15.853615    8.784245  13343.228619   \n",
       "min                   32.600000   19.000000  19373.553750   \n",
       "25%                   51.360000   29.000000  47031.802500   \n",
       "50%                   68.215000   35.000000  57012.300000   \n",
       "75%                   78.547500   42.000000  65470.635000   \n",
       "max                   91.430000   61.000000  79484.800000   \n",
       "\n",
       "       Daily Internet Usage  \n",
       "count           1000.000000  \n",
       "mean             180.000100  \n",
       "std               43.902339  \n",
       "min              104.780000  \n",
       "25%              138.830000  \n",
       "50%              183.130000  \n",
       "75%              218.792500  \n",
       "max              269.960000  "
      ]
     },
     "execution_count": 338,
     "metadata": {},
     "output_type": "execute_result"
    }
   ],
   "source": [
    "df_IQR = df.copy()\n",
    "\n",
    "#B1: Tìm khoảng Limit\n",
    "\n",
    "# Cach 1:Dùng IQR\n",
    "q1=df_IQR['Area Income'].quantile(0.25)\n",
    "q3=df_IQR['Area Income'].quantile(0.75)\n",
    "lower_limit = q1 - 1.5*(q3 - q1)\n",
    "upper_limit = q3 + 1.5*(q3 - q1)\n",
    "print(upper_limit)\n",
    "print(lower_limit)\n",
    "\n",
    "# Cach 2:Dùng mean()-3*std() và mean()+3*std()\n",
    "# upper_limit = df['Area Income'].mean() + 3*df['Area Income'].std()\n",
    "# print(upper_limit)\n",
    "# lower_limit = df['Area Income'].mean() - 3*df['Area Income'].std()\n",
    "# print(lower_limit)\n",
    "\n",
    "\n",
    "# B2: Thay Outliers\n",
    "\n",
    "# Cach 1: Thay giá trị outliers\n",
    "df_IQR['Area Income'] = np.where(\n",
    "    df_IQR['Area Income'] > upper_limit,\n",
    "    upper_limit,\n",
    "    np.where(df_IQR['Area Income'] < lower_limit, \n",
    "        lower_limit,\n",
    "        df_IQR['Area Income'])\n",
    ")\n",
    "\n",
    "# Cach 2: Xóa outliers\n",
    "#dfCopy=dfCopy.iloc[~idx]\n",
    "\n",
    "\n",
    "#B3: Kiểm tra lại\n",
    "df_IQR.describe()[['Daily Time Spent on Site','Age','Area Income','Daily Internet Usage']]\n"
   ]
  },
  {
   "cell_type": "code",
   "execution_count": 339,
   "metadata": {},
   "outputs": [
    {
     "data": {
      "image/png": "[encoded data removed]",
      "text/plain": [
       "<Figure size 1200x500 with 2 Axes>"
      ]
     },
     "metadata": {},
     "output_type": "display_data"
    }
   ],
   "source": [
    "# Create subplots: 1 row, 2 columns\n",
    "fig, ax = plt.subplots(1, 2, figsize=(12, 5))\n",
    "\n",
    "# KDE plot on the first subplot\n",
    "sns.kdeplot(data=df_IQR[\"Area Income\"], ax=ax[0])\n",
    "ax[0].set_title(\"Area Income Frequency After replace\")\n",
    "\n",
    "# Boxplot on the second subplot\n",
    "pd.DataFrame(df_IQR['Area Income']).boxplot(ax=ax[1])\n",
    "ax[1].set_title(\"Area Income\")\n",
    "\n",
    "# Adjust layout and display the plots\n",
    "plt.tight_layout()\n",
    "plt.show()"
   ]
  },
  {
   "cell_type": "markdown",
   "metadata": {},
   "source": [
    "📈`Conclusion:`\n",
    "- The distribution did not get affected after replacing. Also, as the outlier values were replaced by the max and min limit, notice, how in the PDF or KDEplot, there are more values near 20000."
   ]
  },
  {
   "cell_type": "markdown",
   "metadata": {},
   "source": [
    "📝 **Using Z-Score**"
   ]
  },
  {
   "cell_type": "markdown",
   "metadata": {},
   "source": [
    "The Z-score is a statistical method used to determine how far a data point deviates from the mean of a dataset. It measures how many standard deviations a data point is from the mean.\n",
    "\n",
    "A typical threshold for outliers using Z-scores is 3 (or -3). Any data point with a Z-score greater than 3 or less than -3 is considered an outlier.\n",
    "\n",
    "We'll use zscore function from scipy to calculate the Z-score for a dataset"
   ]
  },
  {
   "cell_type": "code",
   "execution_count": 340,
   "metadata": {},
   "outputs": [],
   "source": [
    "def detect_outlier_z_score(df:pd.DataFrame, threshold):\n",
    "    z_scores_abs = abs(zscore(df))\n",
    "    test = pd.DataFrame(z_scores_abs, columns=df.columns)\n",
    "    outlier_index = (test > threshold).any(axis=1)\n",
    "    return outlier_index\n"
   ]
  },
  {
   "cell_type": "code",
   "execution_count": 341,
   "metadata": {},
   "outputs": [
    {
     "data": {
      "text/html": [
       "<div>\n",
       "<style scoped>\n",
       "    .dataframe tbody tr th:only-of-type {\n",
       "        vertical-align: middle;\n",
       "    }\n",
       "\n",
       "    .dataframe tbody tr th {\n",
       "        vertical-align: top;\n",
       "    }\n",
       "\n",
       "    .dataframe thead th {\n",
       "        text-align: right;\n",
       "    }\n",
       "</style>\n",
       "<table border=\"1\" class=\"dataframe\">\n",
       "  <thead>\n",
       "    <tr style=\"text-align: right;\">\n",
       "      <th></th>\n",
       "      <th>Daily Time Spent on Site</th>\n",
       "      <th>Age</th>\n",
       "      <th>Area Income</th>\n",
       "      <th>Daily Internet Usage</th>\n",
       "      <th>Ad Topic Line</th>\n",
       "      <th>City</th>\n",
       "      <th>Male</th>\n",
       "      <th>Country</th>\n",
       "      <th>Timestamp</th>\n",
       "      <th>Clicked on Ad</th>\n",
       "    </tr>\n",
       "  </thead>\n",
       "  <tbody>\n",
       "    <tr>\n",
       "      <th>692</th>\n",
       "      <td>66.26</td>\n",
       "      <td>47.0</td>\n",
       "      <td>14548.06</td>\n",
       "      <td>179.04</td>\n",
       "      <td>Optional full-range projection</td>\n",
       "      <td>Matthewtown</td>\n",
       "      <td>1</td>\n",
       "      <td>Lebanon</td>\n",
       "      <td>25/4/2016 19:31</td>\n",
       "      <td>1</td>\n",
       "    </tr>\n",
       "    <tr>\n",
       "      <th>768</th>\n",
       "      <td>68.58</td>\n",
       "      <td>41.0</td>\n",
       "      <td>13996.50</td>\n",
       "      <td>171.54</td>\n",
       "      <td>Exclusive discrete firmware</td>\n",
       "      <td>New Williamville</td>\n",
       "      <td>1</td>\n",
       "      <td>El Salvador</td>\n",
       "      <td>6/7/2016 12:04</td>\n",
       "      <td>1</td>\n",
       "    </tr>\n",
       "    <tr>\n",
       "      <th>778</th>\n",
       "      <td>52.67</td>\n",
       "      <td>44.0</td>\n",
       "      <td>14775.50</td>\n",
       "      <td>191.26</td>\n",
       "      <td>Persevering 5thgeneration knowledge user</td>\n",
       "      <td>New Hollyberg</td>\n",
       "      <td>0</td>\n",
       "      <td>Jersey</td>\n",
       "      <td>19/5/2016 6:37</td>\n",
       "      <td>1</td>\n",
       "    </tr>\n",
       "  </tbody>\n",
       "</table>\n",
       "</div>"
      ],
      "text/plain": [
       "     Daily Time Spent on Site   Age  Area Income  Daily Internet Usage  \\\n",
       "692                     66.26  47.0     14548.06                179.04   \n",
       "768                     68.58  41.0     13996.50                171.54   \n",
       "778                     52.67  44.0     14775.50                191.26   \n",
       "\n",
       "                                Ad Topic Line              City  Male  \\\n",
       "692            Optional full-range projection       Matthewtown     1   \n",
       "768               Exclusive discrete firmware  New Williamville     1   \n",
       "778  Persevering 5thgeneration knowledge user     New Hollyberg     0   \n",
       "\n",
       "         Country        Timestamp  Clicked on Ad  \n",
       "692      Lebanon  25/4/2016 19:31              1  \n",
       "768  El Salvador   6/7/2016 12:04              1  \n",
       "778       Jersey   19/5/2016 6:37              1  "
      ]
     },
     "execution_count": 341,
     "metadata": {},
     "output_type": "execute_result"
    }
   ],
   "source": [
    "invalid_index = detect_outlier_z_score(df[['Daily Time Spent on Site','Age','Area Income','Daily Internet Usage']], 3)\n",
    "df[invalid_index]"
   ]
  },
  {
   "cell_type": "code",
   "execution_count": 342,
   "metadata": {},
   "outputs": [
    {
     "data": {
      "image/png": "[encoded data removed]",
      "text/plain": [
       "<Figure size 1200x1000 with 4 Axes>"
      ]
     },
     "metadata": {},
     "output_type": "display_data"
    }
   ],
   "source": [
    "# Create subplots: 2 rows, 2 columns\n",
    "fig, ax = plt.subplots(2, 2, figsize=(12, 10))\n",
    "\n",
    "# Histogram for 'Daily Time Spent on Site' on the first subplot\n",
    "ax[0, 0].hist(df['Daily Time Spent on Site'], bins=30)\n",
    "ax[0, 0].set_title(\"Daily Time Spent on Site\")\n",
    "\n",
    "# Histogram for 'Age' on the second subplot\n",
    "ax[0, 1].hist(df['Age'], bins=30)\n",
    "ax[0, 1].set_title(\"Age\")\n",
    "\n",
    "# Histogram for 'Area Income' on the third subplot\n",
    "ax[1, 0].hist(df['Area Income'], bins=30)\n",
    "ax[1, 0].set_title(\"Area Income\")\n",
    "\n",
    "# Histogram for 'Daily Internet Usage' on the fourth subplot\n",
    "ax[1, 1].hist(df['Daily Internet Usage'], bins=30)\n",
    "ax[1, 1].set_title(\"Daily Internet Usage\")\n",
    "\n",
    "# Adjust layout to prevent overlap and display the plots\n",
    "plt.tight_layout()\n",
    "plt.show()"
   ]
  },
  {
   "cell_type": "markdown",
   "metadata": {},
   "source": [
    "📈`COMMENT:`\n",
    "\n",
    "..."
   ]
  },
  {
   "cell_type": "code",
   "execution_count": 343,
   "metadata": {},
   "outputs": [
    {
     "data": {
      "text/html": [
       "<div>\n",
       "<style scoped>\n",
       "    .dataframe tbody tr th:only-of-type {\n",
       "        vertical-align: middle;\n",
       "    }\n",
       "\n",
       "    .dataframe tbody tr th {\n",
       "        vertical-align: top;\n",
       "    }\n",
       "\n",
       "    .dataframe thead th {\n",
       "        text-align: right;\n",
       "    }\n",
       "</style>\n",
       "<table border=\"1\" class=\"dataframe\">\n",
       "  <thead>\n",
       "    <tr style=\"text-align: right;\">\n",
       "      <th></th>\n",
       "      <th>Daily Time Spent on Site</th>\n",
       "      <th>Age</th>\n",
       "      <th>Area Income</th>\n",
       "      <th>Daily Internet Usage</th>\n",
       "    </tr>\n",
       "  </thead>\n",
       "  <tbody>\n",
       "    <tr>\n",
       "      <th>count</th>\n",
       "      <td>1000.000000</td>\n",
       "      <td>999.000000</td>\n",
       "      <td>1000.000000</td>\n",
       "      <td>1000.000000</td>\n",
       "    </tr>\n",
       "    <tr>\n",
       "      <th>mean</th>\n",
       "      <td>65.000200</td>\n",
       "      <td>36.019019</td>\n",
       "      <td>55026.621844</td>\n",
       "      <td>180.000100</td>\n",
       "    </tr>\n",
       "    <tr>\n",
       "      <th>std</th>\n",
       "      <td>15.853615</td>\n",
       "      <td>8.784245</td>\n",
       "      <td>13295.345900</td>\n",
       "      <td>43.902339</td>\n",
       "    </tr>\n",
       "    <tr>\n",
       "      <th>min</th>\n",
       "      <td>32.600000</td>\n",
       "      <td>19.000000</td>\n",
       "      <td>20586.977300</td>\n",
       "      <td>104.780000</td>\n",
       "    </tr>\n",
       "    <tr>\n",
       "      <th>25%</th>\n",
       "      <td>51.360000</td>\n",
       "      <td>29.000000</td>\n",
       "      <td>47031.802500</td>\n",
       "      <td>138.830000</td>\n",
       "    </tr>\n",
       "    <tr>\n",
       "      <th>50%</th>\n",
       "      <td>68.215000</td>\n",
       "      <td>35.000000</td>\n",
       "      <td>57012.300000</td>\n",
       "      <td>183.130000</td>\n",
       "    </tr>\n",
       "    <tr>\n",
       "      <th>75%</th>\n",
       "      <td>78.547500</td>\n",
       "      <td>42.000000</td>\n",
       "      <td>65470.635000</td>\n",
       "      <td>218.792500</td>\n",
       "    </tr>\n",
       "    <tr>\n",
       "      <th>max</th>\n",
       "      <td>91.430000</td>\n",
       "      <td>61.000000</td>\n",
       "      <td>77144.378100</td>\n",
       "      <td>269.960000</td>\n",
       "    </tr>\n",
       "  </tbody>\n",
       "</table>\n",
       "</div>"
      ],
      "text/plain": [
       "       Daily Time Spent on Site         Age   Area Income  \\\n",
       "count               1000.000000  999.000000   1000.000000   \n",
       "mean                  65.000200   36.019019  55026.621844   \n",
       "std                   15.853615    8.784245  13295.345900   \n",
       "min                   32.600000   19.000000  20586.977300   \n",
       "25%                   51.360000   29.000000  47031.802500   \n",
       "50%                   68.215000   35.000000  57012.300000   \n",
       "75%                   78.547500   42.000000  65470.635000   \n",
       "max                   91.430000   61.000000  77144.378100   \n",
       "\n",
       "       Daily Internet Usage  \n",
       "count           1000.000000  \n",
       "mean             180.000100  \n",
       "std               43.902339  \n",
       "min              104.780000  \n",
       "25%              138.830000  \n",
       "50%              183.130000  \n",
       "75%              218.792500  \n",
       "max              269.960000  "
      ]
     },
     "execution_count": 343,
     "metadata": {},
     "output_type": "execute_result"
    }
   ],
   "source": [
    "df_Zscore = df.copy()\n",
    "\n",
    "lower_limit = df_Zscore['Area Income'].quantile(0.01)\n",
    "upper_limit = df_Zscore['Area Income'].quantile(0.99)\n",
    "\n",
    "df_Zscore['Area Income'] = df_Zscore['Area Income'].clip(lower=lower_limit, upper=upper_limit)\n",
    "df_Zscore.describe()[['Daily Time Spent on Site','Age','Area Income','Daily Internet Usage']]"
   ]
  },
  {
   "cell_type": "code",
   "execution_count": 344,
   "metadata": {},
   "outputs": [
    {
     "data": {
      "text/plain": [
       "Daily Time Spent on Site    1000\n",
       "Age                          999\n",
       "Area Income                 1000\n",
       "Daily Internet Usage        1000\n",
       "Ad Topic Line               1000\n",
       "City                        1000\n",
       "Male                        1000\n",
       "Country                     1000\n",
       "Timestamp                   1000\n",
       "Clicked on Ad               1000\n",
       "dtype: int64"
      ]
     },
     "execution_count": 344,
     "metadata": {},
     "output_type": "execute_result"
    }
   ],
   "source": [
    "df = df_IQR.copy()\n",
    "df.count()"
   ]
  },
  {
   "cell_type": "markdown",
   "metadata": {},
   "source": [
    "<div style=\"text-align: left; font-family: 'Trebuchet MS', Arial, sans-serif; color: #8C3333; padding: 20px; font-size: 25px; font-weight: bold; border-radius: 0 0 0 0; background-color: #AFC8AD\">\n",
    "  5. Is there missing data? 🧮\n",
    "</div>"
   ]
  },
  {
   "cell_type": "markdown",
   "metadata": {},
   "source": [
    "🚨  Missing data can distort the results of our analysis and lead to inaccurate insights.\\\n",
    "🚨  It is crucial to identify and handle missing values effectively.\\\n",
    "🚨  If missing data exists, we will explore strategies to fill or remove them based on the context and nature of the dataset.\\\n",
    "🚨  In this section, we will analyze for any missing values and take necessary actions such as filling, imputation, or removal."
   ]
  },
  {
   "cell_type": "markdown",
   "metadata": {},
   "source": [
    "👀  As mention above, there is only 1 column in 1 row with missing data, let take a look again."
   ]
  },
  {
   "cell_type": "code",
   "execution_count": 345,
   "metadata": {},
   "outputs": [
    {
     "data": {
      "text/plain": [
       "Age                         1\n",
       "Daily Time Spent on Site    0\n",
       "Area Income                 0\n",
       "Daily Internet Usage        0\n",
       "Ad Topic Line               0\n",
       "City                        0\n",
       "Male                        0\n",
       "Country                     0\n",
       "Timestamp                   0\n",
       "Clicked on Ad               0\n",
       "dtype: int64"
      ]
     },
     "execution_count": 345,
     "metadata": {},
     "output_type": "execute_result"
    }
   ],
   "source": [
    "df.isnull().sum().sort_values(ascending=False)"
   ]
  },
  {
   "cell_type": "markdown",
   "metadata": {},
   "source": [
    "❄️ Let remove the row with missing age value, since removing only 1 row won't significantly affect the analysis."
   ]
  },
  {
   "cell_type": "code",
   "execution_count": 346,
   "metadata": {},
   "outputs": [
    {
     "name": "stdout",
     "output_type": "stream",
     "text": [
      "Current shape: (999, 10)\n"
     ]
    }
   ],
   "source": [
    "df = df.dropna(subset=['Age'])\n",
    "print(f\"Current shape: {df.shape}\")"
   ]
  },
  {
   "cell_type": "markdown",
   "metadata": {},
   "source": [
    "📈`COMMENT:`\n",
    "- ..."
   ]
  },
  {
   "cell_type": "markdown",
   "metadata": {},
   "source": [
    "<div style=\"text-align: left; font-family: 'Trebuchet MS', Arial, sans-serif; color: #8C3333; padding: 20px; font-size: 25px; font-weight: bold; border-radius: 0 0 0 0; background-color: #AFC8AD\">\n",
    "  6. Is there any imbalance in \"Clicked on AD\" labels?\n",
    "</div>"
   ]
  },
  {
   "cell_type": "markdown",
   "metadata": {},
   "source": [
    "🔍🔍🔍\n",
    "- Imbalance occurs when certain classes in a dataset are underrepresented compared to others, leading to a skewed distribution of class labels.\n",
    "-  Imbalance is often encountered in binary classification problems, where one class (e.g., positive cases) may significantly outnumber the other class (e.g., negative cases)."
   ]
  },
  {
   "cell_type": "markdown",
   "metadata": {},
   "source": [
    "👀 Count unique values in the 'Clicked on Ad' column."
   ]
  },
  {
   "cell_type": "code",
   "execution_count": 347,
   "metadata": {},
   "outputs": [
    {
     "name": "stdout",
     "output_type": "stream",
     "text": [
      "Value Counts: Clicked on Ad\n",
      "0    500\n",
      "1    499\n",
      "Name: count, dtype: int64\n"
     ]
    }
   ],
   "source": [
    "value_counts = df['Clicked on Ad'].value_counts()\n",
    "print(f'Value Counts: {value_counts}')"
   ]
  },
  {
   "cell_type": "markdown",
   "metadata": {},
   "source": [
    "👀 Visualize the distribution"
   ]
  },
  {
   "cell_type": "code",
   "execution_count": 348,
   "metadata": {},
   "outputs": [
    {
     "data": {
      "image/png": "[encoded data removed]",
      "text/plain": [
       "<Figure size 800x500 with 1 Axes>"
      ]
     },
     "metadata": {},
     "output_type": "display_data"
    }
   ],
   "source": [
    "plt.figure(figsize=(8, 5))\n",
    "sns.countplot(x='Clicked on Ad', hue='Clicked on Ad', data=df, palette='Set2', legend=False)\n",
    "plt.title('Distribution of Clicks on Ads')\n",
    "plt.xlabel('Click on Ad (0 = No, 1 = Yes)')\n",
    "plt.ylabel('Count')\n",
    "plt.xticks([0, 1], ['No Click', 'Click'])\n",
    "plt.show()"
   ]
  },
  {
   "cell_type": "markdown",
   "metadata": {},
   "source": [
    "👀 Calculate proportions"
   ]
  },
  {
   "cell_type": "code",
   "execution_count": 349,
   "metadata": {},
   "outputs": [
    {
     "name": "stdout",
     "output_type": "stream",
     "text": [
      "\n",
      "Proportions of Each Class:\n",
      "Clicked on Ad\n",
      "0    0.500501\n",
      "1    0.499499\n",
      "Name: count, dtype: float64\n"
     ]
    }
   ],
   "source": [
    "proportions = value_counts / len(df)\n",
    "print(\"\\nProportions of Each Class:\")\n",
    "print(proportions)"
   ]
  },
  {
   "cell_type": "markdown",
   "metadata": {},
   "source": [
    "📈`COMMENT:`\n",
    "- This ***close-to-even split*** indicates that there is ***no significant class imbalance*** present in the dataset. \n",
    "- Such a balanced distribution is advantageous for classification tasks, as it helps ensure that the predictive model can learn effectively from both classes without bias towards one over the other. \n",
    "- As a result, we can expect more reliable and equitable model performance when predicting user engagement with ads."
   ]
  },
  {
   "cell_type": "markdown",
   "metadata": {},
   "source": [
    "<div style=\"text-align: left; font-family: 'Trebuchet MS', Arial, sans-serif; color: #8C3333; padding-left: 20px; padding-bottom:10px;padding-top:10px;font-size: 25px; font-weight: bold; border-radius: 0 0 0 0; background-color: #AFC8AD\">\n",
    "  6.  What data type does each column currently have? 🧮\n",
    "</div>\n",
    "<div style=\"text-align: left; font-family: 'Trebuchet MS', Arial, sans-serif; color: #8C3333; padding-left: 20px; padding-bottom:20px; font-size: 25px; font-weight: bold; border-radius: 0 0 0 0; background-color: #AFC8AD\">\n",
    "      Are there any columns whose data types are not suitable for further processing? 🧮\n",
    "</div>"
   ]
  },
  {
   "cell_type": "markdown",
   "metadata": {},
   "source": [
    "👀 Next we will take a look at the data type of each column and classify column data."
   ]
  },
  {
   "cell_type": "code",
   "execution_count": 350,
   "metadata": {},
   "outputs": [
    {
     "data": {
      "text/plain": [
       "Daily Time Spent on Site    float64\n",
       "Age                         float64\n",
       "Area Income                 float64\n",
       "Daily Internet Usage        float64\n",
       "Ad Topic Line                object\n",
       "City                         object\n",
       "Male                          int64\n",
       "Country                      object\n",
       "Timestamp                    object\n",
       "Clicked on Ad                 int64\n",
       "dtype: object"
      ]
     },
     "execution_count": 350,
     "metadata": {},
     "output_type": "execute_result"
    }
   ],
   "source": [
    "df.dtypes"
   ]
  },
  {
   "cell_type": "markdown",
   "metadata": {},
   "source": [
    "👀 We can clearly see that the data type of `Age` column is **float64** so we will convert it into **int64**."
   ]
  },
  {
   "cell_type": "code",
   "execution_count": 351,
   "metadata": {},
   "outputs": [],
   "source": [
    "df['Age'] = df['Age'].astype('int64')"
   ]
  },
  {
   "cell_type": "markdown",
   "metadata": {},
   "source": [
    "👀`Timestamp` are problaly date-time data type. We convert this column into **date-time**."
   ]
  },
  {
   "cell_type": "code",
   "execution_count": 352,
   "metadata": {},
   "outputs": [],
   "source": [
    "df['Timestamp'] = pd.to_datetime(df['Timestamp'], format='mixed')"
   ]
  },
  {
   "cell_type": "markdown",
   "metadata": {},
   "source": [
    "👀 Now let's take a look again the data types of each column."
   ]
  },
  {
   "cell_type": "code",
   "execution_count": 353,
   "metadata": {},
   "outputs": [
    {
     "data": {
      "text/plain": [
       "Daily Time Spent on Site           float64\n",
       "Age                                  int64\n",
       "Area Income                        float64\n",
       "Daily Internet Usage               float64\n",
       "Ad Topic Line                       object\n",
       "City                                object\n",
       "Male                                 int64\n",
       "Country                             object\n",
       "Timestamp                   datetime64[ns]\n",
       "Clicked on Ad                        int64\n",
       "dtype: object"
      ]
     },
     "execution_count": 353,
     "metadata": {},
     "output_type": "execute_result"
    }
   ],
   "source": [
    "df.dtypes"
   ]
  },
  {
   "cell_type": "markdown",
   "metadata": {},
   "source": [
    "\n",
    "\n",
    "🔍 Looking at an overview of the data set, we do not need to standardlize any data columns, but we may need to normalize some numeric data columns.\n",
    "\n",
    "Now, let check the distribution and summary statistics of the numerical features to determine the best normalization method."
   ]
  },
  {
   "cell_type": "markdown",
   "metadata": {},
   "source": [
    "📋 `Summary statistics`"
   ]
  },
  {
   "cell_type": "code",
   "execution_count": 354,
   "metadata": {},
   "outputs": [
    {
     "data": {
      "text/html": [
       "<div>\n",
       "<style scoped>\n",
       "    .dataframe tbody tr th:only-of-type {\n",
       "        vertical-align: middle;\n",
       "    }\n",
       "\n",
       "    .dataframe tbody tr th {\n",
       "        vertical-align: top;\n",
       "    }\n",
       "\n",
       "    .dataframe thead th {\n",
       "        text-align: right;\n",
       "    }\n",
       "</style>\n",
       "<table border=\"1\" class=\"dataframe\">\n",
       "  <thead>\n",
       "    <tr style=\"text-align: right;\">\n",
       "      <th></th>\n",
       "      <th>Daily Time Spent on Site</th>\n",
       "      <th>Age</th>\n",
       "      <th>Area Income</th>\n",
       "      <th>Daily Internet Usage</th>\n",
       "    </tr>\n",
       "  </thead>\n",
       "  <tbody>\n",
       "    <tr>\n",
       "      <th>count</th>\n",
       "      <td>999.000000</td>\n",
       "      <td>999.000000</td>\n",
       "      <td>999.000000</td>\n",
       "      <td>999.000000</td>\n",
       "    </tr>\n",
       "    <tr>\n",
       "      <th>mean</th>\n",
       "      <td>65.020210</td>\n",
       "      <td>36.019019</td>\n",
       "      <td>55050.496060</td>\n",
       "      <td>180.001752</td>\n",
       "    </tr>\n",
       "    <tr>\n",
       "      <th>std</th>\n",
       "      <td>15.848916</td>\n",
       "      <td>8.784245</td>\n",
       "      <td>13326.130277</td>\n",
       "      <td>43.924298</td>\n",
       "    </tr>\n",
       "    <tr>\n",
       "      <th>min</th>\n",
       "      <td>32.600000</td>\n",
       "      <td>19.000000</td>\n",
       "      <td>19373.553750</td>\n",
       "      <td>104.780000</td>\n",
       "    </tr>\n",
       "    <tr>\n",
       "      <th>25%</th>\n",
       "      <td>51.440000</td>\n",
       "      <td>29.000000</td>\n",
       "      <td>47095.115000</td>\n",
       "      <td>138.790000</td>\n",
       "    </tr>\n",
       "    <tr>\n",
       "      <th>50%</th>\n",
       "      <td>68.250000</td>\n",
       "      <td>35.000000</td>\n",
       "      <td>57014.840000</td>\n",
       "      <td>183.420000</td>\n",
       "    </tr>\n",
       "    <tr>\n",
       "      <th>75%</th>\n",
       "      <td>78.555000</td>\n",
       "      <td>42.000000</td>\n",
       "      <td>65479.350000</td>\n",
       "      <td>218.795000</td>\n",
       "    </tr>\n",
       "    <tr>\n",
       "      <th>max</th>\n",
       "      <td>91.430000</td>\n",
       "      <td>61.000000</td>\n",
       "      <td>79484.800000</td>\n",
       "      <td>269.960000</td>\n",
       "    </tr>\n",
       "  </tbody>\n",
       "</table>\n",
       "</div>"
      ],
      "text/plain": [
       "       Daily Time Spent on Site         Age   Area Income  \\\n",
       "count                999.000000  999.000000    999.000000   \n",
       "mean                  65.020210   36.019019  55050.496060   \n",
       "std                   15.848916    8.784245  13326.130277   \n",
       "min                   32.600000   19.000000  19373.553750   \n",
       "25%                   51.440000   29.000000  47095.115000   \n",
       "50%                   68.250000   35.000000  57014.840000   \n",
       "75%                   78.555000   42.000000  65479.350000   \n",
       "max                   91.430000   61.000000  79484.800000   \n",
       "\n",
       "       Daily Internet Usage  \n",
       "count            999.000000  \n",
       "mean             180.001752  \n",
       "std               43.924298  \n",
       "min              104.780000  \n",
       "25%              138.790000  \n",
       "50%              183.420000  \n",
       "75%              218.795000  \n",
       "max              269.960000  "
      ]
     },
     "execution_count": 354,
     "metadata": {},
     "output_type": "execute_result"
    }
   ],
   "source": [
    "# Get only the numerical features\n",
    "numerical_columns = ['Daily Time Spent on Site', 'Age', 'Area Income', 'Daily Internet Usage']\n",
    "\n",
    "# Get the statistics of the numerical features\n",
    "df[numerical_columns].describe()\n"
   ]
  },
  {
   "cell_type": "markdown",
   "metadata": {},
   "source": [
    "📊 `Visualize distribution`"
   ]
  },
  {
   "cell_type": "code",
   "execution_count": 355,
   "metadata": {},
   "outputs": [
    {
     "data": {
      "image/png": "[encoded data removed]",
      "text/plain": [
       "<Figure size 1200x800 with 4 Axes>"
      ]
     },
     "metadata": {},
     "output_type": "display_data"
    }
   ],
   "source": [
    "# Create subplots - 2 rows, 2 columns for 4 features\n",
    "fig, axes = plt.subplots(2, 2, figsize=(12, 8))  # Adjusting the figure size and grid layout\n",
    "\n",
    "# Flatten axes for easy iteration\n",
    "axes = axes.flatten()\n",
    "\n",
    "# Plot each numerical feature in a separate subplot\n",
    "for i, col in enumerate(numerical_columns):\n",
    "    sns.histplot(df[col], kde=True, ax=axes[i])  # Plot histogram and KDE in the i-th subplot\n",
    "    axes[i].set_title(f'Distribution of {col}')  # Set title for each subplot\n",
    "\n",
    "# Adjust layout to prevent overlap\n",
    "plt.tight_layout()\n",
    "\n",
    "# Show the combined plot\n",
    "plt.show()\n"
   ]
  },
  {
   "cell_type": "markdown",
   "metadata": {},
   "source": [
    "📏 `Calculate skewness`"
   ]
  },
  {
   "cell_type": "code",
   "execution_count": 356,
   "metadata": {},
   "outputs": [
    {
     "data": {
      "text/plain": [
       "Daily Time Spent on Site   -0.374245\n",
       "Age                         0.477895\n",
       "Area Income                -0.622931\n",
       "Daily Internet Usage       -0.033634\n",
       "dtype: float64"
      ]
     },
     "execution_count": 356,
     "metadata": {},
     "output_type": "execute_result"
    }
   ],
   "source": [
    "skewness = df[numerical_columns].skew()\n",
    "skewness"
   ]
  },
  {
   "cell_type": "markdown",
   "metadata": {},
   "source": [
    "📈`COMMENT:`\n",
    "- Based on the above analysis results, we can see that the values ​​of `Daily Time Spent on Site`, `Age`, `Area Income` tend to be unevenly distributed, a typical example is having a longer tail.\n",
    "\n",
    "- Meanwhile, the prices for `Daily Internet Usage` are distributed quite evenly and are only concave in a small section in the middle of the chart. \n",
    "\n",
    "- In addition, the skewness calculation results also show that `Daily Internet Usage` has the skewness value closest to 0, while `Daily Time Spent on Site`, `Age` and `Area Income` are far away from 0. \n",
    "\n",
    "📝Therefore, we can choose the Min-Max Scaling method for `Daily Time Spent on Site`, `Age` and `Area Income`. On the other hand, `Daily Internet Usage` will apply the Z-score Normalizaion method "
   ]
  },
  {
   "cell_type": "code",
   "execution_count": 357,
   "metadata": {},
   "outputs": [
    {
     "data": {
      "text/html": [
       "<div>\n",
       "<style scoped>\n",
       "    .dataframe tbody tr th:only-of-type {\n",
       "        vertical-align: middle;\n",
       "    }\n",
       "\n",
       "    .dataframe tbody tr th {\n",
       "        vertical-align: top;\n",
       "    }\n",
       "\n",
       "    .dataframe thead th {\n",
       "        text-align: right;\n",
       "    }\n",
       "</style>\n",
       "<table border=\"1\" class=\"dataframe\">\n",
       "  <thead>\n",
       "    <tr style=\"text-align: right;\">\n",
       "      <th></th>\n",
       "      <th>Daily Time Spent on Site</th>\n",
       "      <th>Age</th>\n",
       "      <th>Area Income</th>\n",
       "      <th>Daily Internet Usage</th>\n",
       "      <th>Ad Topic Line</th>\n",
       "      <th>City</th>\n",
       "      <th>Male</th>\n",
       "      <th>Country</th>\n",
       "      <th>Timestamp</th>\n",
       "      <th>Clicked on Ad</th>\n",
       "    </tr>\n",
       "  </thead>\n",
       "  <tbody>\n",
       "    <tr>\n",
       "      <th>0</th>\n",
       "      <td>0.617882</td>\n",
       "      <td>0.380952</td>\n",
       "      <td>0.706363</td>\n",
       "      <td>1.733126</td>\n",
       "      <td>Cloned 5thgeneration orchestration</td>\n",
       "      <td>Wrightburgh</td>\n",
       "      <td>0</td>\n",
       "      <td>Tunisia</td>\n",
       "      <td>2016-03-27 00:53:00</td>\n",
       "      <td>0</td>\n",
       "    </tr>\n",
       "    <tr>\n",
       "      <th>1</th>\n",
       "      <td>0.809621</td>\n",
       "      <td>0.285714</td>\n",
       "      <td>0.816291</td>\n",
       "      <td>0.313611</td>\n",
       "      <td>Monitored national standardization</td>\n",
       "      <td>West Jodi</td>\n",
       "      <td>1</td>\n",
       "      <td>Nauru</td>\n",
       "      <td>2016-04-04 01:39:00</td>\n",
       "      <td>0</td>\n",
       "    </tr>\n",
       "    <tr>\n",
       "      <th>2</th>\n",
       "      <td>0.626721</td>\n",
       "      <td>0.166667</td>\n",
       "      <td>0.672293</td>\n",
       "      <td>1.286908</td>\n",
       "      <td>Organic bottom-line service-desk</td>\n",
       "      <td>Davidton</td>\n",
       "      <td>0</td>\n",
       "      <td>San Marino</td>\n",
       "      <td>2016-03-13 20:35:00</td>\n",
       "      <td>0</td>\n",
       "    </tr>\n",
       "    <tr>\n",
       "      <th>3</th>\n",
       "      <td>0.706272</td>\n",
       "      <td>0.238095</td>\n",
       "      <td>0.589451</td>\n",
       "      <td>1.500792</td>\n",
       "      <td>Triple-buffered reciprocal time-frame</td>\n",
       "      <td>West Terrifurt</td>\n",
       "      <td>1</td>\n",
       "      <td>Italy</td>\n",
       "      <td>2016-10-01 02:31:00</td>\n",
       "      <td>0</td>\n",
       "    </tr>\n",
       "    <tr>\n",
       "      <th>4</th>\n",
       "      <td>0.608023</td>\n",
       "      <td>0.380952</td>\n",
       "      <td>0.906926</td>\n",
       "      <td>1.038174</td>\n",
       "      <td>Robust logistical utilization</td>\n",
       "      <td>South Manuel</td>\n",
       "      <td>0</td>\n",
       "      <td>Iceland</td>\n",
       "      <td>2016-03-06 03:36:00</td>\n",
       "      <td>0</td>\n",
       "    </tr>\n",
       "  </tbody>\n",
       "</table>\n",
       "</div>"
      ],
      "text/plain": [
       "   Daily Time Spent on Site       Age  Area Income  Daily Internet Usage  \\\n",
       "0                  0.617882  0.380952     0.706363              1.733126   \n",
       "1                  0.809621  0.285714     0.816291              0.313611   \n",
       "2                  0.626721  0.166667     0.672293              1.286908   \n",
       "3                  0.706272  0.238095     0.589451              1.500792   \n",
       "4                  0.608023  0.380952     0.906926              1.038174   \n",
       "\n",
       "                           Ad Topic Line            City  Male     Country  \\\n",
       "0     Cloned 5thgeneration orchestration     Wrightburgh     0     Tunisia   \n",
       "1     Monitored national standardization       West Jodi     1       Nauru   \n",
       "2       Organic bottom-line service-desk        Davidton     0  San Marino   \n",
       "3  Triple-buffered reciprocal time-frame  West Terrifurt     1       Italy   \n",
       "4          Robust logistical utilization    South Manuel     0     Iceland   \n",
       "\n",
       "            Timestamp  Clicked on Ad  \n",
       "0 2016-03-27 00:53:00              0  \n",
       "1 2016-04-04 01:39:00              0  \n",
       "2 2016-03-13 20:35:00              0  \n",
       "3 2016-10-01 02:31:00              0  \n",
       "4 2016-03-06 03:36:00              0  "
      ]
     },
     "execution_count": 357,
     "metadata": {},
     "output_type": "execute_result"
    }
   ],
   "source": [
    "# copy the dataframe\n",
    "df_scaled = df.copy()\n",
    "\n",
    "# Apply MinMaxScaler to specific columns\n",
    "min_max_columns = ['Daily Time Spent on Site', 'Age', 'Area Income']\n",
    "scaler = MinMaxScaler()\n",
    "df_scaled[min_max_columns] = scaler.fit_transform(df_scaled[min_max_columns])\n",
    "\n",
    "# Apply StandardScaler to specific columns\n",
    "z_score_columns = ['Daily Internet Usage']\n",
    "scaler = StandardScaler()\n",
    "df_scaled[z_score_columns] = scaler.fit_transform(df_scaled[z_score_columns])\n",
    "\n",
    "df_scaled.head()"
   ]
  },
  {
   "cell_type": "markdown",
   "metadata": {},
   "source": [
    "<div style=\"text-align: left; font-family: 'Trebuchet MS', Arial, sans-serif; color: #8C3333; padding: 20px; font-size: 25px; font-weight: bold; border-radius: 0 0 0 0; background-color: #AFC8AD\">\n",
    "  7. For each column with numeric data type, how are the values distributed ? 🧮\n",
    "</div> "
   ]
  },
  {
   "cell_type": "code",
   "execution_count": 358,
   "metadata": {},
   "outputs": [
    {
     "data": {
      "text/html": [
       "<div>\n",
       "<style scoped>\n",
       "    .dataframe tbody tr th:only-of-type {\n",
       "        vertical-align: middle;\n",
       "    }\n",
       "\n",
       "    .dataframe tbody tr th {\n",
       "        vertical-align: top;\n",
       "    }\n",
       "\n",
       "    .dataframe thead th {\n",
       "        text-align: right;\n",
       "    }\n",
       "</style>\n",
       "<table border=\"1\" class=\"dataframe\">\n",
       "  <thead>\n",
       "    <tr style=\"text-align: right;\">\n",
       "      <th></th>\n",
       "      <th>Daily Time Spent on Site</th>\n",
       "      <th>Age</th>\n",
       "      <th>Area Income</th>\n",
       "      <th>Daily Internet Usage</th>\n",
       "      <th>Male</th>\n",
       "      <th>Timestamp</th>\n",
       "      <th>Clicked on Ad</th>\n",
       "    </tr>\n",
       "  </thead>\n",
       "  <tbody>\n",
       "    <tr>\n",
       "      <th>count</th>\n",
       "      <td>999.000000</td>\n",
       "      <td>999.000000</td>\n",
       "      <td>999.000000</td>\n",
       "      <td>999.000000</td>\n",
       "      <td>999.000000</td>\n",
       "      <td>999</td>\n",
       "      <td>999.000000</td>\n",
       "    </tr>\n",
       "    <tr>\n",
       "      <th>mean</th>\n",
       "      <td>65.020210</td>\n",
       "      <td>36.019019</td>\n",
       "      <td>55050.496060</td>\n",
       "      <td>180.001752</td>\n",
       "      <td>0.481481</td>\n",
       "      <td>2016-05-11 20:02:18.798798848</td>\n",
       "      <td>0.499499</td>\n",
       "    </tr>\n",
       "    <tr>\n",
       "      <th>min</th>\n",
       "      <td>32.600000</td>\n",
       "      <td>19.000000</td>\n",
       "      <td>19373.553750</td>\n",
       "      <td>104.780000</td>\n",
       "      <td>0.000000</td>\n",
       "      <td>2016-01-01 02:52:00</td>\n",
       "      <td>0.000000</td>\n",
       "    </tr>\n",
       "    <tr>\n",
       "      <th>25%</th>\n",
       "      <td>51.440000</td>\n",
       "      <td>29.000000</td>\n",
       "      <td>47095.115000</td>\n",
       "      <td>138.790000</td>\n",
       "      <td>0.000000</td>\n",
       "      <td>2016-03-02 22:59:00</td>\n",
       "      <td>0.000000</td>\n",
       "    </tr>\n",
       "    <tr>\n",
       "      <th>50%</th>\n",
       "      <td>68.250000</td>\n",
       "      <td>35.000000</td>\n",
       "      <td>57014.840000</td>\n",
       "      <td>183.420000</td>\n",
       "      <td>0.000000</td>\n",
       "      <td>2016-04-30 08:07:00</td>\n",
       "      <td>0.000000</td>\n",
       "    </tr>\n",
       "    <tr>\n",
       "      <th>75%</th>\n",
       "      <td>78.555000</td>\n",
       "      <td>42.000000</td>\n",
       "      <td>65479.350000</td>\n",
       "      <td>218.795000</td>\n",
       "      <td>1.000000</td>\n",
       "      <td>2016-07-01 16:37:00</td>\n",
       "      <td>1.000000</td>\n",
       "    </tr>\n",
       "    <tr>\n",
       "      <th>max</th>\n",
       "      <td>91.430000</td>\n",
       "      <td>61.000000</td>\n",
       "      <td>79484.800000</td>\n",
       "      <td>269.960000</td>\n",
       "      <td>1.000000</td>\n",
       "      <td>2016-12-07 10:56:00</td>\n",
       "      <td>1.000000</td>\n",
       "    </tr>\n",
       "    <tr>\n",
       "      <th>std</th>\n",
       "      <td>15.848916</td>\n",
       "      <td>8.784245</td>\n",
       "      <td>13326.130277</td>\n",
       "      <td>43.924298</td>\n",
       "      <td>0.499907</td>\n",
       "      <td>NaN</td>\n",
       "      <td>0.500250</td>\n",
       "    </tr>\n",
       "  </tbody>\n",
       "</table>\n",
       "</div>"
      ],
      "text/plain": [
       "       Daily Time Spent on Site         Age   Area Income  \\\n",
       "count                999.000000  999.000000    999.000000   \n",
       "mean                  65.020210   36.019019  55050.496060   \n",
       "min                   32.600000   19.000000  19373.553750   \n",
       "25%                   51.440000   29.000000  47095.115000   \n",
       "50%                   68.250000   35.000000  57014.840000   \n",
       "75%                   78.555000   42.000000  65479.350000   \n",
       "max                   91.430000   61.000000  79484.800000   \n",
       "std                   15.848916    8.784245  13326.130277   \n",
       "\n",
       "       Daily Internet Usage        Male                      Timestamp  \\\n",
       "count            999.000000  999.000000                            999   \n",
       "mean             180.001752    0.481481  2016-05-11 20:02:18.798798848   \n",
       "min              104.780000    0.000000            2016-01-01 02:52:00   \n",
       "25%              138.790000    0.000000            2016-03-02 22:59:00   \n",
       "50%              183.420000    0.000000            2016-04-30 08:07:00   \n",
       "75%              218.795000    1.000000            2016-07-01 16:37:00   \n",
       "max              269.960000    1.000000            2016-12-07 10:56:00   \n",
       "std               43.924298    0.499907                            NaN   \n",
       "\n",
       "       Clicked on Ad  \n",
       "count     999.000000  \n",
       "mean        0.499499  \n",
       "min         0.000000  \n",
       "25%         0.000000  \n",
       "50%         0.000000  \n",
       "75%         1.000000  \n",
       "max         1.000000  \n",
       "std         0.500250  "
      ]
     },
     "execution_count": 358,
     "metadata": {},
     "output_type": "execute_result"
    }
   ],
   "source": [
    "df.describe()"
   ]
  }
 ],
 "metadata": {
  "kernelspec": {
   "display_name": "Python 3",
   "language": "python",
   "name": "python3"
  },
  "language_info": {
   "codemirror_mode": {
    "name": "ipython",
    "version": 3
   },
   "file_extension": ".py",
   "mimetype": "text/x-python",
   "name": "python",
   "nbconvert_exporter": "python",
   "pygments_lexer": "ipython3",
   "version": "3.13.0"
  }
 },
 "nbformat": 4,
 "nbformat_minor": 2
}
