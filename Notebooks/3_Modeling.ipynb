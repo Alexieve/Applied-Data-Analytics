{
 "cells": [
  {
   "cell_type": "markdown",
   "metadata": {},
   "source": [
    "<div style=\"text-align: center; background-color: #750E21; font-family: 'Trebuchet MS', Arial, sans-serif; color: white; padding: 20px; font-size: 40px; font-weight: bold; border-radius: 0 0 0 0; box-shadow: 0px 6px 8px rgba(0, 0, 0, 0.2);\">\n",
    "  PROJECT: ... 📌\n",
    "</div>"
   ]
  },
  {
   "cell_type": "markdown",
   "metadata": {},
   "source": [
    "<div style=\"text-align: center; background-color: #0766AD; font-family: 'Trebuchet MS', Arial, sans-serif; color: white; padding: 20px; font-size: 40px; font-weight: bold; border-radius: 0 0 0 0; box-shadow: 0px 6px 8px rgba(0, 0, 0, 0.2);\">\n",
    "  Stage 3- MODELING 📌\n",
    "</div>"
   ]
  },
  {
   "cell_type": "markdown",
   "metadata": {},
   "source": [
    "## **IMPORT LIBRARY** 🎄"
   ]
  },
  {
   "cell_type": "code",
   "execution_count": 1,
   "metadata": {},
   "outputs": [],
   "source": [
    "import pandas as pd\n",
    "from sklearn.preprocessing import MinMaxScaler\n",
    "from sklearn.model_selection import train_test_split \n",
    "from sklearn.linear_model import LogisticRegression\n",
    "from sklearn.naive_bayes import GaussianNB\n",
    "from sklearn.tree import DecisionTreeClassifier\n",
    "from sklearn.ensemble import RandomForestClassifier\n",
    "from sklearn.model_selection import cross_val_score\n",
    "from sklearn.metrics import classification_report, confusion_matrix, accuracy_score"
   ]
  },
  {
   "cell_type": "markdown",
   "metadata": {},
   "source": [
    "Đầu tiên, ta sẽ đọc tập dữ liệu đã được xử lý ở giai đoạn EDA."
   ]
  },
  {
   "cell_type": "code",
   "execution_count": 2,
   "metadata": {},
   "outputs": [
    {
     "data": {
      "text/html": [
       "<div>\n",
       "<style scoped>\n",
       "    .dataframe tbody tr th:only-of-type {\n",
       "        vertical-align: middle;\n",
       "    }\n",
       "\n",
       "    .dataframe tbody tr th {\n",
       "        vertical-align: top;\n",
       "    }\n",
       "\n",
       "    .dataframe thead th {\n",
       "        text-align: right;\n",
       "    }\n",
       "</style>\n",
       "<table border=\"1\" class=\"dataframe\">\n",
       "  <thead>\n",
       "    <tr style=\"text-align: right;\">\n",
       "      <th></th>\n",
       "      <th>Area Income</th>\n",
       "      <th>Age</th>\n",
       "      <th>Daily Time Spent on Site</th>\n",
       "      <th>Daily Internet Usage</th>\n",
       "      <th>Clicked on Ad</th>\n",
       "    </tr>\n",
       "  </thead>\n",
       "  <tbody>\n",
       "    <tr>\n",
       "      <th>0</th>\n",
       "      <td>61833.90</td>\n",
       "      <td>35</td>\n",
       "      <td>68.95</td>\n",
       "      <td>256.09</td>\n",
       "      <td>0</td>\n",
       "    </tr>\n",
       "    <tr>\n",
       "      <th>1</th>\n",
       "      <td>68441.85</td>\n",
       "      <td>31</td>\n",
       "      <td>80.23</td>\n",
       "      <td>193.77</td>\n",
       "      <td>0</td>\n",
       "    </tr>\n",
       "    <tr>\n",
       "      <th>2</th>\n",
       "      <td>59785.94</td>\n",
       "      <td>26</td>\n",
       "      <td>69.47</td>\n",
       "      <td>236.50</td>\n",
       "      <td>0</td>\n",
       "    </tr>\n",
       "    <tr>\n",
       "      <th>3</th>\n",
       "      <td>54806.18</td>\n",
       "      <td>29</td>\n",
       "      <td>74.15</td>\n",
       "      <td>245.89</td>\n",
       "      <td>0</td>\n",
       "    </tr>\n",
       "    <tr>\n",
       "      <th>4</th>\n",
       "      <td>73889.99</td>\n",
       "      <td>35</td>\n",
       "      <td>68.37</td>\n",
       "      <td>225.58</td>\n",
       "      <td>0</td>\n",
       "    </tr>\n",
       "    <tr>\n",
       "      <th>5</th>\n",
       "      <td>59761.56</td>\n",
       "      <td>23</td>\n",
       "      <td>59.99</td>\n",
       "      <td>226.74</td>\n",
       "      <td>0</td>\n",
       "    </tr>\n",
       "    <tr>\n",
       "      <th>6</th>\n",
       "      <td>53852.85</td>\n",
       "      <td>33</td>\n",
       "      <td>88.91</td>\n",
       "      <td>208.36</td>\n",
       "      <td>0</td>\n",
       "    </tr>\n",
       "    <tr>\n",
       "      <th>7</th>\n",
       "      <td>24593.33</td>\n",
       "      <td>48</td>\n",
       "      <td>66.00</td>\n",
       "      <td>131.76</td>\n",
       "      <td>1</td>\n",
       "    </tr>\n",
       "    <tr>\n",
       "      <th>8</th>\n",
       "      <td>68862.00</td>\n",
       "      <td>30</td>\n",
       "      <td>74.53</td>\n",
       "      <td>221.51</td>\n",
       "      <td>0</td>\n",
       "    </tr>\n",
       "    <tr>\n",
       "      <th>9</th>\n",
       "      <td>55642.32</td>\n",
       "      <td>20</td>\n",
       "      <td>69.88</td>\n",
       "      <td>183.82</td>\n",
       "      <td>0</td>\n",
       "    </tr>\n",
       "  </tbody>\n",
       "</table>\n",
       "</div>"
      ],
      "text/plain": [
       "   Area Income  Age  Daily Time Spent on Site  Daily Internet Usage  \\\n",
       "0     61833.90   35                     68.95                256.09   \n",
       "1     68441.85   31                     80.23                193.77   \n",
       "2     59785.94   26                     69.47                236.50   \n",
       "3     54806.18   29                     74.15                245.89   \n",
       "4     73889.99   35                     68.37                225.58   \n",
       "5     59761.56   23                     59.99                226.74   \n",
       "6     53852.85   33                     88.91                208.36   \n",
       "7     24593.33   48                     66.00                131.76   \n",
       "8     68862.00   30                     74.53                221.51   \n",
       "9     55642.32   20                     69.88                183.82   \n",
       "\n",
       "   Clicked on Ad  \n",
       "0              0  \n",
       "1              0  \n",
       "2              0  \n",
       "3              0  \n",
       "4              0  \n",
       "5              0  \n",
       "6              0  \n",
       "7              1  \n",
       "8              0  \n",
       "9              0  "
      ]
     },
     "execution_count": 2,
     "metadata": {},
     "output_type": "execute_result"
    }
   ],
   "source": [
    "df = pd.read_csv('../Data/2425_QC_EDA.csv')\n",
    "df.head(10)"
   ]
  },
  {
   "cell_type": "markdown",
   "metadata": {},
   "source": [
    "Trong giai đoạn EDA, ta đã kiểm tra được các thuộc tính có ảnh hưởng đến việc người dùng có nhấp vào quảng cáo hay không. Và đây là những thuộc tính mà chúng ta sẽ dùng để xây dựng Model:\n",
    "- Area Income\n",
    "- Age\n",
    "- Daily Time Spent on Site\n",
    "- Daily Internet Usage"
   ]
  },
  {
   "cell_type": "markdown",
   "metadata": {},
   "source": [
    "<div style=\"text-align: left; font-family: 'Trebuchet MS', Arial, sans-serif; color: #FF90BC; padding: 20px; font-size: 28px; font-weight: bold; border-radius: 0 0 0 0\">\n",
    "  Splitting Dataset 🔥\n",
    "</div>\n",
    "\n",
    "Trước tiên, chúng ta cần phải chia ra 2 tập dữ liệu Train và Test để huấn luyện và thực hiện kiểm tra sau này."
   ]
  },
  {
   "cell_type": "code",
   "execution_count": 73,
   "metadata": {},
   "outputs": [],
   "source": [
    "random_state = 23\n",
    "\n",
    "target = 'Clicked on Ad'\n",
    "\n",
    "X, y = df.drop(target, axis=1), df[target]\n",
    "\n",
    "X_train, X_test, y_train, y_test = train_test_split(X, y, test_size=0.2, random_state=random_state)\\\n",
    "\n",
    "\n",
    "scaler = MinMaxScaler()\n",
    "\n",
    "X_train = scaler.fit_transform(X_train)\n",
    "X_test = scaler.transform(X_test)"
   ]
  },
  {
   "cell_type": "markdown",
   "metadata": {},
   "source": [
    "## **XÂY DỰNG MÔ HÌNH DỰ ĐOÁN** 📝"
   ]
  },
  {
   "cell_type": "markdown",
   "metadata": {},
   "source": [
    "Bây giờ, ta sẽ xây dựng các mô hình để dự đoán kết quả người dùng có click vào quảng cáo hay không."
   ]
  },
  {
   "cell_type": "markdown",
   "metadata": {},
   "source": [
    "<div style=\"text-align: left; font-family: 'Trebuchet MS', Arial, sans-serif; color: #8C3333; padding: 20px; font-size: 25px; font-weight: bold; border-radius: 0 0 0 0; background-color: #AFC8AD\">\n",
    "  1. Logistic Regression 🔥\n",
    "</div>"
   ]
  },
  {
   "cell_type": "code",
   "execution_count": 74,
   "metadata": {},
   "outputs": [
    {
     "name": "stdout",
     "output_type": "stream",
     "text": [
      "Accuracy: 0.97\n"
     ]
    }
   ],
   "source": [
    "# Sử dụng Logistic Regression, hãy xây dựng mô hình dự đoán target dựa trên các biến đầu vào.\n",
    "LR_model = LogisticRegression(random_state=random_state, solver='lbfgs', max_iter=500)\n",
    "LR_model.fit(X_train, y_train)\n",
    "\n",
    "y_pred = LR_model.predict(X_test)\n",
    "\n",
    "LR_accuracy = accuracy_score(y_test, y_pred)\n",
    "\n",
    "print(f'Accuracy: {LR_accuracy}')"
   ]
  },
  {
   "cell_type": "markdown",
   "metadata": {},
   "source": [
    "### **Nhận xét** 📈\n",
    "\n",
    "Sau khi áp dụng đầy đủ các bước chuẩn bị và tiền xử lý dữ liệu cũng như EDA, mô hình Logistic Regression đã đạt được kết quả rất tốt với độ chính xác là 0.97.\n",
    "\n",
    "- Việc làm sạch dữ liệu, xử lý các giá trị bị thiếu, và cân bằng phân phối các lớp đã đảm bảo rằng dữ liệu đầu vào không gây nhiễu hoặc thiên lệch cho mô hình.\n",
    "- Loại bỏ các đặc trưng không liên quan và xử lý đa cộng tuyến đã giúp mô hình chỉ học từ các thông tin thực sự quan trọng, tối ưu hóa khả năng phân biệt.\n",
    "- Sử dụng MinMaxScaler để chuẩn hóa dữ liệu đã giúp mô hình Logistic Regression hoạt động ổn định hơn, vì các đặc trưng đầu vào nằm trong cùng một phạm vi giá trị, loại bỏ ảnh hưởng của các giá trị lớn.\n",
    "- Việc sử dụng train_test_split đảm bảo mô hình được đánh giá trên tập dữ liệu độc lập, giúp kết quả đáng tin cậy và phản ánh đúng khả năng tổng quát của mô hình.\n",
    "\n",
    "Kết quả 0.97 cho thấy các bước xử lý đã góp phần quan trọng vào hiệu suất của mô hình, đồng thời khẳng định rằng Logistic Regression là một lựa chọn phù hợp cho bài toán với bộ dữ liệu này."
   ]
  },
  {
   "cell_type": "markdown",
   "metadata": {},
   "source": [
    "<div style=\"text-align: left; font-family: 'Trebuchet MS', Arial, sans-serif; color: #8C3333; padding: 20px; font-size: 25px; font-weight: bold; border-radius: 0 0 0 0; background-color: #AFC8AD\">\n",
    "  2. Naive Bayes 🔥\n",
    "</div>"
   ]
  },
  {
   "cell_type": "code",
   "execution_count": 5,
   "metadata": {},
   "outputs": [
    {
     "name": "stdout",
     "output_type": "stream",
     "text": [
      "Accuracy: 0.97\n"
     ]
    }
   ],
   "source": [
    "# Sử dụng Naive Bayes, hãy xây dựng mô hình dự đoán target dựa trên các biến đầu vào.\n",
    "NB_model = GaussianNB()\n",
    "NB_model.fit(X_train, y_train)\n",
    "\n",
    "y_pred = NB_model.predict(X_test)\n",
    "\n",
    "NB_accuracy = accuracy_score(y_test, y_pred)\n",
    "\n",
    "print(f'Accuracy: {NB_accuracy}')"
   ]
  },
  {
   "cell_type": "markdown",
   "metadata": {},
   "source": [
    "### **Nhận xét** 📈\n",
    "- Ta sử dụng Naive Bayes vì phụ thuộc giữa các cột dữ liệu là gần như là không có và các cột Area Income, Age, Daily Time Spent on Site, và Daily Internet Usage đều là dữ liệu liên tục\n",
    "- Naive Bayes không yêu cầu lượng dữ liệu huấn luyện lớn để hoạt động tốt.\n",
    "- Độ chính xác khi sử dụng Naive Bayes cho ra là 97%, khá cao cho một mô hình phân lớp cơ bản.\n",
    "- Naive Bayes không yêu cầu xử lý phức tạp với dữ liệu (như tạo đặc trưng mới, tương tác giữa các đặc trưng), mà tập trung vào việc tính xác suất dựa trên các thuộc tính đã chọn."
   ]
  },
  {
   "cell_type": "markdown",
   "metadata": {},
   "source": [
    "<div style=\"text-align: left; font-family: 'Trebuchet MS', Arial, sans-serif; color: #8C3333; padding: 20px; font-size: 25px; font-weight: bold; border-radius: 0 0 0 0; background-color: #AFC8AD\">\n",
    "  3. Decision Tree 🔥\n",
    "</div>"
   ]
  },
  {
   "cell_type": "code",
   "execution_count": 6,
   "metadata": {},
   "outputs": [
    {
     "name": "stdout",
     "output_type": "stream",
     "text": [
      "Accuracy: 0.95\n",
      "Confusion Matrix:\n",
      "[[91  7]\n",
      " [ 3 99]]\n",
      "\n",
      "Classification Report:\n",
      "              precision    recall  f1-score   support\n",
      "\n",
      "           0       0.97      0.93      0.95        98\n",
      "           1       0.93      0.97      0.95       102\n",
      "\n",
      "    accuracy                           0.95       200\n",
      "   macro avg       0.95      0.95      0.95       200\n",
      "weighted avg       0.95      0.95      0.95       200\n",
      "\n"
     ]
    }
   ],
   "source": [
    "# Sử dụng Decision Tree, hãy xây dựng mô hình dự đoán target dựa trên các biến đầu vào.\n",
    "DT_model = DecisionTreeClassifier(random_state=random_state)\n",
    "\n",
    "DT_model.fit(X_train, y_train)\n",
    "\n",
    "y_pred = DT_model.predict(X_test)\n",
    "\n",
    "DT_accuracy = accuracy_score(y_test, y_pred)\n",
    "\n",
    "print(f'Accuracy: {DT_accuracy}')\n",
    "print(\"Confusion Matrix:\") \n",
    "print(confusion_matrix(y_test, y_pred)) \n",
    "print(\"\\nClassification Report:\") \n",
    "print(classification_report(y_test, y_pred))"
   ]
  },
  {
   "cell_type": "markdown",
   "metadata": {},
   "source": [
    "### **Nhận xét** 📈\n",
    "- Mô hình có khả năng nhận biết với độ chính xác cao (0.95).\n",
    "- Số lượng dự đoán sai (7 False Positives và 3 False Negative) là rất thấp, cho thấy mô hình có khả năng phân loại chính xác và ít nhầm lẫn, với độ nhạy của lớp \"Nhấn vào Ad\" cao hơn lớp \"Không nhấn vào Ad\".\n",
    "- Khả năng phân loại chính xác lớp \"Không nhấn vào Ad\" cao hơn lớp \"nhấn vào Ad\".\n",
    "- F1-score cao cho thấy sự cân bằng tốt giữa độ chính xác và độ nhạy.\n",
    "- Việc sử dụng Decision Tree có thể giúp việc biểu diễn dữ liệu trực quan hơn khi có thể vẽ cây quyết định.\n",
    "- Đồng thời cũng có thể sử dụng dữ liệu thô mà không cần chuẩn hóa."
   ]
  },
  {
   "cell_type": "markdown",
   "metadata": {},
   "source": [
    "<div style=\"text-align: left; font-family: 'Trebuchet MS', Arial, sans-serif; color: #8C3333; padding: 20px; font-size: 25px; font-weight: bold; border-radius: 0 0 0 0; background-color: #AFC8AD\">\n",
    "  4. Random Forest 🔥\n",
    "</div>"
   ]
  },
  {
   "cell_type": "code",
   "execution_count": 7,
   "metadata": {},
   "outputs": [
    {
     "name": "stdout",
     "output_type": "stream",
     "text": [
      "Accuracy: 0.97\n"
     ]
    }
   ],
   "source": [
    "# Sử dụng Random Forest, hãy xây dựng mô hình dự đoán target dựa trên các biến đầu vào.\n",
    "RF_model = RandomForestClassifier(random_state=random_state)\n",
    "RF_model.fit(X_train, y_train)\n",
    "\n",
    "y_pred = RF_model.predict(X_test)\n",
    "\n",
    "RF_accuracy = accuracy_score(y_test, y_pred)\n",
    "\n",
    "print(f'Accuracy: {RF_accuracy}')"
   ]
  },
  {
   "cell_type": "markdown",
   "metadata": {},
   "source": [
    "### **Nhận xét** 📈\n",
    "Thuật toán Random Forest (RF) là một mô hình học máy mạnh mẽ, đặc biệt hiệu quả với các bài toán phân loại và hồi quy. Dựa trên kết quả Accuracy = 0.97, đây là một kết quả rất tốt, cho thấy RF hoạt động hiệu quả với dữ liệu.\n",
    "\n",
    "- Với độ chính xác 97%, mô hình Random Forest đã phân loại rất tốt, chứng tỏ nó có thể nắm bắt được mối quan hệ giữa các biến đầu vào và biến mục tiêu.\n",
    "\n",
    "- Do Random Forest sử dụng nhiều cây quyết định (decision trees) và mỗi cây được huấn luyện trên một mẫu ngẫu nhiên, nó giảm thiểu nguy cơ overfitting so với việc sử dụng một cây quyết định duy nhất.\n",
    "\n",
    "- Random Forest có thể mô hình hóa các mối quan hệ phức tạp giữa các biến mà không yêu cầu giả định tuyến tính.\n",
    "\n",
    "- RF không bị ảnh hưởng nhiều bởi các giá trị ngoại lai hoặc dữ liệu nhiễu, nhờ vào sự tổng hợp kết quả từ nhiều cây."
   ]
  },
  {
   "cell_type": "markdown",
   "metadata": {},
   "source": [
    "## **ĐÁNH GIÁ CHẤT LƯỢNG MÔ HÌNH** 📝"
   ]
  },
  {
   "cell_type": "markdown",
   "metadata": {},
   "source": [
    "Sau khi đã xây dựng các mô hình, ta sẽ thực hiện đánh giá các mô hình"
   ]
  },
  {
   "cell_type": "markdown",
   "metadata": {},
   "source": [
    "<div style=\"text-align: left; font-family: 'Trebuchet MS', Arial, sans-serif; color: #8C3333; padding: 20px; font-size: 25px; font-weight: bold; border-radius: 0 0 0 0; background-color: #AFC8AD\">\n",
    "  1. Cross Validation với Precision 🔥\n",
    "</div>"
   ]
  },
  {
   "cell_type": "code",
   "execution_count": 8,
   "metadata": {},
   "outputs": [
    {
     "name": "stdout",
     "output_type": "stream",
     "text": [
      "Precision (Logistic Regression): 0.9758\n",
      "Precision (Naive Bayes): 0.9680\n",
      "Precision (Decision Tree): 0.9273\n",
      "Precision (Random Forest): 0.9622\n"
     ]
    }
   ],
   "source": [
    "# Sử dụng dụng Cross Validation với recall để đánh giá các mô hình\n",
    "LR_precision = cross_val_score(LR_model, X, y, cv=5, scoring='precision').mean()\n",
    "NB_precision = cross_val_score(NB_model, X, y, cv=5, scoring='precision').mean()\n",
    "DT_precision = cross_val_score(DT_model, X, y, cv=5, scoring='precision').mean()\n",
    "RF_precision = cross_val_score(RF_model, X, y, cv=5, scoring='precision').mean()\n",
    "\n",
    "print(f'Precision (Logistic Regression): {LR_precision:.4f}')\n",
    "print(f'Precision (Naive Bayes): {NB_precision:.4f}')\n",
    "print(f'Precision (Decision Tree): {DT_precision:.4f}')\n",
    "print(f'Precision (Random Forest): {RF_precision:.4f}')"
   ]
  },
  {
   "cell_type": "markdown",
   "metadata": {},
   "source": [
    "### **Nhận xét** 📈\n",
    "\n",
    "Trong bài toán dự đoán việc nhấp vào quảng cáo, với nhãn dương là hành động \"nhấp vào quảng cáo\", Precision là chỉ số quan trọng vì chúng ta muốn tối đa hóa độ chính xác khi dự đoán nhãn dương. Điều này giúp giảm thiểu các trường hợp dự đoán nhầm người không nhấp vào quảng cáo (nhãn âm) thành nhấp vào quảng cáo (nhãn dương), tránh gây lãng phí tài nguyên trong chiến dịch quảng cáo.\n",
    "\n",
    "- Logistic Regression (Precision: 0.9758): Logistic Regression có Precision cao nhất, cho thấy mô hình này rất hiệu quả trong việc dự đoán chính xác người sẽ nhấp vào quảng cáo. Đây là lựa chọn hàng đầu nếu mục tiêu là tối ưu hóa các chiến dịch quảng cáo dựa trên dự đoán nhãn dương chính xác.\n",
    "\n",
    "- Naive Bayes (Precision: 0.9680): Naive Bayes có Precision gần ngang với Logistic Regression, cũng là một lựa chọn tốt. Dù không mạnh bằng Logistic Regression, mô hình này vẫn đáng cân nhắc khi cần một giải pháp đơn giản và hiệu quả.\n",
    "\n",
    "- Decision Tree (Precision: 0.9273): Precision thấp nhất của Decision Tree cho thấy mô hình này dễ nhầm lẫn hơn giữa nhãn dương và nhãn âm. Điều này có thể gây lãng phí chi phí quảng cáo vì dự đoán sai nhiều trường hợp không nhấp vào quảng cáo thành nhấp vào quảng cáo.\n",
    "\n",
    "- Random Forest (Precision: 0.9622): Random Forest cải thiện đáng kể Precision so với Decision Tree, chứng tỏ mô hình này có khả năng khái quát tốt hơn nhờ tổng hợp nhiều cây quyết định. Đây là một lựa chọn phù hợp nếu cần sự cân bằng giữa hiệu suất cao và khả năng xử lý dữ liệu phức tạp.\n",
    "\n",
    "Kết luận: Logistic Regression với Precision 0.9758 là lựa chọn tốt nhất cho bài toán này, vì nó dự đoán chính xác nhất hành động nhấp vào quảng cáo, đáp ứng được mục tiêu tối ưu hóa tài nguyên quảng cáo. Tuy nhiên, Random Forest và Naive Bayes cũng có thể được cân nhắc dựa trên các yếu tố khác như tốc độ huấn luyện, triển khai, và độ phức tạp của dữ liệu."
   ]
  },
  {
   "cell_type": "markdown",
   "metadata": {},
   "source": [
    "<div style=\"text-align: left; font-family: 'Trebuchet MS', Arial, sans-serif; color: #8C3333; padding: 20px; font-size: 25px; font-weight: bold; border-radius: 0 0 0 0; background-color: #AFC8AD\">\n",
    "  2. Cross Validation với Recall 🔥\n",
    "</div>"
   ]
  },
  {
   "cell_type": "code",
   "execution_count": 9,
   "metadata": {},
   "outputs": [
    {
     "name": "stdout",
     "output_type": "stream",
     "text": [
      "Recall (Logistic Regression): 0.9580\n",
      "Recall (Naive Bayes): 0.9620\n",
      "Recall (Decision Tree): 0.9440\n",
      "Recall (Random Forest): 0.9580\n"
     ]
    }
   ],
   "source": [
    "# Sử dụng dụng Cross Validation với Recall để đánh giá các mô hình\n",
    "LR_recall = cross_val_score(LR_model, X, y, cv=5, scoring='recall').mean()\n",
    "NB_recall = cross_val_score(NB_model, X, y, cv=5, scoring='recall').mean()\n",
    "DT_recall = cross_val_score(DT_model, X, y, cv=5, scoring='recall').mean()\n",
    "RF_recall = cross_val_score(RF_model, X, y, cv=5, scoring='recall').mean()\n",
    "\n",
    "print(f'Recall (Logistic Regression): {LR_recall:.4f}')\n",
    "print(f'Recall (Naive Bayes): {NB_recall:.4f}')\n",
    "print(f'Recall (Decision Tree): {DT_recall:.4f}')\n",
    "print(f'Recall (Random Forest): {RF_recall:.4f}')"
   ]
  },
  {
   "cell_type": "markdown",
   "metadata": {},
   "source": [
    "### **Nhận xét** 📈\n",
    "- ..."
   ]
  },
  {
   "cell_type": "markdown",
   "metadata": {},
   "source": [
    "<div style=\"text-align: left; font-family: 'Trebuchet MS', Arial, sans-serif; color: #8C3333; padding: 20px; font-size: 25px; font-weight: bold; border-radius: 0 0 0 0; background-color: #AFC8AD\">\n",
    "  3. Cross Validation với F1 🔥\n",
    "</div>"
   ]
  },
  {
   "cell_type": "code",
   "execution_count": 10,
   "metadata": {},
   "outputs": [
    {
     "name": "stdout",
     "output_type": "stream",
     "text": [
      "F1 (Logistic Regression): 0.9666\n",
      "F1 (Naive Bayes): 0.9648\n",
      "F1 (Decision Tree): 0.9347\n",
      "F1 (Random Forest): 0.9599\n"
     ]
    }
   ],
   "source": [
    "# # Sử dụng dụng Cross Validation với F1 để đánh giá các mô hình\n",
    "LR_f1 = cross_val_score(LR_model, X, y, cv=5, scoring='f1').mean()\n",
    "NB_f1 = cross_val_score(NB_model, X, y, cv=5, scoring='f1').mean()\n",
    "DT_f1 = cross_val_score(DT_model, X, y, cv=5, scoring='f1').mean()\n",
    "RF_f1 = cross_val_score(RF_model, X, y, cv=5, scoring='f1').mean()\n",
    "\n",
    "print(f'F1 (Logistic Regression): {LR_f1:.4f}')\n",
    "print(f'F1 (Naive Bayes): {NB_f1:.4f}')\n",
    "print(f'F1 (Decision Tree): {DT_f1:.4f}')\n",
    "print(f'F1 (Random Forest): {RF_f1:.4f}')"
   ]
  },
  {
   "cell_type": "markdown",
   "metadata": {},
   "source": [
    "### **Nhận xét** 📈\n",
    "- ..."
   ]
  },
  {
   "cell_type": "markdown",
   "metadata": {},
   "source": [
    "## **KẾT LUẬN** 📝"
   ]
  },
  {
   "cell_type": "markdown",
   "metadata": {},
   "source": []
  }
 ],
 "metadata": {
  "kernelspec": {
   "display_name": "venv",
   "language": "python",
   "name": "python3"
  },
  "language_info": {
   "codemirror_mode": {
    "name": "ipython",
    "version": 3
   },
   "file_extension": ".py",
   "mimetype": "text/x-python",
   "name": "python",
   "nbconvert_exporter": "python",
   "pygments_lexer": "ipython3",
   "version": "3.12.8"
  }
 },
 "nbformat": 4,
 "nbformat_minor": 2
}
