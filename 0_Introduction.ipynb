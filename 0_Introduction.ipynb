{
 "cells": [
  {
   "cell_type": "markdown",
   "metadata": {},
   "source": [
    "<div style=\"text-align: center; background-color: #750E21; font-family: 'Trebuchet MS', Arial, sans-serif; color: white; padding: 20px; font-size: 40px; font-weight: bold; border-radius: 0 0 0 0; box-shadow: 0px 6px 8px rgba(0, 0, 0, 0.2);\">\n",
    "  PROJECT: ... 📌\n",
    "</div>"
   ]
  },
  {
   "cell_type": "markdown",
   "metadata": {},
   "source": [
    "<div style=\"text-align: center; background-color: #0766AD; font-family: 'Trebuchet MS', Arial, sans-serif; color: white; padding: 20px; font-size: 40px; font-weight: bold; border-radius: 0 0 0 0; box-shadow: 0px 6px 8px rgba(0, 0, 0, 0.2);\">\n",
    "  Stage 0 - INTRODUCTION 📌\n",
    "</div>"
   ]
  },
  {
   "cell_type": "markdown",
   "metadata": {},
   "source": [
    "## Group Introduction"
   ]
  },
  {
   "cell_type": "markdown",
   "metadata": {},
   "source": [
    "- Course: Applied Data Analytics\n",
    "- Class: 21HTTT\n",
    "- Semester: 1/24-25\n",
    "- Group ID: 2\n",
    "- Group member: \n",
    "    - Trịnh Hoàng Phước Sang   (Student ID: 21127416  |  Email: thpsang21@clc.fitus.edu.vn)\n",
    "    - Nguyễn Lê Hoàng Kha      (Student ID: 21127512  |  Email: nlhkha21@clc.fitus.edu.vn)\n",
    "    - Trương Vĩnh Phúc         (Student ID: 21127673  |  Email: tvphuc21@clc.fitus.edu.vn)\n",
    "    - Vũ Minh Quỳnh            (Student ID: 21127682  |  Email: vmquynh21@clc.fitus.edu.vn)\n",
    "- Duration: 16/11/2024 to 14/12/2024"
   ]
  },
  {
   "cell_type": "markdown",
   "metadata": {},
   "source": [
    "## Project Introduction"
   ]
  },
  {
   "cell_type": "markdown",
   "metadata": {},
   "source": [
    "- Dataset: `2425_QC.csv`\n",
    "\n",
    "- **Áp dụng các kiến thức trên lý thuyết cho các yêu cầu liên quan.**\n",
    "\n",
    "- **Quan sát và phân tích tập dữ liệu (EDA), tiền xử lý dữ liệu và cài đặt mô hình với 1 số yêu cầu gợi ý sau:**\n",
    "    1. Kiểm tra dữ liệu missing, duplicates, outliers\n",
    "\n",
    "    2. Kiểm tra sự cân bằng giữa nhãn: click/không click quảng cáo \n",
    "\n",
    "    3. Xử lý dữ liệu missing, duplicates, outliers \n",
    "\n",
    "    4. Phân tích đơn biến (Univariate Analysis), Bivariate Analysis \n",
    "        - VD: Quan sát tỷ lệ click quảng cáo theo từng độ tuổi; theo thu nhập, giới tính. Nhận xét\n",
    "        - VD: Kiểm tra sự tương quan giữa các thuộc tính đối với việc nhấp quảng cáo. \n",
    "        - Loại bỏ những thuộc tính không cần thiết \n",
    "\n",
    "    5. Kết luận các điểm chính quan sát được từ dữ liệu từ các gợi ý trên \n",
    "\n",
    "    6. Quan sát và nhận xét về: \n",
    "        - Thời gian sử dụng website theo độ tuổi, theo thu nhập hoặc theo thành phố sinh sống. \n",
    "        - Thời điểm trong ngày (sáng, trưa, chiều, tối)  \n",
    "        - Chủ đề quản cáo được quan tâm nhất hoặc ít được quan tâm nhất \n",
    "\n",
    "    7. Dự đoán khả năng 1 người dùng có chọn xem quảng cáo được hiển thị hay không (lựa chọn và cài đặt thuật toán, cài đặt ít nhất 2 thuật toán để so sánh với nhau) \n",
    "        - Kiểm tra sự ảnh hưởng của thuộc tính thu nhập có ảnh hưởng đến mô hình dự đoán trên hay không, giải thích và kết luận. \n",
    "        - Các thuộc tính nào có mối tương quan đến dự đoán khả năng click/không vào quảng cáo? \n",
    "        \n",
    "    8. Đánh giá chất lượng mô hình sử dụng cross validation với các độ đo precision, recall, f1 trên tập train, test. Kết luận mô hình được lựa chọn"
   ]
  },
  {
   "cell_type": "markdown",
   "metadata": {},
   "source": [
    "## Planning"
   ]
  },
  {
   "cell_type": "markdown",
   "metadata": {},
   "source": [
    "**List of tool(s):**\n",
    "- GitHub: The group's common workspace, used to effectively manage the entire source code of the project. Follow detailed at https://github.com/Alexieve/Applied-Data-Analytics\n",
    "- Jira: The group's common workspace, used to assign work, manage and evaluate the level of completion\n",
    "\n",
    "**List of Tasks**"
   ]
  }
 ],
 "metadata": {
  "language_info": {
   "name": "python"
  }
 },
 "nbformat": 4,
 "nbformat_minor": 2
}
